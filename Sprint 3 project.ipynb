{
 "cells": [
  {
   "cell_type": "markdown",
   "id": "9cb0f383",
   "metadata": {},
   "source": [
    "<div style=\"border: solid blue 2px; padding: 20px\">\n",
    "\n",
    "    \n",
    "Hello Ekay,\n",
    "\n",
    "Thank you for thoroughly addressing all the points raised in the previous reviews.\n",
    "\n",
    "I truly appreciate the care you’ve taken in fixing each issue. The project looks excellent now.\n",
    "\n",
    "Congratulations once again on your journey and accomplishments. Your project has been accepted — fantastic work! This is just the beginning of many exciting milestones ahead, and I’m confident you’ll continue to grow and excel with each step you take.\n",
    "\n",
    "Keep up the amazing work! 🪄"
   ]
  },
  {
   "cell_type": "markdown",
   "id": "7d65c5c8",
   "metadata": {},
   "source": [
    "<div style=\"border: solid blue 2px; padding: 20px\">\n",
    "\n",
    "Hello Ekay,\n",
    "\n",
    "Thank you for the updates! You've addressed most of the critical points, which is great to see. Just a few remaining comments in red need your attention.\n",
    "\n",
    "Could you please resolve those and resubmit the project?\n",
    "\n",
    "Looking forward to receiving the updated version!\n",
    "\n"
   ]
  },
  {
   "cell_type": "markdown",
   "id": "ccd9d631",
   "metadata": {},
   "source": [
    "<div style=\"border:solid blue 2px; padding: 20px\">\n",
    "  \n",
    "Hello Ekay,\n",
    "\n",
    "Thanks for the udpates you've made. Quite a few red comments remained unaddressed unfortunately. As I mentioned in my note below, I won't be able to approve your project until the issues described in the red comments are not fixed.\n",
    "    \n",
    "Could you please fix them and send the project back to me?\n",
    "    \n",
    "Looking forward to getting the updated version.\n",
    "    \n",
    "    "
   ]
  },
  {
   "cell_type": "markdown",
   "id": "7f34b986",
   "metadata": {},
   "source": [
    "<div style=\"border:solid blue 2px; padding: 20px\">\n",
    "  \n",
    "Hello Ekay,\n",
    "\n",
    "Congratulations on submitting your second Python practical project! 🎉\n",
    "\n",
    "Another project submitted — fantastic work! Every step you take brings you closer to mastering the skills needed to excel in Data. It’s clear you’re putting in the effort, and that dedication is something to be proud of.\n",
    "\n",
    "Keep up the great momentum, and let’s dive into this project together! You’ll find specific notes inside the project file, marked green, yellow or red.\n",
    "    \n",
    "\n",
    "**Note:** Please do not remove or change my comments - they will help me in the future reviews and will make the process smoother for both of us. \n",
    "\n",
    "<div class=\"alert alert-success\"; style=\"border-left: 7px solid green\">\n",
    "<b>✅ Reviewer's comment</b> \n",
    "    \n",
    "Such comment will mark efficient solutions and good ideas that can be used in other projects. It will also point at the document formatting, which was done for you in this project, but you will need to do it yourself in the future ones.\n",
    "</div>\n",
    "\n",
    "<div class=\"alert alert-warning\"; style=\"border-left: 7px solid gold\">\n",
    "<b>⚠️ Reviewer's comment</b> \n",
    "    \n",
    "The parts marked with yellow comments indicate that there is room for optimisation. Though the correction is not necessary it is good if you implement it.\n",
    "</div>\n",
    "\n",
    "<div class=\"alert alert-danger\"; style=\"border-left: 7px solid red\">\n",
    "<b>⛔️ Reviewer's comment</b> \n",
    "    \n",
    "If you see such a comment, it means that there is a problem that needs to be fixed. Please note that I won't be able to accept your project until the issue is resolved.\n",
    "</div>\n",
    "\n",
    "You are also very welcome to leave your comments, describe the corrections you've done or ask me questions, marking them with a different colour. You can use the example below (copy the code and use it in Markdown-type cell): \n",
    "\n",
    "<div class=\"alert alert-info\"; style=\"border-left: 7px solid blue\">\n",
    "<b>Student's comment</b></div>\n",
    "    \n",
    "    \n",
    "Don’t be discouraged - revisions are part of the learning process! Take your time to review the feedback and make the necessary adjustments. Resubmit when you’re ready, and I’m confident you’ll nail it on the next go. Remember, every challenge is an opportunity to grow. You’ve got this! 🏄\n",
    "    \n",
    "    "
   ]
  },
  {
   "cell_type": "markdown",
   "id": "41f4181b",
   "metadata": {},
   "source": [
    "# Exploring Instacart Customer Purchasing Patterns through Exploratory Data Analysis\n",
    "In this project, we aim to analyze customer shopping patterns on Instacart using a dataset derived from a publicly available 2017 Kaggle competition dataset\n",
    "This analysis can help businesses optimize their services and provide a more tailored shopping experience for their users.\n",
    "Objective:\n",
    "The primary goal of this project is to clean and analyze the Instacart dataset to gain insights into customer shopping behaviors. Specifically, we aim to:\n",
    "\n",
    "   Understand the timing of customer orders (days of the week, hours of the day).\n",
    "   Analyze order patterns, including reorder frequencies and order sizes.\n",
    "   Identify the most popular products and those that are frequently reordered.\n",
    "Datasets:\n",
    "instacart_orders.csv: \n",
    "   Key columns: order_id, user_id, order_number, order_dow, order_hour_of_day, days_since_prior_order.\n",
    "products.csv: \n",
    "   Key columns: product_id, product_name, aisle_id, department_id.\n",
    "order_products.csv:\n",
    "   order_id, product_id, add_to_cart_order, reordered.\n",
    "aisles.csv:\n",
    "   Key columns: aisle_id, aisle.\n",
    "departments.csv:\n",
    "   Key columns: department_id, department.\n",
    "Plan:\n",
    "   To achieve the objectives, the following steps will be undertaken:\n",
    "      Data Preprocessing\n",
    "      Exploratory Data Analysis (EDA)\n",
    "      Data Visualization\n",
    "      Insights and Reporting\n",
    "By following this structured approach, we aim to deliver a comprehensive analysis of Instacart shopping patterns and provide actionable insights.    "
   ]
  },
  {
   "cell_type": "markdown",
   "id": "23d282c9",
   "metadata": {},
   "source": [
    "<div class=\"alert alert-success\"; style=\"border-left: 7px solid green\">\n",
    "<b>✅ Reviewer's comment, v. 2</b> \n",
    "    \n",
    "✔️ \n",
    "    \n",
    "\n",
    "\n",
    "<div class=\"alert alert-danger\"; style=\"border-left: 7px solid red\">\n",
    "<b>⛔️ Reviewer's comment, v. 1</b> \n",
    "\n",
    "\n",
    "A project title and introduction are essential to provide context and clarity to your work. Please ensure these elements are included.\n",
    "\n",
    "For the introduction, it would be most effective to cover the following:\n",
    "\n",
    "- A brief overview of the situation or problem being addressed;\n",
    "- A clear statement of the project's objective, outlining what you aim to achieve;\n",
    "- A description of the dataset(s) you'll be using, highlighting key attributes and any relevant details;\n",
    "- A brief plan or strategy detailing how you intend to reach your goal.\n",
    "\n",
    "</div>\n"
   ]
  },
  {
   "cell_type": "code",
   "execution_count": 1,
   "id": "fbf1adab",
   "metadata": {},
   "outputs": [],
   "source": [
    "import pandas as pd\n",
    "import numpy as np\n",
    "import matplotlib.pyplot as plt"
   ]
  },
  {
   "cell_type": "code",
   "execution_count": 2,
   "id": "ad36396d",
   "metadata": {},
   "outputs": [
    {
     "name": "stdout",
     "output_type": "stream",
     "text": [
      "<class 'pandas.core.frame.DataFrame'>\n",
      "RangeIndex: 478967 entries, 0 to 478966\n",
      "Data columns (total 6 columns):\n",
      " #   Column                  Non-Null Count   Dtype  \n",
      "---  ------                  --------------   -----  \n",
      " 0   order_id                478967 non-null  int64  \n",
      " 1   user_id                 478967 non-null  int64  \n",
      " 2   order_number            478967 non-null  int64  \n",
      " 3   order_dow               478967 non-null  int64  \n",
      " 4   order_hour_of_day       478967 non-null  int64  \n",
      " 5   days_since_prior_order  450148 non-null  float64\n",
      "dtypes: float64(1), int64(5)\n",
      "memory usage: 21.9 MB\n"
     ]
    },
    {
     "data": {
      "text/html": [
       "<div>\n",
       "<style scoped>\n",
       "    .dataframe tbody tr th:only-of-type {\n",
       "        vertical-align: middle;\n",
       "    }\n",
       "\n",
       "    .dataframe tbody tr th {\n",
       "        vertical-align: top;\n",
       "    }\n",
       "\n",
       "    .dataframe thead th {\n",
       "        text-align: right;\n",
       "    }\n",
       "</style>\n",
       "<table border=\"1\" class=\"dataframe\">\n",
       "  <thead>\n",
       "    <tr style=\"text-align: right;\">\n",
       "      <th></th>\n",
       "      <th>order_id</th>\n",
       "      <th>user_id</th>\n",
       "      <th>order_number</th>\n",
       "      <th>order_dow</th>\n",
       "      <th>order_hour_of_day</th>\n",
       "      <th>days_since_prior_order</th>\n",
       "    </tr>\n",
       "  </thead>\n",
       "  <tbody>\n",
       "    <tr>\n",
       "      <th>0</th>\n",
       "      <td>1515936</td>\n",
       "      <td>183418</td>\n",
       "      <td>11</td>\n",
       "      <td>6</td>\n",
       "      <td>13</td>\n",
       "      <td>30.0</td>\n",
       "    </tr>\n",
       "    <tr>\n",
       "      <th>1</th>\n",
       "      <td>1690866</td>\n",
       "      <td>163593</td>\n",
       "      <td>5</td>\n",
       "      <td>5</td>\n",
       "      <td>12</td>\n",
       "      <td>9.0</td>\n",
       "    </tr>\n",
       "    <tr>\n",
       "      <th>2</th>\n",
       "      <td>1454967</td>\n",
       "      <td>39980</td>\n",
       "      <td>4</td>\n",
       "      <td>5</td>\n",
       "      <td>19</td>\n",
       "      <td>2.0</td>\n",
       "    </tr>\n",
       "    <tr>\n",
       "      <th>3</th>\n",
       "      <td>1768857</td>\n",
       "      <td>82516</td>\n",
       "      <td>56</td>\n",
       "      <td>0</td>\n",
       "      <td>20</td>\n",
       "      <td>10.0</td>\n",
       "    </tr>\n",
       "    <tr>\n",
       "      <th>4</th>\n",
       "      <td>3007858</td>\n",
       "      <td>196724</td>\n",
       "      <td>2</td>\n",
       "      <td>4</td>\n",
       "      <td>12</td>\n",
       "      <td>17.0</td>\n",
       "    </tr>\n",
       "  </tbody>\n",
       "</table>\n",
       "</div>"
      ],
      "text/plain": [
       "   order_id  user_id  order_number  order_dow  order_hour_of_day  \\\n",
       "0   1515936   183418            11          6                 13   \n",
       "1   1690866   163593             5          5                 12   \n",
       "2   1454967    39980             4          5                 19   \n",
       "3   1768857    82516            56          0                 20   \n",
       "4   3007858   196724             2          4                 12   \n",
       "\n",
       "   days_since_prior_order  \n",
       "0                    30.0  \n",
       "1                     9.0  \n",
       "2                     2.0  \n",
       "3                    10.0  \n",
       "4                    17.0  "
      ]
     },
     "execution_count": 2,
     "metadata": {},
     "output_type": "execute_result"
    }
   ],
   "source": [
    "instacart_orders = pd.read_csv('/datasets/instacart_orders.csv', sep=';')\n",
    "instacart_orders.info()\n",
    "instacart_orders.head()"
   ]
  },
  {
   "cell_type": "code",
   "execution_count": 3,
   "id": "ad6a1efa",
   "metadata": {},
   "outputs": [
    {
     "name": "stdout",
     "output_type": "stream",
     "text": [
      "<class 'pandas.core.frame.DataFrame'>\n",
      "RangeIndex: 49694 entries, 0 to 49693\n",
      "Data columns (total 4 columns):\n",
      " #   Column         Non-Null Count  Dtype \n",
      "---  ------         --------------  ----- \n",
      " 0   product_id     49694 non-null  int64 \n",
      " 1   product_name   48436 non-null  object\n",
      " 2   aisle_id       49694 non-null  int64 \n",
      " 3   department_id  49694 non-null  int64 \n",
      "dtypes: int64(3), object(1)\n",
      "memory usage: 1.5+ MB\n"
     ]
    },
    {
     "data": {
      "text/html": [
       "<div>\n",
       "<style scoped>\n",
       "    .dataframe tbody tr th:only-of-type {\n",
       "        vertical-align: middle;\n",
       "    }\n",
       "\n",
       "    .dataframe tbody tr th {\n",
       "        vertical-align: top;\n",
       "    }\n",
       "\n",
       "    .dataframe thead th {\n",
       "        text-align: right;\n",
       "    }\n",
       "</style>\n",
       "<table border=\"1\" class=\"dataframe\">\n",
       "  <thead>\n",
       "    <tr style=\"text-align: right;\">\n",
       "      <th></th>\n",
       "      <th>product_id</th>\n",
       "      <th>product_name</th>\n",
       "      <th>aisle_id</th>\n",
       "      <th>department_id</th>\n",
       "    </tr>\n",
       "  </thead>\n",
       "  <tbody>\n",
       "    <tr>\n",
       "      <th>0</th>\n",
       "      <td>1</td>\n",
       "      <td>Chocolate Sandwich Cookies</td>\n",
       "      <td>61</td>\n",
       "      <td>19</td>\n",
       "    </tr>\n",
       "    <tr>\n",
       "      <th>1</th>\n",
       "      <td>2</td>\n",
       "      <td>All-Seasons Salt</td>\n",
       "      <td>104</td>\n",
       "      <td>13</td>\n",
       "    </tr>\n",
       "    <tr>\n",
       "      <th>2</th>\n",
       "      <td>3</td>\n",
       "      <td>Robust Golden Unsweetened Oolong Tea</td>\n",
       "      <td>94</td>\n",
       "      <td>7</td>\n",
       "    </tr>\n",
       "    <tr>\n",
       "      <th>3</th>\n",
       "      <td>4</td>\n",
       "      <td>Smart Ones Classic Favorites Mini Rigatoni Wit...</td>\n",
       "      <td>38</td>\n",
       "      <td>1</td>\n",
       "    </tr>\n",
       "    <tr>\n",
       "      <th>4</th>\n",
       "      <td>5</td>\n",
       "      <td>Green Chile Anytime Sauce</td>\n",
       "      <td>5</td>\n",
       "      <td>13</td>\n",
       "    </tr>\n",
       "  </tbody>\n",
       "</table>\n",
       "</div>"
      ],
      "text/plain": [
       "   product_id                                       product_name  aisle_id  \\\n",
       "0           1                         Chocolate Sandwich Cookies        61   \n",
       "1           2                                   All-Seasons Salt       104   \n",
       "2           3               Robust Golden Unsweetened Oolong Tea        94   \n",
       "3           4  Smart Ones Classic Favorites Mini Rigatoni Wit...        38   \n",
       "4           5                          Green Chile Anytime Sauce         5   \n",
       "\n",
       "   department_id  \n",
       "0             19  \n",
       "1             13  \n",
       "2              7  \n",
       "3              1  \n",
       "4             13  "
      ]
     },
     "execution_count": 3,
     "metadata": {},
     "output_type": "execute_result"
    }
   ],
   "source": [
    "products = pd.read_csv('/datasets/products.csv', sep=';')\n",
    "products.info()\n",
    "products.head()"
   ]
  },
  {
   "cell_type": "code",
   "execution_count": 4,
   "id": "5130e05e",
   "metadata": {},
   "outputs": [
    {
     "name": "stdout",
     "output_type": "stream",
     "text": [
      "<class 'pandas.core.frame.DataFrame'>\n",
      "RangeIndex: 4545007 entries, 0 to 4545006\n",
      "Data columns (total 4 columns):\n",
      " #   Column             Dtype  \n",
      "---  ------             -----  \n",
      " 0   order_id           int64  \n",
      " 1   product_id         int64  \n",
      " 2   add_to_cart_order  float64\n",
      " 3   reordered          int64  \n",
      "dtypes: float64(1), int64(3)\n",
      "memory usage: 138.7 MB\n"
     ]
    },
    {
     "data": {
      "text/html": [
       "<div>\n",
       "<style scoped>\n",
       "    .dataframe tbody tr th:only-of-type {\n",
       "        vertical-align: middle;\n",
       "    }\n",
       "\n",
       "    .dataframe tbody tr th {\n",
       "        vertical-align: top;\n",
       "    }\n",
       "\n",
       "    .dataframe thead th {\n",
       "        text-align: right;\n",
       "    }\n",
       "</style>\n",
       "<table border=\"1\" class=\"dataframe\">\n",
       "  <thead>\n",
       "    <tr style=\"text-align: right;\">\n",
       "      <th></th>\n",
       "      <th>order_id</th>\n",
       "      <th>product_id</th>\n",
       "      <th>add_to_cart_order</th>\n",
       "      <th>reordered</th>\n",
       "    </tr>\n",
       "  </thead>\n",
       "  <tbody>\n",
       "    <tr>\n",
       "      <th>0</th>\n",
       "      <td>2141543</td>\n",
       "      <td>11440</td>\n",
       "      <td>17.0</td>\n",
       "      <td>0</td>\n",
       "    </tr>\n",
       "    <tr>\n",
       "      <th>1</th>\n",
       "      <td>567889</td>\n",
       "      <td>1560</td>\n",
       "      <td>1.0</td>\n",
       "      <td>1</td>\n",
       "    </tr>\n",
       "    <tr>\n",
       "      <th>2</th>\n",
       "      <td>2261212</td>\n",
       "      <td>26683</td>\n",
       "      <td>1.0</td>\n",
       "      <td>1</td>\n",
       "    </tr>\n",
       "    <tr>\n",
       "      <th>3</th>\n",
       "      <td>491251</td>\n",
       "      <td>8670</td>\n",
       "      <td>35.0</td>\n",
       "      <td>1</td>\n",
       "    </tr>\n",
       "    <tr>\n",
       "      <th>4</th>\n",
       "      <td>2571142</td>\n",
       "      <td>1940</td>\n",
       "      <td>5.0</td>\n",
       "      <td>1</td>\n",
       "    </tr>\n",
       "  </tbody>\n",
       "</table>\n",
       "</div>"
      ],
      "text/plain": [
       "   order_id  product_id  add_to_cart_order  reordered\n",
       "0   2141543       11440               17.0          0\n",
       "1    567889        1560                1.0          1\n",
       "2   2261212       26683                1.0          1\n",
       "3    491251        8670               35.0          1\n",
       "4   2571142        1940                5.0          1"
      ]
     },
     "execution_count": 4,
     "metadata": {},
     "output_type": "execute_result"
    }
   ],
   "source": [
    "order_products = pd.read_csv('/datasets/order_products.csv', sep=';')\n",
    "order_products.info()\n",
    "order_products.head()"
   ]
  },
  {
   "cell_type": "code",
   "execution_count": 5,
   "id": "d8370c05",
   "metadata": {},
   "outputs": [
    {
     "name": "stdout",
     "output_type": "stream",
     "text": [
      "<class 'pandas.core.frame.DataFrame'>\n",
      "RangeIndex: 134 entries, 0 to 133\n",
      "Data columns (total 2 columns):\n",
      " #   Column    Non-Null Count  Dtype \n",
      "---  ------    --------------  ----- \n",
      " 0   aisle_id  134 non-null    int64 \n",
      " 1   aisle     134 non-null    object\n",
      "dtypes: int64(1), object(1)\n",
      "memory usage: 2.2+ KB\n"
     ]
    },
    {
     "data": {
      "text/html": [
       "<div>\n",
       "<style scoped>\n",
       "    .dataframe tbody tr th:only-of-type {\n",
       "        vertical-align: middle;\n",
       "    }\n",
       "\n",
       "    .dataframe tbody tr th {\n",
       "        vertical-align: top;\n",
       "    }\n",
       "\n",
       "    .dataframe thead th {\n",
       "        text-align: right;\n",
       "    }\n",
       "</style>\n",
       "<table border=\"1\" class=\"dataframe\">\n",
       "  <thead>\n",
       "    <tr style=\"text-align: right;\">\n",
       "      <th></th>\n",
       "      <th>aisle_id</th>\n",
       "      <th>aisle</th>\n",
       "    </tr>\n",
       "  </thead>\n",
       "  <tbody>\n",
       "    <tr>\n",
       "      <th>0</th>\n",
       "      <td>1</td>\n",
       "      <td>prepared soups salads</td>\n",
       "    </tr>\n",
       "    <tr>\n",
       "      <th>1</th>\n",
       "      <td>2</td>\n",
       "      <td>specialty cheeses</td>\n",
       "    </tr>\n",
       "    <tr>\n",
       "      <th>2</th>\n",
       "      <td>3</td>\n",
       "      <td>energy granola bars</td>\n",
       "    </tr>\n",
       "    <tr>\n",
       "      <th>3</th>\n",
       "      <td>4</td>\n",
       "      <td>instant foods</td>\n",
       "    </tr>\n",
       "    <tr>\n",
       "      <th>4</th>\n",
       "      <td>5</td>\n",
       "      <td>marinades meat preparation</td>\n",
       "    </tr>\n",
       "  </tbody>\n",
       "</table>\n",
       "</div>"
      ],
      "text/plain": [
       "   aisle_id                       aisle\n",
       "0         1       prepared soups salads\n",
       "1         2           specialty cheeses\n",
       "2         3         energy granola bars\n",
       "3         4               instant foods\n",
       "4         5  marinades meat preparation"
      ]
     },
     "execution_count": 5,
     "metadata": {},
     "output_type": "execute_result"
    }
   ],
   "source": [
    "aisles = pd.read_csv('/datasets/aisles.csv', sep=';')\n",
    "aisles.info()\n",
    "aisles.head()"
   ]
  },
  {
   "cell_type": "code",
   "execution_count": 6,
   "id": "59e2090f",
   "metadata": {},
   "outputs": [
    {
     "name": "stdout",
     "output_type": "stream",
     "text": [
      "<class 'pandas.core.frame.DataFrame'>\n",
      "RangeIndex: 21 entries, 0 to 20\n",
      "Data columns (total 2 columns):\n",
      " #   Column         Non-Null Count  Dtype \n",
      "---  ------         --------------  ----- \n",
      " 0   department_id  21 non-null     int64 \n",
      " 1   department     21 non-null     object\n",
      "dtypes: int64(1), object(1)\n",
      "memory usage: 464.0+ bytes\n"
     ]
    },
    {
     "data": {
      "text/html": [
       "<div>\n",
       "<style scoped>\n",
       "    .dataframe tbody tr th:only-of-type {\n",
       "        vertical-align: middle;\n",
       "    }\n",
       "\n",
       "    .dataframe tbody tr th {\n",
       "        vertical-align: top;\n",
       "    }\n",
       "\n",
       "    .dataframe thead th {\n",
       "        text-align: right;\n",
       "    }\n",
       "</style>\n",
       "<table border=\"1\" class=\"dataframe\">\n",
       "  <thead>\n",
       "    <tr style=\"text-align: right;\">\n",
       "      <th></th>\n",
       "      <th>department_id</th>\n",
       "      <th>department</th>\n",
       "    </tr>\n",
       "  </thead>\n",
       "  <tbody>\n",
       "    <tr>\n",
       "      <th>0</th>\n",
       "      <td>1</td>\n",
       "      <td>frozen</td>\n",
       "    </tr>\n",
       "    <tr>\n",
       "      <th>1</th>\n",
       "      <td>2</td>\n",
       "      <td>other</td>\n",
       "    </tr>\n",
       "    <tr>\n",
       "      <th>2</th>\n",
       "      <td>3</td>\n",
       "      <td>bakery</td>\n",
       "    </tr>\n",
       "    <tr>\n",
       "      <th>3</th>\n",
       "      <td>4</td>\n",
       "      <td>produce</td>\n",
       "    </tr>\n",
       "    <tr>\n",
       "      <th>4</th>\n",
       "      <td>5</td>\n",
       "      <td>alcohol</td>\n",
       "    </tr>\n",
       "  </tbody>\n",
       "</table>\n",
       "</div>"
      ],
      "text/plain": [
       "   department_id department\n",
       "0              1     frozen\n",
       "1              2      other\n",
       "2              3     bakery\n",
       "3              4    produce\n",
       "4              5    alcohol"
      ]
     },
     "execution_count": 6,
     "metadata": {},
     "output_type": "execute_result"
    }
   ],
   "source": [
    "departments = pd.read_csv('/datasets/departments.csv', sep=';')\n",
    "departments.info()\n",
    "departments.head()"
   ]
  },
  {
   "cell_type": "markdown",
   "id": "cb7a9204",
   "metadata": {},
   "source": [
    "Observations and Conclusion:\n",
    "Instacart Orders:\n",
    "\n",
    "Data Types: The instacart_orders DataFrame contains mostly integers, except for the days_since_prior_order column, which is a float due to missing values.\n",
    "Missing Values: The days_since_prior_order column has some missing values (28,819 missing entries). This column may need further investigation or imputation based on the business context.\n",
    "Conclusion: This dataset looks clean overall, but the missing values in days_since_prior_order may need to be handled based on how it affects the analysis.\n",
    "Products:\n",
    "\n",
    "Data Types: The products DataFrame contains integer columns and a single object (string) column for product names.\n",
    "Missing Values: The product_name column has missing values (1,258 missing entries).\n",
    "Conclusion: Missing product names need attention since they could impact any analysis that relies on product identification.\n",
    "Order Products:\n",
    "\n",
    "Data Types: The order_products DataFrame contains mostly integers, except for add_to_cart_order, which is a float.\n",
    "Missing Values: No missing values except for potential edge cases in add_to_cart_order.\n",
    "Conclusion: The dataset appears clean and ready for analysis, though it might be useful to ensure add_to_cart_order values are handled appropriately (as done earlier with replacing missing values with 999).\n",
    "Aisles:\n",
    "\n",
    "Data Types: The aisles DataFrame contains integers and strings (object type).\n",
    "Missing Values: No missing values.\n",
    "Conclusion: The dataset is clean and does not require further adjustments.\n",
    "Departments:\n",
    "\n",
    "Data Types: Similar to the aisles DataFrame, this contains integers and strings.\n",
    "Missing Values: No missing values.\n",
    "Conclusion: This dataset is clean and does not need further changes.\n",
    "Final Summary:\n",
    "Most datasets are clean, with the exception of missing values in the days_since_prior_order column of instacart_orders and missing product_name values in the products DataFrame.\n",
    "These missing values may require further steps such as imputation or exclusion depending on the analysis goals."
   ]
  },
  {
   "cell_type": "markdown",
   "id": "4a0f8c1c",
   "metadata": {},
   "source": [
    "<div class=\"alert alert-success\"; style=\"border-left: 7px solid green\">\n",
    "<b>✅ Reviewer's comment, v. 3</b> \n",
    "    \n",
    "✔️ Thank you! This is a very detailed summary. You may usually write a shorter version, just focusing on the peculiarities you've noticed in the data.\n",
    "    \n",
    "\n",
    "\n",
    "<div class=\"alert alert-warning\"; style=\"border-left: 7px solid gold\">\n",
    "<b>⚠️ Reviewer's comment, v. 2</b> \n",
    "\n",
    "Please note that you need to use both - head() and info().\n",
    "    \n",
    "\n",
    "    \n",
    "<div class=\"alert alert-danger\"; style=\"border-left: 7px solid red\">\n",
    "<b>⛔️ Reviewer's comment, v. 1</b> \n",
    "\n",
    "\n",
    "`head()` is a good method to take a look at the data. But to get more information about the data (check whether data types are optimal, check whether there are missing values or not) please also use `info()` method for each dataframe.\n",
    "    \n",
    "--- \n",
    "    \n",
    "After you've studied the data, please don't forget to describe your observations and conclusion.\n",
    "</div>\n"
   ]
  },
  {
   "cell_type": "markdown",
   "id": "07357848-dc64-4156-9cc3-01ff4365226d",
   "metadata": {},
   "source": [
    "## Find and remove duplicate values (and describe why you make your choices)"
   ]
  },
  {
   "cell_type": "markdown",
   "id": "f179f0a9",
   "metadata": {},
   "source": [
    "### `orders` data frame"
   ]
  },
  {
   "cell_type": "markdown",
   "id": "1ef69ca8",
   "metadata": {},
   "source": [
    "Why are we doing this? This is to basically ensure that there are no identical orders made in this dataframe, either by the system or by common human mistakes"
   ]
  },
  {
   "cell_type": "code",
   "execution_count": 7,
   "id": "b99297a5-405a-463d-8535-9adc3da4ad74",
   "metadata": {},
   "outputs": [
    {
     "data": {
      "text/html": [
       "<div>\n",
       "<style scoped>\n",
       "    .dataframe tbody tr th:only-of-type {\n",
       "        vertical-align: middle;\n",
       "    }\n",
       "\n",
       "    .dataframe tbody tr th {\n",
       "        vertical-align: top;\n",
       "    }\n",
       "\n",
       "    .dataframe thead th {\n",
       "        text-align: right;\n",
       "    }\n",
       "</style>\n",
       "<table border=\"1\" class=\"dataframe\">\n",
       "  <thead>\n",
       "    <tr style=\"text-align: right;\">\n",
       "      <th></th>\n",
       "      <th>order_id</th>\n",
       "      <th>user_id</th>\n",
       "      <th>order_number</th>\n",
       "      <th>order_dow</th>\n",
       "      <th>order_hour_of_day</th>\n",
       "      <th>days_since_prior_order</th>\n",
       "    </tr>\n",
       "  </thead>\n",
       "  <tbody>\n",
       "    <tr>\n",
       "      <th>145574</th>\n",
       "      <td>794638</td>\n",
       "      <td>50898</td>\n",
       "      <td>24</td>\n",
       "      <td>3</td>\n",
       "      <td>2</td>\n",
       "      <td>2.0</td>\n",
       "    </tr>\n",
       "    <tr>\n",
       "      <th>223105</th>\n",
       "      <td>2160484</td>\n",
       "      <td>107525</td>\n",
       "      <td>16</td>\n",
       "      <td>3</td>\n",
       "      <td>2</td>\n",
       "      <td>30.0</td>\n",
       "    </tr>\n",
       "    <tr>\n",
       "      <th>230807</th>\n",
       "      <td>1918001</td>\n",
       "      <td>188546</td>\n",
       "      <td>14</td>\n",
       "      <td>3</td>\n",
       "      <td>2</td>\n",
       "      <td>16.0</td>\n",
       "    </tr>\n",
       "    <tr>\n",
       "      <th>266232</th>\n",
       "      <td>1782114</td>\n",
       "      <td>106752</td>\n",
       "      <td>1</td>\n",
       "      <td>3</td>\n",
       "      <td>2</td>\n",
       "      <td>NaN</td>\n",
       "    </tr>\n",
       "    <tr>\n",
       "      <th>273805</th>\n",
       "      <td>1112182</td>\n",
       "      <td>202304</td>\n",
       "      <td>84</td>\n",
       "      <td>3</td>\n",
       "      <td>2</td>\n",
       "      <td>6.0</td>\n",
       "    </tr>\n",
       "    <tr>\n",
       "      <th>284038</th>\n",
       "      <td>2845099</td>\n",
       "      <td>31189</td>\n",
       "      <td>11</td>\n",
       "      <td>3</td>\n",
       "      <td>2</td>\n",
       "      <td>7.0</td>\n",
       "    </tr>\n",
       "    <tr>\n",
       "      <th>311713</th>\n",
       "      <td>1021560</td>\n",
       "      <td>53767</td>\n",
       "      <td>3</td>\n",
       "      <td>3</td>\n",
       "      <td>2</td>\n",
       "      <td>9.0</td>\n",
       "    </tr>\n",
       "    <tr>\n",
       "      <th>321100</th>\n",
       "      <td>408114</td>\n",
       "      <td>68324</td>\n",
       "      <td>4</td>\n",
       "      <td>3</td>\n",
       "      <td>2</td>\n",
       "      <td>18.0</td>\n",
       "    </tr>\n",
       "    <tr>\n",
       "      <th>323900</th>\n",
       "      <td>1919531</td>\n",
       "      <td>191501</td>\n",
       "      <td>32</td>\n",
       "      <td>3</td>\n",
       "      <td>2</td>\n",
       "      <td>7.0</td>\n",
       "    </tr>\n",
       "    <tr>\n",
       "      <th>345917</th>\n",
       "      <td>2232988</td>\n",
       "      <td>82565</td>\n",
       "      <td>1</td>\n",
       "      <td>3</td>\n",
       "      <td>2</td>\n",
       "      <td>NaN</td>\n",
       "    </tr>\n",
       "    <tr>\n",
       "      <th>371905</th>\n",
       "      <td>391768</td>\n",
       "      <td>57671</td>\n",
       "      <td>19</td>\n",
       "      <td>3</td>\n",
       "      <td>2</td>\n",
       "      <td>10.0</td>\n",
       "    </tr>\n",
       "    <tr>\n",
       "      <th>394347</th>\n",
       "      <td>467134</td>\n",
       "      <td>63189</td>\n",
       "      <td>21</td>\n",
       "      <td>3</td>\n",
       "      <td>2</td>\n",
       "      <td>2.0</td>\n",
       "    </tr>\n",
       "    <tr>\n",
       "      <th>411408</th>\n",
       "      <td>1286742</td>\n",
       "      <td>183220</td>\n",
       "      <td>48</td>\n",
       "      <td>3</td>\n",
       "      <td>2</td>\n",
       "      <td>4.0</td>\n",
       "    </tr>\n",
       "    <tr>\n",
       "      <th>415163</th>\n",
       "      <td>2282673</td>\n",
       "      <td>86751</td>\n",
       "      <td>49</td>\n",
       "      <td>3</td>\n",
       "      <td>2</td>\n",
       "      <td>2.0</td>\n",
       "    </tr>\n",
       "    <tr>\n",
       "      <th>441599</th>\n",
       "      <td>2125197</td>\n",
       "      <td>14050</td>\n",
       "      <td>48</td>\n",
       "      <td>3</td>\n",
       "      <td>2</td>\n",
       "      <td>3.0</td>\n",
       "    </tr>\n",
       "  </tbody>\n",
       "</table>\n",
       "</div>"
      ],
      "text/plain": [
       "        order_id  user_id  order_number  order_dow  order_hour_of_day  \\\n",
       "145574    794638    50898            24          3                  2   \n",
       "223105   2160484   107525            16          3                  2   \n",
       "230807   1918001   188546            14          3                  2   \n",
       "266232   1782114   106752             1          3                  2   \n",
       "273805   1112182   202304            84          3                  2   \n",
       "284038   2845099    31189            11          3                  2   \n",
       "311713   1021560    53767             3          3                  2   \n",
       "321100    408114    68324             4          3                  2   \n",
       "323900   1919531   191501            32          3                  2   \n",
       "345917   2232988    82565             1          3                  2   \n",
       "371905    391768    57671            19          3                  2   \n",
       "394347    467134    63189            21          3                  2   \n",
       "411408   1286742   183220            48          3                  2   \n",
       "415163   2282673    86751            49          3                  2   \n",
       "441599   2125197    14050            48          3                  2   \n",
       "\n",
       "        days_since_prior_order  \n",
       "145574                     2.0  \n",
       "223105                    30.0  \n",
       "230807                    16.0  \n",
       "266232                     NaN  \n",
       "273805                     6.0  \n",
       "284038                     7.0  \n",
       "311713                     9.0  \n",
       "321100                    18.0  \n",
       "323900                     7.0  \n",
       "345917                     NaN  \n",
       "371905                    10.0  \n",
       "394347                     2.0  \n",
       "411408                     4.0  \n",
       "415163                     2.0  \n",
       "441599                     3.0  "
      ]
     },
     "execution_count": 7,
     "metadata": {},
     "output_type": "execute_result"
    }
   ],
   "source": [
    "# Check for duplicated orders\n",
    "duplicates = instacart_orders.duplicated()\n",
    "duplicate_orders = instacart_orders[duplicates]\n",
    "duplicate_orders "
   ]
  },
  {
   "cell_type": "markdown",
   "id": "ec982489",
   "metadata": {},
   "source": [
    "<div class=\"alert alert-success\"; style=\"border-left: 7px solid green\">\n",
    "<b>✅ Reviewer's comment, v. 2</b> \n",
    "    \n",
    "✔️ \n",
    "    \n",
    "\n",
    "\n",
    "<div class=\"alert alert-warning\"; style=\"border-left: 7px solid gold\">\n",
    "<b>⚠️ Reviewer's comment, v. 1</b> \n",
    "\n",
    "Please use Markdown type of cells for the comments and conclusions. In the code cells only a short comments for the code are made.\n",
    "    \n",
    "To change the cell type for Markdown please use the upper navigation bar - create a new cell with `+` button, step on it and change Raw to Markdown in the dropdown menu."
   ]
  },
  {
   "cell_type": "code",
   "execution_count": 8,
   "id": "0d44de5d",
   "metadata": {},
   "outputs": [
    {
     "data": {
      "text/html": [
       "<div>\n",
       "<style scoped>\n",
       "    .dataframe tbody tr th:only-of-type {\n",
       "        vertical-align: middle;\n",
       "    }\n",
       "\n",
       "    .dataframe tbody tr th {\n",
       "        vertical-align: top;\n",
       "    }\n",
       "\n",
       "    .dataframe thead th {\n",
       "        text-align: right;\n",
       "    }\n",
       "</style>\n",
       "<table border=\"1\" class=\"dataframe\">\n",
       "  <thead>\n",
       "    <tr style=\"text-align: right;\">\n",
       "      <th></th>\n",
       "      <th>order_id</th>\n",
       "      <th>user_id</th>\n",
       "      <th>order_number</th>\n",
       "      <th>order_dow</th>\n",
       "      <th>order_hour_of_day</th>\n",
       "      <th>days_since_prior_order</th>\n",
       "    </tr>\n",
       "  </thead>\n",
       "  <tbody>\n",
       "    <tr>\n",
       "      <th>4838</th>\n",
       "      <td>2766110</td>\n",
       "      <td>162084</td>\n",
       "      <td>41</td>\n",
       "      <td>3</td>\n",
       "      <td>2</td>\n",
       "      <td>16.0</td>\n",
       "    </tr>\n",
       "    <tr>\n",
       "      <th>5156</th>\n",
       "      <td>2190225</td>\n",
       "      <td>138285</td>\n",
       "      <td>18</td>\n",
       "      <td>3</td>\n",
       "      <td>2</td>\n",
       "      <td>11.0</td>\n",
       "    </tr>\n",
       "    <tr>\n",
       "      <th>15506</th>\n",
       "      <td>553049</td>\n",
       "      <td>58599</td>\n",
       "      <td>13</td>\n",
       "      <td>3</td>\n",
       "      <td>2</td>\n",
       "      <td>7.0</td>\n",
       "    </tr>\n",
       "    <tr>\n",
       "      <th>18420</th>\n",
       "      <td>382357</td>\n",
       "      <td>120200</td>\n",
       "      <td>19</td>\n",
       "      <td>3</td>\n",
       "      <td>2</td>\n",
       "      <td>11.0</td>\n",
       "    </tr>\n",
       "    <tr>\n",
       "      <th>24691</th>\n",
       "      <td>690242</td>\n",
       "      <td>77357</td>\n",
       "      <td>2</td>\n",
       "      <td>3</td>\n",
       "      <td>2</td>\n",
       "      <td>9.0</td>\n",
       "    </tr>\n",
       "    <tr>\n",
       "      <th>...</th>\n",
       "      <td>...</td>\n",
       "      <td>...</td>\n",
       "      <td>...</td>\n",
       "      <td>...</td>\n",
       "      <td>...</td>\n",
       "      <td>...</td>\n",
       "    </tr>\n",
       "    <tr>\n",
       "      <th>457013</th>\n",
       "      <td>3384021</td>\n",
       "      <td>14881</td>\n",
       "      <td>6</td>\n",
       "      <td>3</td>\n",
       "      <td>2</td>\n",
       "      <td>30.0</td>\n",
       "    </tr>\n",
       "    <tr>\n",
       "      <th>458816</th>\n",
       "      <td>910166</td>\n",
       "      <td>164782</td>\n",
       "      <td>18</td>\n",
       "      <td>3</td>\n",
       "      <td>2</td>\n",
       "      <td>4.0</td>\n",
       "    </tr>\n",
       "    <tr>\n",
       "      <th>459635</th>\n",
       "      <td>1680532</td>\n",
       "      <td>106435</td>\n",
       "      <td>6</td>\n",
       "      <td>3</td>\n",
       "      <td>2</td>\n",
       "      <td>21.0</td>\n",
       "    </tr>\n",
       "    <tr>\n",
       "      <th>468324</th>\n",
       "      <td>222962</td>\n",
       "      <td>54979</td>\n",
       "      <td>59</td>\n",
       "      <td>3</td>\n",
       "      <td>2</td>\n",
       "      <td>3.0</td>\n",
       "    </tr>\n",
       "    <tr>\n",
       "      <th>477526</th>\n",
       "      <td>2592344</td>\n",
       "      <td>46860</td>\n",
       "      <td>38</td>\n",
       "      <td>3</td>\n",
       "      <td>2</td>\n",
       "      <td>3.0</td>\n",
       "    </tr>\n",
       "  </tbody>\n",
       "</table>\n",
       "<p>121 rows × 6 columns</p>\n",
       "</div>"
      ],
      "text/plain": [
       "        order_id  user_id  order_number  order_dow  order_hour_of_day  \\\n",
       "4838     2766110   162084            41          3                  2   \n",
       "5156     2190225   138285            18          3                  2   \n",
       "15506     553049    58599            13          3                  2   \n",
       "18420     382357   120200            19          3                  2   \n",
       "24691     690242    77357             2          3                  2   \n",
       "...          ...      ...           ...        ...                ...   \n",
       "457013   3384021    14881             6          3                  2   \n",
       "458816    910166   164782            18          3                  2   \n",
       "459635   1680532   106435             6          3                  2   \n",
       "468324    222962    54979            59          3                  2   \n",
       "477526   2592344    46860            38          3                  2   \n",
       "\n",
       "        days_since_prior_order  \n",
       "4838                      16.0  \n",
       "5156                      11.0  \n",
       "15506                      7.0  \n",
       "18420                     11.0  \n",
       "24691                      9.0  \n",
       "...                        ...  \n",
       "457013                    30.0  \n",
       "458816                     4.0  \n",
       "459635                    21.0  \n",
       "468324                     3.0  \n",
       "477526                     3.0  \n",
       "\n",
       "[121 rows x 6 columns]"
      ]
     },
     "execution_count": 8,
     "metadata": {},
     "output_type": "execute_result"
    }
   ],
   "source": [
    "# Check for all orders placed Wednesday at 2:00 AM\n",
    "instacart_orders[ (instacart_orders['order_dow'] == 3 ) & (instacart_orders['order_hour_of_day']==2) ]"
   ]
  },
  {
   "cell_type": "code",
   "execution_count": 9,
   "id": "480563c7",
   "metadata": {},
   "outputs": [],
   "source": [
    "# Remove duplicate orders\n",
    "instacart_orders = instacart_orders.drop_duplicates()"
   ]
  },
  {
   "cell_type": "markdown",
   "id": "04299266",
   "metadata": {},
   "source": [
    "<div class=\"alert alert-success\"; style=\"border-left: 7px solid green\">\n",
    "<b>✅ Reviewer's comment, v. 2</b> \n",
    "    \n",
    "✔️ \n",
    "    \n",
    "\n",
    "\n",
    "<div class=\"alert alert-danger\"; style=\"border-left: 7px solid red\">\n",
    "<b>⛔️ Reviewer's comment, v. 1</b> \n",
    "\n",
    "Please save the cleaned dataframe back to `instacart_orders`."
   ]
  },
  {
   "cell_type": "code",
   "execution_count": 10,
   "id": "0b2396a2",
   "metadata": {},
   "outputs": [
    {
     "data": {
      "text/html": [
       "<div>\n",
       "<style scoped>\n",
       "    .dataframe tbody tr th:only-of-type {\n",
       "        vertical-align: middle;\n",
       "    }\n",
       "\n",
       "    .dataframe tbody tr th {\n",
       "        vertical-align: top;\n",
       "    }\n",
       "\n",
       "    .dataframe thead th {\n",
       "        text-align: right;\n",
       "    }\n",
       "</style>\n",
       "<table border=\"1\" class=\"dataframe\">\n",
       "  <thead>\n",
       "    <tr style=\"text-align: right;\">\n",
       "      <th></th>\n",
       "      <th>order_id</th>\n",
       "      <th>user_id</th>\n",
       "      <th>order_number</th>\n",
       "      <th>order_dow</th>\n",
       "      <th>order_hour_of_day</th>\n",
       "      <th>days_since_prior_order</th>\n",
       "    </tr>\n",
       "  </thead>\n",
       "  <tbody>\n",
       "  </tbody>\n",
       "</table>\n",
       "</div>"
      ],
      "text/plain": [
       "Empty DataFrame\n",
       "Columns: [order_id, user_id, order_number, order_dow, order_hour_of_day, days_since_prior_order]\n",
       "Index: []"
      ]
     },
     "execution_count": 10,
     "metadata": {},
     "output_type": "execute_result"
    }
   ],
   "source": [
    "# Double check for duplicate rows\n",
    "still_duplicated = instacart_orders.duplicated()\n",
    "instacart_orders[still_duplicated]"
   ]
  },
  {
   "cell_type": "code",
   "execution_count": 11,
   "id": "f6113ef1",
   "metadata": {},
   "outputs": [
    {
     "data": {
      "text/plain": [
       "0"
      ]
     },
     "execution_count": 11,
     "metadata": {},
     "output_type": "execute_result"
    }
   ],
   "source": [
    "# Double check for duplicate order IDs only\n",
    "instacart_orders.duplicated(subset='order_id').sum()"
   ]
  },
  {
   "cell_type": "markdown",
   "id": "8a52b015",
   "metadata": {},
   "source": [
    "Initial Findings: Duplicate rows were identified and removed from the dataset.\n",
    "Wednesday 2 AM Orders: A focused check was conducted for Wednesday at 2:00 AM, but no significant duplicate patterns were observed at that timestamp.\n",
    "Final Check: The final review confirmed no duplicate order rows or order IDs exist.\n",
    "This process ensures clean data, free of any duplicate records that could affect analysis or reporting."
   ]
  },
  {
   "cell_type": "markdown",
   "id": "a95ef0e4",
   "metadata": {},
   "source": [
    "<div class=\"alert alert-success\"; style=\"border-left: 7px solid green\">\n",
    "<b>✅ Reviewer's comment, v. 1</b> \n",
    "    \n",
    "Excellent - you made all the necessary checks and data processing."
   ]
  },
  {
   "cell_type": "markdown",
   "id": "bb5d998c",
   "metadata": {},
   "source": [
    "<div class=\"alert alert-success\"; style=\"border-left: 7px solid green\">\n",
    "<b>✅ Reviewer's comment, v. 3</b> \n",
    "    \n",
    "✔️ Excellent.\n",
    "    \n",
    "\n",
    "\n",
    "<div class=\"alert alert-danger\"; style=\"border-left: 7px solid red\">\n",
    "<b>⛔️ Reviewer's comment, v. 2</b> \n",
    "\n",
    "The comment still needs to be addressed.\n",
    "    \n",
    "    \n",
    "<div class=\"alert alert-danger\" style=\"border-left: 7px solid red\">\n",
    "<b>⛔️ Reviewer's Comment, v. 1</b>\n",
    "\n",
    "Please ensure you add a conclusion or summary at the end of each section. Include your observations and key insights in these summaries.\n",
    "</div>\n"
   ]
  },
  {
   "cell_type": "markdown",
   "id": "5e8905ae",
   "metadata": {},
   "source": []
  },
  {
   "cell_type": "markdown",
   "id": "45e6bc46",
   "metadata": {},
   "source": [
    "### `products` data frame"
   ]
  },
  {
   "cell_type": "code",
   "execution_count": 12,
   "id": "5f526b5b-8175-46fa-a0fd-441767d50e64",
   "metadata": {},
   "outputs": [],
   "source": [
    "# Check for fully duplicate rows\n",
    "duplicates = products[products.duplicated()]"
   ]
  },
  {
   "cell_type": "code",
   "execution_count": 13,
   "id": "88daa4f4",
   "metadata": {},
   "outputs": [
    {
     "data": {
      "text/html": [
       "<div>\n",
       "<style scoped>\n",
       "    .dataframe tbody tr th:only-of-type {\n",
       "        vertical-align: middle;\n",
       "    }\n",
       "\n",
       "    .dataframe tbody tr th {\n",
       "        vertical-align: top;\n",
       "    }\n",
       "\n",
       "    .dataframe thead th {\n",
       "        text-align: right;\n",
       "    }\n",
       "</style>\n",
       "<table border=\"1\" class=\"dataframe\">\n",
       "  <thead>\n",
       "    <tr style=\"text-align: right;\">\n",
       "      <th></th>\n",
       "      <th>product_id</th>\n",
       "      <th>product_name</th>\n",
       "      <th>aisle_id</th>\n",
       "      <th>department_id</th>\n",
       "    </tr>\n",
       "  </thead>\n",
       "  <tbody>\n",
       "  </tbody>\n",
       "</table>\n",
       "</div>"
      ],
      "text/plain": [
       "Empty DataFrame\n",
       "Columns: [product_id, product_name, aisle_id, department_id]\n",
       "Index: []"
      ]
     },
     "execution_count": 13,
     "metadata": {},
     "output_type": "execute_result"
    }
   ],
   "source": [
    "# Check for just duplicate product IDs\n",
    "duplicate_product_ids = products[products['product_id'].duplicated()]\n",
    "duplicate_product_ids"
   ]
  },
  {
   "cell_type": "code",
   "execution_count": 14,
   "id": "c773f0bf",
   "metadata": {},
   "outputs": [
    {
     "data": {
      "text/html": [
       "<div>\n",
       "<style scoped>\n",
       "    .dataframe tbody tr th:only-of-type {\n",
       "        vertical-align: middle;\n",
       "    }\n",
       "\n",
       "    .dataframe tbody tr th {\n",
       "        vertical-align: top;\n",
       "    }\n",
       "\n",
       "    .dataframe thead th {\n",
       "        text-align: right;\n",
       "    }\n",
       "</style>\n",
       "<table border=\"1\" class=\"dataframe\">\n",
       "  <thead>\n",
       "    <tr style=\"text-align: right;\">\n",
       "      <th></th>\n",
       "      <th>product_id</th>\n",
       "      <th>product_name</th>\n",
       "      <th>aisle_id</th>\n",
       "      <th>department_id</th>\n",
       "    </tr>\n",
       "  </thead>\n",
       "  <tbody>\n",
       "    <tr>\n",
       "      <th>71</th>\n",
       "      <td>72</td>\n",
       "      <td>NaN</td>\n",
       "      <td>100</td>\n",
       "      <td>21</td>\n",
       "    </tr>\n",
       "    <tr>\n",
       "      <th>109</th>\n",
       "      <td>110</td>\n",
       "      <td>NaN</td>\n",
       "      <td>100</td>\n",
       "      <td>21</td>\n",
       "    </tr>\n",
       "    <tr>\n",
       "      <th>296</th>\n",
       "      <td>297</td>\n",
       "      <td>NaN</td>\n",
       "      <td>100</td>\n",
       "      <td>21</td>\n",
       "    </tr>\n",
       "    <tr>\n",
       "      <th>416</th>\n",
       "      <td>417</td>\n",
       "      <td>NaN</td>\n",
       "      <td>100</td>\n",
       "      <td>21</td>\n",
       "    </tr>\n",
       "    <tr>\n",
       "      <th>436</th>\n",
       "      <td>437</td>\n",
       "      <td>NaN</td>\n",
       "      <td>100</td>\n",
       "      <td>21</td>\n",
       "    </tr>\n",
       "    <tr>\n",
       "      <th>...</th>\n",
       "      <td>...</td>\n",
       "      <td>...</td>\n",
       "      <td>...</td>\n",
       "      <td>...</td>\n",
       "    </tr>\n",
       "    <tr>\n",
       "      <th>49689</th>\n",
       "      <td>49690</td>\n",
       "      <td>HIGH PERFORMANCE ENERGY DRINK</td>\n",
       "      <td>64</td>\n",
       "      <td>7</td>\n",
       "    </tr>\n",
       "    <tr>\n",
       "      <th>49690</th>\n",
       "      <td>49691</td>\n",
       "      <td>ORIGINAL PANCAKE &amp; WAFFLE MIX</td>\n",
       "      <td>130</td>\n",
       "      <td>14</td>\n",
       "    </tr>\n",
       "    <tr>\n",
       "      <th>49691</th>\n",
       "      <td>49692</td>\n",
       "      <td>ORGANIC INSTANT OATMEAL LIGHT MAPLE BROWN SUGAR</td>\n",
       "      <td>130</td>\n",
       "      <td>14</td>\n",
       "    </tr>\n",
       "    <tr>\n",
       "      <th>49692</th>\n",
       "      <td>49693</td>\n",
       "      <td>SPRING WATER BODY WASH</td>\n",
       "      <td>127</td>\n",
       "      <td>11</td>\n",
       "    </tr>\n",
       "    <tr>\n",
       "      <th>49693</th>\n",
       "      <td>49694</td>\n",
       "      <td>BURRITO- STEAK &amp; CHEESE</td>\n",
       "      <td>38</td>\n",
       "      <td>1</td>\n",
       "    </tr>\n",
       "  </tbody>\n",
       "</table>\n",
       "<p>1361 rows × 4 columns</p>\n",
       "</div>"
      ],
      "text/plain": [
       "       product_id                                     product_name  aisle_id  \\\n",
       "71             72                                              NaN       100   \n",
       "109           110                                              NaN       100   \n",
       "296           297                                              NaN       100   \n",
       "416           417                                              NaN       100   \n",
       "436           437                                              NaN       100   \n",
       "...           ...                                              ...       ...   \n",
       "49689       49690                    HIGH PERFORMANCE ENERGY DRINK        64   \n",
       "49690       49691                    ORIGINAL PANCAKE & WAFFLE MIX       130   \n",
       "49691       49692  ORGANIC INSTANT OATMEAL LIGHT MAPLE BROWN SUGAR       130   \n",
       "49692       49693                           SPRING WATER BODY WASH       127   \n",
       "49693       49694                          BURRITO- STEAK & CHEESE        38   \n",
       "\n",
       "       department_id  \n",
       "71                21  \n",
       "109               21  \n",
       "296               21  \n",
       "416               21  \n",
       "436               21  \n",
       "...              ...  \n",
       "49689              7  \n",
       "49690             14  \n",
       "49691             14  \n",
       "49692             11  \n",
       "49693              1  \n",
       "\n",
       "[1361 rows x 4 columns]"
      ]
     },
     "execution_count": 14,
     "metadata": {},
     "output_type": "execute_result"
    }
   ],
   "source": [
    "# Check for just duplicate product names (convert names to lowercase to compare better)\n",
    "duplicate_product_names = products[products['product_name'].str.lower().duplicated()]\n",
    "duplicate_product_names"
   ]
  },
  {
   "cell_type": "code",
   "execution_count": 15,
   "id": "01efd02e",
   "metadata": {},
   "outputs": [
    {
     "data": {
      "text/html": [
       "<div>\n",
       "<style scoped>\n",
       "    .dataframe tbody tr th:only-of-type {\n",
       "        vertical-align: middle;\n",
       "    }\n",
       "\n",
       "    .dataframe tbody tr th {\n",
       "        vertical-align: top;\n",
       "    }\n",
       "\n",
       "    .dataframe thead th {\n",
       "        text-align: right;\n",
       "    }\n",
       "</style>\n",
       "<table border=\"1\" class=\"dataframe\">\n",
       "  <thead>\n",
       "    <tr style=\"text-align: right;\">\n",
       "      <th></th>\n",
       "      <th>product_id</th>\n",
       "      <th>product_name</th>\n",
       "      <th>aisle_id</th>\n",
       "      <th>department_id</th>\n",
       "    </tr>\n",
       "  </thead>\n",
       "  <tbody>\n",
       "    <tr>\n",
       "      <th>2058</th>\n",
       "      <td>2059</td>\n",
       "      <td>Biotin 1000 Mcg</td>\n",
       "      <td>47</td>\n",
       "      <td>11</td>\n",
       "    </tr>\n",
       "    <tr>\n",
       "      <th>5455</th>\n",
       "      <td>5456</td>\n",
       "      <td>Green Tea With Ginseng and Honey</td>\n",
       "      <td>96</td>\n",
       "      <td>20</td>\n",
       "    </tr>\n",
       "    <tr>\n",
       "      <th>5558</th>\n",
       "      <td>5559</td>\n",
       "      <td>Cream Of Mushroom Soup</td>\n",
       "      <td>69</td>\n",
       "      <td>15</td>\n",
       "    </tr>\n",
       "    <tr>\n",
       "      <th>7558</th>\n",
       "      <td>7559</td>\n",
       "      <td>Cinnamon Rolls with Icing</td>\n",
       "      <td>105</td>\n",
       "      <td>13</td>\n",
       "    </tr>\n",
       "    <tr>\n",
       "      <th>9037</th>\n",
       "      <td>9038</td>\n",
       "      <td>American Cheese slices</td>\n",
       "      <td>21</td>\n",
       "      <td>16</td>\n",
       "    </tr>\n",
       "    <tr>\n",
       "      <th>...</th>\n",
       "      <td>...</td>\n",
       "      <td>...</td>\n",
       "      <td>...</td>\n",
       "      <td>...</td>\n",
       "    </tr>\n",
       "    <tr>\n",
       "      <th>49689</th>\n",
       "      <td>49690</td>\n",
       "      <td>HIGH PERFORMANCE ENERGY DRINK</td>\n",
       "      <td>64</td>\n",
       "      <td>7</td>\n",
       "    </tr>\n",
       "    <tr>\n",
       "      <th>49690</th>\n",
       "      <td>49691</td>\n",
       "      <td>ORIGINAL PANCAKE &amp; WAFFLE MIX</td>\n",
       "      <td>130</td>\n",
       "      <td>14</td>\n",
       "    </tr>\n",
       "    <tr>\n",
       "      <th>49691</th>\n",
       "      <td>49692</td>\n",
       "      <td>ORGANIC INSTANT OATMEAL LIGHT MAPLE BROWN SUGAR</td>\n",
       "      <td>130</td>\n",
       "      <td>14</td>\n",
       "    </tr>\n",
       "    <tr>\n",
       "      <th>49692</th>\n",
       "      <td>49693</td>\n",
       "      <td>SPRING WATER BODY WASH</td>\n",
       "      <td>127</td>\n",
       "      <td>11</td>\n",
       "    </tr>\n",
       "    <tr>\n",
       "      <th>49693</th>\n",
       "      <td>49694</td>\n",
       "      <td>BURRITO- STEAK &amp; CHEESE</td>\n",
       "      <td>38</td>\n",
       "      <td>1</td>\n",
       "    </tr>\n",
       "  </tbody>\n",
       "</table>\n",
       "<p>104 rows × 4 columns</p>\n",
       "</div>"
      ],
      "text/plain": [
       "       product_id                                     product_name  aisle_id  \\\n",
       "2058         2059                                  Biotin 1000 Mcg        47   \n",
       "5455         5456                 Green Tea With Ginseng and Honey        96   \n",
       "5558         5559                           Cream Of Mushroom Soup        69   \n",
       "7558         7559                        Cinnamon Rolls with Icing       105   \n",
       "9037         9038                           American Cheese slices        21   \n",
       "...           ...                                              ...       ...   \n",
       "49689       49690                    HIGH PERFORMANCE ENERGY DRINK        64   \n",
       "49690       49691                    ORIGINAL PANCAKE & WAFFLE MIX       130   \n",
       "49691       49692  ORGANIC INSTANT OATMEAL LIGHT MAPLE BROWN SUGAR       130   \n",
       "49692       49693                           SPRING WATER BODY WASH       127   \n",
       "49693       49694                          BURRITO- STEAK & CHEESE        38   \n",
       "\n",
       "       department_id  \n",
       "2058              11  \n",
       "5455              20  \n",
       "5558              15  \n",
       "7558              13  \n",
       "9037              16  \n",
       "...              ...  \n",
       "49689              7  \n",
       "49690             14  \n",
       "49691             14  \n",
       "49692             11  \n",
       "49693              1  \n",
       "\n",
       "[104 rows x 4 columns]"
      ]
     },
     "execution_count": 15,
     "metadata": {},
     "output_type": "execute_result"
    }
   ],
   "source": [
    "# Check for duplicate product names that aren't missing\n",
    "duplicate_product_names = products[products['product_name'].notna() & products['product_name'].str.lower().duplicated()]\n",
    "duplicate_product_names"
   ]
  },
  {
   "cell_type": "markdown",
   "id": "51350de2",
   "metadata": {},
   "source": [
    "<div class=\"alert alert-success\"; style=\"border-left: 7px solid green\">\n",
    "<b>✅ Reviewer's comment, v. 1</b> \n",
    "    \n",
    "Well done - you've completed all the required tasks."
   ]
  },
  {
   "cell_type": "markdown",
   "id": "9da8d293",
   "metadata": {},
   "source": []
  },
  {
   "cell_type": "markdown",
   "id": "60f30db1",
   "metadata": {},
   "source": [
    "### `departments` data frame"
   ]
  },
  {
   "cell_type": "code",
   "execution_count": 16,
   "id": "fb410ad4-0fbf-4b80-bb09-23fdea79afe3",
   "metadata": {},
   "outputs": [
    {
     "name": "stdout",
     "output_type": "stream",
     "text": [
      "Empty DataFrame\n",
      "Columns: [department_id, department]\n",
      "Index: []\n"
     ]
    }
   ],
   "source": [
    "duplicate_departments = departments[departments.duplicated()]\n",
    "print(duplicate_departments)"
   ]
  },
  {
   "cell_type": "markdown",
   "id": "7afe00d4",
   "metadata": {},
   "source": [
    "<div class=\"alert alert-success\"; style=\"border-left: 7px solid green\">\n",
    "<b>✅ Reviewer's comment, v. 4</b> \n",
    "    \n",
    "✔️ \n",
    "    \n",
    "\n",
    "\n",
    "<div class=\"alert alert-warning\"; style=\"border-left: 7px solid gold\">\n",
    "<b>⚠️ Reviewer's comment, v. 3</b> \n",
    "\n",
    "No duplicates found, good. Just note that you do not need to import pandas again as you already imported it in the beginning of the project.\n",
    "    \n",
    "\n",
    "\n",
    "<div class=\"alert alert-danger\"; style=\"border-left: 7px solid red\">\n",
    "<b>⛔️ Reviewer's comment, v. 2</b> \n",
    "\n",
    "Could you please remove the code where you import pandas again, and read `departments.csv` again to the dataframe? \n",
    "You've already done that in the beginning of the project and do not need to do this again.\n",
    "    \n",
    "However, you need to check the data for the duplicates (as this section is about studying the datasets for the duplicates. So, could you please add the corresponding check? \n",
    "    \n",
    "<div class=\"alert alert-danger\"; style=\"border-left: 7px solid red\">\n",
    "<b>⛔️ Reviewer's comment, v. 1</b> \n",
    "\n",
    "The repeated library import and reading of the dataframe are redundant. Please remove that and only check for the duplicates."
   ]
  },
  {
   "cell_type": "markdown",
   "id": "bd30d78e",
   "metadata": {},
   "source": []
  },
  {
   "cell_type": "markdown",
   "id": "889349c1",
   "metadata": {},
   "source": [
    "### `aisles` data frame"
   ]
  },
  {
   "cell_type": "code",
   "execution_count": 17,
   "id": "9da89fb9-4679-40f5-ad0d-c34df753a3f8",
   "metadata": {},
   "outputs": [],
   "source": [
    "import pandas as pd "
   ]
  },
  {
   "cell_type": "code",
   "execution_count": 18,
   "id": "05313875",
   "metadata": {},
   "outputs": [
    {
     "name": "stdout",
     "output_type": "stream",
     "text": [
      "Empty DataFrame\n",
      "Columns: [aisle_id, aisle]\n",
      "Index: []\n"
     ]
    }
   ],
   "source": [
    "duplicate_aisles = aisles[aisles.duplicated()]\n",
    "print(duplicate_aisles)"
   ]
  },
  {
   "cell_type": "code",
   "execution_count": null,
   "id": "da7c2822",
   "metadata": {},
   "outputs": [],
   "source": []
  },
  {
   "cell_type": "markdown",
   "id": "e4c27781",
   "metadata": {},
   "source": [
    "<div class=\"alert alert-success\"; style=\"border-left: 7px solid green\">\n",
    "<b>✅ Reviewer's comment, v. 3</b> \n",
    "    \n",
    "✔️ \n",
    "    \n",
    "\n",
    "\n",
    "<div class=\"alert alert-danger\"; style=\"border-left: 7px solid red\">\n",
    "<b>⛔️ Reviewer's comment, v. 2</b> \n",
    "\n",
    "Please also introduce the similar changes in the section above - remove the redundant code and check for the duplicates.\n",
    "    \n",
    "<div class=\"alert alert-danger\"; style=\"border-left: 7px solid red\">\n",
    "<b>⛔️ Reviewer's comment, v. 1</b> \n",
    "\n",
    "Same comment here."
   ]
  },
  {
   "cell_type": "markdown",
   "id": "ac63826f",
   "metadata": {},
   "source": []
  },
  {
   "cell_type": "markdown",
   "id": "274cd06a",
   "metadata": {},
   "source": [
    "### `order_products` data frame"
   ]
  },
  {
   "cell_type": "code",
   "execution_count": 19,
   "id": "52326689-84a8-4b8f-a881-7c68780f62c9",
   "metadata": {},
   "outputs": [
    {
     "data": {
      "text/html": [
       "<div>\n",
       "<style scoped>\n",
       "    .dataframe tbody tr th:only-of-type {\n",
       "        vertical-align: middle;\n",
       "    }\n",
       "\n",
       "    .dataframe tbody tr th {\n",
       "        vertical-align: top;\n",
       "    }\n",
       "\n",
       "    .dataframe thead th {\n",
       "        text-align: right;\n",
       "    }\n",
       "</style>\n",
       "<table border=\"1\" class=\"dataframe\">\n",
       "  <thead>\n",
       "    <tr style=\"text-align: right;\">\n",
       "      <th></th>\n",
       "      <th>order_id</th>\n",
       "      <th>product_id</th>\n",
       "      <th>add_to_cart_order</th>\n",
       "      <th>reordered</th>\n",
       "    </tr>\n",
       "  </thead>\n",
       "  <tbody>\n",
       "  </tbody>\n",
       "</table>\n",
       "</div>"
      ],
      "text/plain": [
       "Empty DataFrame\n",
       "Columns: [order_id, product_id, add_to_cart_order, reordered]\n",
       "Index: []"
      ]
     },
     "execution_count": 19,
     "metadata": {},
     "output_type": "execute_result"
    }
   ],
   "source": [
    "# Check for fullly duplicate rows\n",
    "duplicate_rows = order_products[order_products.duplicated()]\n",
    "duplicate_rows"
   ]
  },
  {
   "cell_type": "code",
   "execution_count": 20,
   "id": "7b861391",
   "metadata": {},
   "outputs": [
    {
     "data": {
      "text/html": [
       "<div>\n",
       "<style scoped>\n",
       "    .dataframe tbody tr th:only-of-type {\n",
       "        vertical-align: middle;\n",
       "    }\n",
       "\n",
       "    .dataframe tbody tr th {\n",
       "        vertical-align: top;\n",
       "    }\n",
       "\n",
       "    .dataframe thead th {\n",
       "        text-align: right;\n",
       "    }\n",
       "</style>\n",
       "<table border=\"1\" class=\"dataframe\">\n",
       "  <thead>\n",
       "    <tr style=\"text-align: right;\">\n",
       "      <th></th>\n",
       "      <th>order_id</th>\n",
       "      <th>product_id</th>\n",
       "      <th>add_to_cart_order</th>\n",
       "      <th>reordered</th>\n",
       "    </tr>\n",
       "  </thead>\n",
       "  <tbody>\n",
       "  </tbody>\n",
       "</table>\n",
       "</div>"
      ],
      "text/plain": [
       "Empty DataFrame\n",
       "Columns: [order_id, product_id, add_to_cart_order, reordered]\n",
       "Index: []"
      ]
     },
     "execution_count": 20,
     "metadata": {},
     "output_type": "execute_result"
    }
   ],
   "source": [
    "# Double check for any other tricky duplicates\n",
    "tricky_duplicates= order_products[order_products.duplicated(subset=['order_id', 'product_id'])]\n",
    "tricky_duplicates"
   ]
  },
  {
   "cell_type": "markdown",
   "id": "0b890492",
   "metadata": {},
   "source": []
  },
  {
   "cell_type": "markdown",
   "id": "1a8e95bc",
   "metadata": {},
   "source": [
    "<div class=\"alert alert-success\" style=\"border-left: 7px solid green\"> \n",
    "    \n",
    "<b>✅ Reviewer's comment, v. 1</b>\n",
    "    \n",
    "    \n",
    "Well done. When checking for duplicates, it's important to look beyond full duplicates and also verify the uniqueness of combinations that should be unique. In this case, we need to ensure that there are no repeated combinations of order_id and product_id."
   ]
  },
  {
   "cell_type": "markdown",
   "id": "31451ae1",
   "metadata": {},
   "source": [
    "<div class=\"alert alert-danger\"; style=\"border-left: 7px solid red\">\n",
    "<b>⛔️ Reviewer's comment, v. 2</b> \n",
    "\n",
    "Please add the conclusions after each section.\n",
    "    \n",
    "<div class=\"alert alert-danger\"; style=\"border-left: 7px solid red\">\n",
    "<b>⛔️ Reviewer's comment, v. 1</b> \n",
    "\n",
    "Please do not forget to leave your comments in each section above."
   ]
  },
  {
   "cell_type": "markdown",
   "id": "1e46de76",
   "metadata": {},
   "source": [
    "## Find and remove missing values\n"
   ]
  },
  {
   "cell_type": "markdown",
   "id": "c0aebd78",
   "metadata": {},
   "source": [
    "### `products` data frame"
   ]
  },
  {
   "cell_type": "code",
   "execution_count": 21,
   "id": "fe4a8b0f",
   "metadata": {},
   "outputs": [
    {
     "name": "stdout",
     "output_type": "stream",
     "text": [
      "product_id          0\n",
      "product_name     1258\n",
      "aisle_id            0\n",
      "department_id       0\n",
      "dtype: int64\n"
     ]
    }
   ],
   "source": [
    "missing_values = products.isna().sum()\n",
    "print(missing_values)\n",
    "products_cleaned = products.dropna()"
   ]
  },
  {
   "cell_type": "markdown",
   "id": "c177db4a",
   "metadata": {},
   "source": [
    "The dataset was evaluated for missing values using isna().sum(). Each column was checked for the presence of missing data.\n",
    "Depending on the amount and location of missing data, appropriate action such as removing or filling missing values can be taken."
   ]
  },
  {
   "cell_type": "markdown",
   "id": "a0c2dc02",
   "metadata": {},
   "source": [
    "<div class=\"alert alert-success\"; style=\"border-left: 7px solid green\">\n",
    "<b>✅ Reviewer's comment, v. 3</b> \n",
    "    \n",
    "✔️ \n",
    "    \n",
    "<div class=\"alert alert-danger\"; style=\"border-left: 7px solid red\">\n",
    "<b>⛔️ Reviewer's comment, v. 2</b> \n",
    "        \n",
    "To check the number of missing values, please use `df.isna().sum()`. Use the name of the relevant dataframe instead of `df`.\n",
    "    \n",
    "<div class=\"alert alert-danger\"; style=\"border-left: 7px solid red\">\n",
    "<b>⛔️ Reviewer's comment, v. 1</b> \n",
    "\n",
    "As we are studying the missing values in this section, please start with checking the number of the missing values in the dataframe."
   ]
  },
  {
   "cell_type": "code",
   "execution_count": 22,
   "id": "e96167bc",
   "metadata": {},
   "outputs": [
    {
     "data": {
      "text/plain": [
       "('Are all missing product names in aisle ID 100?', True)"
      ]
     },
     "execution_count": 22,
     "metadata": {},
     "output_type": "execute_result"
    }
   ],
   "source": [
    "# Are all of the missing product names associated with aisle ID 100?\n",
    "missing_names_aisle = products[products['product_name'].isna()]['aisle_id'].unique()\n",
    "missing_names_aisle\n",
    "all_in_aisle_100 = (missing_names_aisle == [100]).all()\n",
    "\"Are all missing product names in aisle ID 100?\", all_in_aisle_100"
   ]
  },
  {
   "cell_type": "code",
   "execution_count": 23,
   "id": "8fd0a541",
   "metadata": {},
   "outputs": [
    {
     "name": "stdout",
     "output_type": "stream",
     "text": [
      "[21]\n",
      "Are all missing product names in department ID 21? True\n"
     ]
    }
   ],
   "source": [
    "# Are all of the missing product names associated with department ID 21?\n",
    "missing_names_department = products[products['product_name'].isna()]['department_id'].unique()\n",
    "print(missing_names_department)\n",
    "all_in_department_21 = (missing_names_department == [21]).all()\n",
    "print(\"Are all missing product names in department ID 21?\", all_in_department_21)"
   ]
  },
  {
   "cell_type": "code",
   "execution_count": 24,
   "id": "325c3464",
   "metadata": {},
   "outputs": [
    {
     "name": "stdout",
     "output_type": "stream",
     "text": [
      "Aisle ID 100 is: missing\n",
      "Department ID 21 is: missing\n"
     ]
    }
   ],
   "source": [
    "# What is this ailse and department?\n",
    "aisle_100 = aisles[aisles['aisle_id'] == 100]['aisle'].values[0]\n",
    "print(\"Aisle ID 100 is:\", aisle_100)\n",
    "\n",
    "department_21 = departments[departments['department_id'] == 21]['department'].values[0]\n",
    "print(\"Department ID 21 is:\", department_21)"
   ]
  },
  {
   "cell_type": "code",
   "execution_count": 25,
   "id": "6b295120",
   "metadata": {},
   "outputs": [
    {
     "data": {
      "text/plain": [
       "0"
      ]
     },
     "execution_count": 25,
     "metadata": {},
     "output_type": "execute_result"
    }
   ],
   "source": [
    "# Fill missing product names with 'Unknown'\n",
    "products['product_name'].fillna('Unknown', inplace=True)\n",
    "products['product_name'].isna().sum()"
   ]
  },
  {
   "cell_type": "markdown",
   "id": "65054c19",
   "metadata": {},
   "source": [
    "<div class=\"alert alert-success\"; style=\"border-left: 7px solid green\">\n",
    "<b>✅ Reviewer's comment, v. 1</b> \n",
    "    \n",
    "Awesome work!"
   ]
  },
  {
   "cell_type": "markdown",
   "id": "fc70e5ad",
   "metadata": {},
   "source": []
  },
  {
   "cell_type": "markdown",
   "id": "7eb45c86",
   "metadata": {},
   "source": [
    "### `orders` data frame"
   ]
  },
  {
   "cell_type": "code",
   "execution_count": 26,
   "id": "93e41d96",
   "metadata": {},
   "outputs": [
    {
     "name": "stdout",
     "output_type": "stream",
     "text": [
      "order_id                      0\n",
      "user_id                       0\n",
      "order_number                  0\n",
      "order_dow                     0\n",
      "order_hour_of_day             0\n",
      "days_since_prior_order    28817\n",
      "dtype: int64\n"
     ]
    }
   ],
   "source": [
    "missing_values = instacart_orders.isna().sum()\n",
    "print(missing_values)\n",
    "orders_cleaned = instacart_orders.dropna()"
   ]
  },
  {
   "cell_type": "markdown",
   "id": "0d3863b3",
   "metadata": {},
   "source": [
    "The dataset was evaluated for missing values using isna().sum(). Each column was checked for the presence of missing data.\n",
    "Depending on the amount and location of missing data, appropriate action such as removing or filling missing values can be taken."
   ]
  },
  {
   "cell_type": "markdown",
   "id": "b241a4bf",
   "metadata": {},
   "source": [
    "<div class=\"alert alert-success\"; style=\"border-left: 7px solid green\">\n",
    "<b>✅ Reviewer's comment, v. 4</b> \n",
    "    \n",
    "✔️ \n",
    "    \n",
    "\n",
    "\n",
    "<div class=\"alert alert-danger\"; style=\"border-left: 7px solid red\">\n",
    "<b>⛔️ Reviewer's comment, v. 3</b> \n",
    "\n",
    "Please check for the number of the missing values in `instacart_orders` dataframe (not `products`). Please note that you don't need to drop or fill in the missing values here. You are studying them in the following cell and see that they just mean that the customer did not have any previous orders, so the missing values in `days_since_prior_order` are absolutely valid.\n",
    "\n",
    "<div class=\"alert alert-danger\"; style=\"border-left: 7px solid red\">\n",
    "<b>⛔️ Reviewer's comment, v. 2</b> \n",
    "\n",
    "Could you please address the comment below?\n",
    "    \n",
    "<div class=\"alert alert-danger\"; style=\"border-left: 7px solid red\">\n",
    "<b>⛔️ Reviewer's comment, v. 1</b> \n",
    "\n",
    "Here also, please start with checking the number of the missing values in the dataframe."
   ]
  },
  {
   "cell_type": "code",
   "execution_count": 27,
   "id": "166e5a86",
   "metadata": {},
   "outputs": [
    {
     "name": "stdout",
     "output_type": "stream",
     "text": [
      "Are there any missing values where it's not the customer's first order? False\n",
      "Empty DataFrame\n",
      "Columns: [order_id, user_id, order_number, order_dow, order_hour_of_day, days_since_prior_order]\n",
      "Index: []\n"
     ]
    }
   ],
   "source": [
    "# Are there any missing values where it's not a customer's first order?\n",
    "non_first_orders = instacart_orders[instacart_orders['order_number'] > 1]\n",
    "\n",
    "missing_non_first_orders = non_first_orders[non_first_orders['days_since_prior_order'].isna()]\n",
    "\n",
    "print(\"Are there any missing values where it's not the customer's first order?\", not missing_non_first_orders.empty)\n",
    "\n",
    "print(missing_non_first_orders)"
   ]
  },
  {
   "cell_type": "markdown",
   "id": "4e23d089",
   "metadata": {},
   "source": []
  },
  {
   "cell_type": "markdown",
   "id": "4d898179",
   "metadata": {},
   "source": [
    "<div class=\"alert alert-success\"; style=\"border-left: 7px solid green\">\n",
    "<b>✅ Reviewer's comment, v. 1</b> \n",
    "    \n",
    "OK."
   ]
  },
  {
   "cell_type": "markdown",
   "id": "69dc9ca4",
   "metadata": {},
   "source": [
    "### `order_products` data frame"
   ]
  },
  {
   "cell_type": "code",
   "execution_count": 28,
   "id": "b8240253",
   "metadata": {},
   "outputs": [
    {
     "name": "stdout",
     "output_type": "stream",
     "text": [
      "order_id               0\n",
      "product_id             0\n",
      "add_to_cart_order    836\n",
      "reordered              0\n",
      "dtype: int64\n"
     ]
    }
   ],
   "source": [
    "missing_values = order_products.isna().sum()\n",
    "print(missing_values)\n",
    "products_cleaned = order_products.dropna()"
   ]
  },
  {
   "cell_type": "markdown",
   "id": "5715cb12",
   "metadata": {},
   "source": [
    "If any missing values are found, you can decide how to handle them. For instance, you could choose to fill them in, drop them, or further investigate their impact on your analysis."
   ]
  },
  {
   "cell_type": "markdown",
   "id": "622c7f5b",
   "metadata": {},
   "source": [
    "<div class=\"alert alert-success\"; style=\"border-left: 7px solid green\">\n",
    "<b>✅ Reviewer's comment, v. 4</b> \n",
    "    \n",
    "✔️ \n",
    "    \n",
    "\n",
    "\n",
    "<div class=\"alert alert-danger\"; style=\"border-left: 7px solid red\">\n",
    "<b>⛔️ Reviewer's comment, v. 3</b> \n",
    "\n",
    "The dataframe you are studying here is `order_products`. Could you please check for the missing values in that dataframe? Please do not drop them.\n",
    "    \n",
    "<div class=\"alert alert-danger\"; style=\"border-left: 7px solid red\">\n",
    "<b>⛔️ Reviewer's comment, v. 2</b> \n",
    "\n",
    "And also here.\n",
    "    \n",
    "<div class=\"alert alert-danger\"; style=\"border-left: 7px solid red\">\n",
    "<b>⛔️ Reviewer's comment, v. 1</b> \n",
    "\n",
    "Please do not forget to check for the missing values."
   ]
  },
  {
   "cell_type": "code",
   "execution_count": 29,
   "id": "9a78e5ee",
   "metadata": {},
   "outputs": [
    {
     "name": "stdout",
     "output_type": "stream",
     "text": [
      "Min value in 'add_to_cart_order': 1.0\n",
      "Max value in 'add_to_cart_order': 64.0\n"
     ]
    }
   ],
   "source": [
    "# What are the min and max values in this column?\n",
    "min_value = order_products['add_to_cart_order'].min()\n",
    "max_value = order_products['add_to_cart_order'].max()\n",
    "\n",
    "print(f\"Min value in 'add_to_cart_order': {min_value}\")\n",
    "print(f\"Max value in 'add_to_cart_order': {max_value}\")"
   ]
  },
  {
   "cell_type": "markdown",
   "id": "12ad3835",
   "metadata": {},
   "source": [
    "The minimum value in the add_to_cart_order column is 1.0, and the maximum value is 64.0. This indicates that products added to the cart are ordered with values ranging from 1 to 64.\n",
    "\n",
    "Save Order IDs with Missing 'add_to_cart_order' Values"
   ]
  },
  {
   "cell_type": "code",
   "execution_count": 30,
   "id": "ab9d0c2b",
   "metadata": {},
   "outputs": [
    {
     "name": "stdout",
     "output_type": "stream",
     "text": [
      "[2449164 1968313 2926893 1717990 1959075  844733   61355  936852  264710\n",
      " 1564093  129627  293169 2849370 1386261 3308010  903110 2136777 3347453\n",
      " 1888628  165801 2094761 1038146 2997021  813364 2256933  171934 2409109\n",
      " 1730767 1169835  733526  404157 3125735  747668 1800005 1961723  871281\n",
      "  388234 1648217 1477139  102236 1021563 1832957 2721963  678116 1220886\n",
      " 1673227 2999801 1633337 2470674 2625444 1677118 2479011 3383594 1183255\n",
      " 1713430 2652650 1598369 1916118  854647 1302315  888470  180546 2621907\n",
      " 1308785 2729254    9310 2170451 2979697 1625713 1529171]\n"
     ]
    }
   ],
   "source": [
    "# Save all order IDs with at least one missing value in 'add_to_cart_order'\n",
    "missing_add_to_cart_order = order_products[order_products['add_to_cart_order'].isna()]\n",
    "\n",
    "order_ids_with_missing = missing_add_to_cart_order['order_id'].unique()\n",
    "\n",
    "print(order_ids_with_missing)"
   ]
  },
  {
   "cell_type": "markdown",
   "id": "95408f16",
   "metadata": {},
   "source": [
    "Orders with missing values in the add_to_cart_order column were identified. There are 66 unique order IDs with at least one missing value. These will be investigated further"
   ]
  },
  {
   "cell_type": "code",
   "execution_count": 31,
   "id": "54c31695",
   "metadata": {},
   "outputs": [
    {
     "name": "stdout",
     "output_type": "stream",
     "text": [
      "Do all orders with missing values have more than 64 products? True\n"
     ]
    }
   ],
   "source": [
    "# Do all orders with missing values have more than 64 products?\n",
    "order_counts = order_products.groupby('order_id').size()\n",
    "\n",
    "orders_with_missing = order_products[order_products['add_to_cart_order'].isna()]['order_id']\n",
    "orders_with_more_than_64 = order_counts[order_counts > 64].index\n",
    "\n",
    "all_have_more_than_64 = orders_with_missing.isin(orders_with_more_than_64).all()\n",
    "\n",
    "print(\"Do all orders with missing values have more than 64 products?\", all_have_more_than_64)"
   ]
  },
  {
   "cell_type": "markdown",
   "id": "d1569bca",
   "metadata": {},
   "source": [
    "It was confirmed that all orders with missing values have more than 64 products. This suggests that missing values in add_to_cart_order occur only when the number of products in an order exceeds the usual maximum of 64."
   ]
  },
  {
   "cell_type": "code",
   "execution_count": 32,
   "id": "7a987d08",
   "metadata": {},
   "outputs": [
    {
     "name": "stdout",
     "output_type": "stream",
     "text": [
      "int64\n"
     ]
    }
   ],
   "source": [
    "# Replace missing values with 999 and convert column to integer type\n",
    "order_products['add_to_cart_order'].fillna(999, inplace=True)\n",
    "\n",
    "order_products['add_to_cart_order'] = order_products['add_to_cart_order'].astype(int)\n",
    "\n",
    "print(order_products['add_to_cart_order'].dtypes)  # Should print 'int64'"
   ]
  },
  {
   "cell_type": "markdown",
   "id": "844172b0",
   "metadata": {},
   "source": [
    "Missing values in the add_to_cart_order column were successfully replaced with 999 to indicate special cases where the order exceeds 64 products. The column was then converted to an integer type, ensuring consistency in data types for further analysis."
   ]
  },
  {
   "cell_type": "markdown",
   "id": "20ee4dbf",
   "metadata": {},
   "source": [
    "Key Takeaways:\n",
    "The range of values in the add_to_cart_order column is between 1 and 64.\n",
    "66 orders had missing values in the add_to_cart_order column, and these orders had more than 64 products.\n",
    "Missing values were handled by replacing them with 999, and the column was converted to an integer type to ensure consistency.\n",
    "This summary provides clarity on the steps taken and the results obtained."
   ]
  },
  {
   "cell_type": "markdown",
   "id": "3ea6abbf",
   "metadata": {},
   "source": [
    "<div class=\"alert alert-success\"; style=\"border-left: 7px solid green\">\n",
    "<b>✅ Reviewer's comment, v. 1</b> \n",
    "    \n",
    "Everything is correct."
   ]
  },
  {
   "cell_type": "markdown",
   "id": "fea4bcc7",
   "metadata": {},
   "source": []
  },
  {
   "cell_type": "markdown",
   "id": "275e8180",
   "metadata": {},
   "source": [
    "<div class=\"alert alert-success\"; style=\"border-left: 7px solid green\">\n",
    "<b>✅ Reviewer's comment, v. 3</b> \n",
    "    \n",
    "✔️ \n",
    "    \n",
    "\n",
    "\n",
    "<div class=\"alert alert-danger\"; style=\"border-left: 7px solid red\">\n",
    "<b>⛔️ Reviewer's comment, v. 2</b> \n",
    "\n",
    "Please add the conclusions.\n",
    "    \n",
    "<div class=\"alert alert-danger\"; style=\"border-left: 7px solid red\">\n",
    "<b>⛔️ Reviewer's comment, v. 1</b> \n",
    "\n",
    "Please do not forget to leave your comments and takeaways."
   ]
  },
  {
   "cell_type": "markdown",
   "id": "turkish-kidney",
   "metadata": {},
   "source": [
    "# [A] Easy (must complete all to pass)"
   ]
  },
  {
   "cell_type": "markdown",
   "id": "short-capability",
   "metadata": {},
   "source": [
    "### [A1] Verify that the `'order_hour_of_day'` and `'order_dow'` values in the `orders` tables are sensible (i.e. `'order_hour_of_day'` ranges from 0 to 23 and `'order_dow'` ranges from 0 to 6)"
   ]
  },
  {
   "cell_type": "code",
   "execution_count": 33,
   "id": "growing-fruit",
   "metadata": {},
   "outputs": [],
   "source": [
    "valid_hours = (instacart_orders['order_hour_of_day'] >= 0) & (instacart_orders['order_hour_of_day'] <= 23)\n",
    "valid_days = (instacart_orders['order_dow'] >= 0) & (instacart_orders['order_dow'] <= 6)"
   ]
  },
  {
   "cell_type": "code",
   "execution_count": 34,
   "id": "accessory-malaysia",
   "metadata": {},
   "outputs": [
    {
     "name": "stdout",
     "output_type": "stream",
     "text": [
      "Are all 'order_hour_of_day' values sensible? True\n",
      "Are all 'order_dow' values sensible? True\n"
     ]
    }
   ],
   "source": [
    "are_hours_valid = valid_hours.all()\n",
    "are_days_valid = valid_days.all()\n",
    "\n",
    "print(f\"Are all 'order_hour_of_day' values sensible? {are_hours_valid}\")\n",
    "print(f\"Are all 'order_dow' values sensible? {are_days_valid}\")"
   ]
  },
  {
   "cell_type": "markdown",
   "id": "9d9f3161",
   "metadata": {},
   "source": [
    "\n",
    "\n",
    "<div class=\"alert alert-success\"; style=\"border-left: 7px solid green\">\n",
    "<b>✅ Reviewer's comment, v. 1</b> \n",
    "    \n",
    "Well done."
   ]
  },
  {
   "cell_type": "markdown",
   "id": "a6743a70",
   "metadata": {},
   "source": [
    "### [A2] What time of day do people shop for groceries?"
   ]
  },
  {
   "cell_type": "code",
   "execution_count": 35,
   "id": "a36cca27",
   "metadata": {},
   "outputs": [
    {
     "name": "stdout",
     "output_type": "stream",
     "text": [
      "The most common hour people shop for groceries is: 10\n"
     ]
    },
    {
     "data": {
      "image/png": "[encoded data removed]",
      "text/plain": [
       "<Figure size 1000x600 with 1 Axes>"
      ]
     },
     "metadata": {},
     "output_type": "display_data"
    }
   ],
   "source": [
    "most_common_hour = instacart_orders['order_hour_of_day'].mode()[0]\n",
    "\n",
    "orders_per_hour = instacart_orders['order_hour_of_day'].value_counts().sort_index()\n",
    "\n",
    "print(f\"The most common hour people shop for groceries is: {most_common_hour}\")\n",
    "\n",
    "# Plot the distribution of orders by hour of the day\n",
    "plt.figure(figsize=(10,6))\n",
    "plt.bar(orders_per_hour.index, orders_per_hour.values, color='dodgerblue')\n",
    "plt.title('Distribution of Orders by Hour of the Day')\n",
    "plt.xlabel('Hour of the Day')\n",
    "plt.ylabel('Number of Orders')\n",
    "plt.xticks(range(0, 24))\n",
    "plt.grid(True)\n",
    "\n",
    "# Show the plot\n",
    "plt.show()"
   ]
  },
  {
   "cell_type": "markdown",
   "id": "11270eed",
   "metadata": {},
   "source": [
    "Most Common Hour: The most common hour for grocery shopping is 10 AM. There is a clear peak between 9 AM and 11 AM, when the majority of orders are placed.\n",
    "Hourly Distribution: Orders gradually increase from early morning, peak mid-morning, and slowly decrease throughout the day.\n",
    "Weekly Distribution: The second chart will show which days are most popular for shopping, complementing the hourly data and providing a full understanding of shopping patterns over the week.\n",
    "By adding these visualizations, the trends in grocery shopping behavior across both the hours of the day and days of the week are made more apparent, addressing the project's brief "
   ]
  },
  {
   "cell_type": "markdown",
   "id": "df932747",
   "metadata": {},
   "source": [
    "<div class=\"alert alert-success\"; style=\"border-left: 7px solid green\">\n",
    "<b>✅ Reviewer's comment, v. 3</b> \n",
    "    \n",
    "✔️ Well done on the chart above.\n",
    " \n",
    "<div class=\"alert alert-danger\"; style=\"border-left: 7px solid red\">\n",
    "<b>⛔️ Reviewer's comment, v. 2</b> \n",
    "\n",
    "Please address the comment and add the charts with the distribution of the orders within a day and week.\n",
    "    \n",
    "<div class=\"alert alert-danger\"; style=\"border-left: 7px solid red\">\n",
    "<b>⛔️ Reviewer's comment, v. 1</b> \n",
    "\n",
    "Please plot the distribution here and for the next task in accordance with the project brief."
   ]
  },
  {
   "cell_type": "markdown",
   "id": "documented-command",
   "metadata": {},
   "source": [
    "### [A3] What day of the week do people shop for groceries?"
   ]
  },
  {
   "cell_type": "code",
   "execution_count": 56,
   "id": "chief-digit",
   "metadata": {},
   "outputs": [
    {
     "name": "stdout",
     "output_type": "stream",
     "text": [
      "0    84090\n",
      "1    82185\n",
      "2    65833\n",
      "3    60897\n",
      "4    59810\n",
      "5    63488\n",
      "6    62649\n",
      "Name: order_dow, dtype: int64\n"
     ]
    },
    {
     "data": {
      "image/png": "[encoded data removed]",
      "text/plain": [
       "<Figure size 640x480 with 1 Axes>"
      ]
     },
     "metadata": {},
     "output_type": "display_data"
    }
   ],
   "source": [
    "dow_distribution = instacart_orders['order_dow'].value_counts().sort_index()\n",
    "\n",
    "# Print the distribution\n",
    "print(dow_distribution)\n",
    "\n",
    "# Optional: Visualize the distribution\n",
    "import matplotlib.pyplot as plt\n",
    "\n",
    "plt.bar(dow_distribution.index, dow_distribution.values)\n",
    "plt.xlabel('Day of the Week (0=Sunday, 6=Saturday)')\n",
    "plt.ylabel('Number of Orders')\n",
    "plt.title('Distribution of Grocery Orders by Day of the Week')\n",
    "plt.xticks(range(7), ['Sunday', 'Monday', 'Tuesday', 'Wednesday', 'Thursday', 'Friday', 'Saturday'])\n",
    "plt.show()"
   ]
  },
  {
   "cell_type": "markdown",
   "id": "74d19687",
   "metadata": {},
   "source": [
    "The output will show the number of orders placed on each day of the week. Based on this data, we can determine the most popular day(s) for grocery shopping."
   ]
  },
  {
   "cell_type": "markdown",
   "id": "2dd88cf2",
   "metadata": {},
   "source": [
    "<div class=\"alert alert-success\"; style=\"border-left: 7px solid green\">\n",
    "<b>✅ Reviewer's comment, v. 4</b> \n",
    "    \n",
    "✔️ Yes, this is correct chart.\n",
    "    \n",
    "\n",
    "\n",
    "<div class=\"alert alert-danger\"; style=\"border-left: 7px solid red\">\n",
    "<b>⛔️ Reviewer's comment, v. 3</b> \n",
    "\n",
    "The chart is not clear now. Could you please show the number of orders on each day of the week? Additionally, please move the conclusion for this chart here."
   ]
  },
  {
   "cell_type": "markdown",
   "id": "dominant-lightning",
   "metadata": {},
   "source": []
  },
  {
   "cell_type": "markdown",
   "id": "cutting-concert",
   "metadata": {},
   "source": [
    "### [A4] How long do people wait until placing another order?"
   ]
  },
  {
   "cell_type": "code",
   "execution_count": 36,
   "id": "c231f523",
   "metadata": {},
   "outputs": [
    {
     "data": {
      "image/png": "[encoded data removed]",
      "text/plain": [
       "<Figure size 640x480 with 1 Axes>"
      ]
     },
     "metadata": {},
     "output_type": "display_data"
    },
    {
     "name": "stdout",
     "output_type": "stream",
     "text": [
      "Mean wait time until next order: 11.10 days\n",
      "Median wait time until next order: 7.00 days\n"
     ]
    }
   ],
   "source": [
    "mean_days = instacart_orders['days_since_prior_order'].mean()\n",
    "median_days = instacart_orders['days_since_prior_order'].median()\n",
    "\n",
    "plt.hist(instacart_orders['days_since_prior_order'].dropna(), bins=30, edgecolor='black')\n",
    "plt.xlabel('Days Since Prior Order')\n",
    "plt.ylabel('Frequency')\n",
    "plt.title('Distribution of Days Since Prior Order')\n",
    "plt.show()\n",
    "\n",
    "print(f\"Mean wait time until next order: {mean_days:.2f} days\")\n",
    "print(f\"Median wait time until next order: {median_days:.2f} days\")"
   ]
  },
  {
   "cell_type": "markdown",
   "id": "discrete-vertex",
   "metadata": {},
   "source": []
  },
  {
   "cell_type": "markdown",
   "id": "00c4cbb8",
   "metadata": {},
   "source": [
    "<div class=\"alert alert-success\"; style=\"border-left: 7px solid green\">\n",
    "<b>✅ Reviewer's comment, v. 2</b> \n",
    "    \n",
    "✔️ \n",
    "    \n",
    "\n",
    "\n",
    "<div class=\"alert alert-danger\"; style=\"border-left: 7px solid red\">\n",
    "<b>⛔️ Reviewer's comment, v. 1</b> \n",
    "\n",
    "Please plot a chart here and update your answer to the question taking the distribution into account."
   ]
  },
  {
   "cell_type": "markdown",
   "id": "tight-staff",
   "metadata": {},
   "source": [
    "# [B] Medium (must complete all to pass)"
   ]
  },
  {
   "cell_type": "markdown",
   "id": "packed-classic",
   "metadata": {},
   "source": [
    "### [B1] Is there a difference in `'order_hour_of_day'` distributions on Wednesdays and Saturdays? Plot the histograms for both days and describe the differences that you see."
   ]
  },
  {
   "cell_type": "code",
   "execution_count": 37,
   "id": "d89b8403",
   "metadata": {},
   "outputs": [
    {
     "data": {
      "image/png": "[encoded data removed]",
      "text/plain": [
       "<Figure size 1200x600 with 2 Axes>"
      ]
     },
     "metadata": {},
     "output_type": "display_data"
    }
   ],
   "source": [
    "wednesday_orders = instacart_orders[instacart_orders['order_dow'] == 3]\n",
    "saturday_orders = instacart_orders[instacart_orders['order_dow'] == 5]\n",
    "plt.figure(figsize=(12, 6))\n",
    "# Wednesday\n",
    "plt.subplot(1, 2, 1)\n",
    "plt.hist(wednesday_orders['order_hour_of_day'], bins=24, edgecolor='black', color='blue', alpha=0.7)\n",
    "plt.xlabel('Hour of the Day')\n",
    "plt.ylabel('Frequency')\n",
    "plt.title('Order Hour Distribution on Wednesday')\n",
    "\n",
    "# Saturday\n",
    "plt.subplot(1, 2, 2)\n",
    "plt.hist(saturday_orders['order_hour_of_day'], bins=24, edgecolor='black', color='green', alpha=0.7)\n",
    "plt.xlabel('Hour of the Day')\n",
    "plt.ylabel('Frequency')\n",
    "plt.title('Order Hour Distribution on Saturday')\n",
    "\n",
    "plt.tight_layout()\n",
    "plt.show()"
   ]
  },
  {
   "cell_type": "markdown",
   "id": "30cf3290",
   "metadata": {},
   "source": [
    "Yes there is a slight difference in the hours of the day. Saturdays might have more activity in the morning or evening, as more people may shop during weekends."
   ]
  },
  {
   "cell_type": "markdown",
   "id": "06715361",
   "metadata": {},
   "source": [
    "<div class=\"alert alert-success\"; style=\"border-left: 7px solid green\">\n",
    "<b>✅ Reviewer's comment, v. 2</b> \n",
    "    \n",
    "✔️ \n",
    "    \n",
    "\n",
    "\n",
    "<div class=\"alert alert-warning\"; style=\"border-left: 7px solid gold\">\n",
    "<b>⚠️ Reviewer's comment, v. 1</b> \n",
    "\n",
    "Please move the code above into the cell below. All code related to generating a single chart should be consolidated in one cell"
   ]
  },
  {
   "cell_type": "markdown",
   "id": "919f012b",
   "metadata": {},
   "source": [
    "<div class=\"alert alert-success\"; style=\"border-left: 7px solid green\">\n",
    "<b>✅ Reviewer's comment, v. 2</b> \n",
    "    \n",
    "✔️ \n",
    "    \n",
    "\n",
    "\n",
    "<div class=\"alert alert-warning\"; style=\"border-left: 7px solid gold\">\n",
    "<b>⚠️ Reviewer's comment, v. 1</b> \n",
    "\n",
    "You need to add those two lines of code into the previous cell."
   ]
  },
  {
   "cell_type": "markdown",
   "id": "e2146558",
   "metadata": {},
   "source": [
    "<div class=\"alert alert-success\"; style=\"border-left: 7px solid green\">\n",
    "<b>✅ Reviewer's comment, v. 3</b> \n",
    "    \n",
    "✔️ Ok, well done.\n",
    "\n",
    "<div class=\"alert alert-danger\"; style=\"border-left: 7px solid red\">\n",
    "<b>⛔️ Reviewer's comment, v. 1</b> \n",
    "\n",
    "Please remember to address the question stated in the section heading.\n"
   ]
  },
  {
   "cell_type": "markdown",
   "id": "charitable-congo",
   "metadata": {},
   "source": []
  },
  {
   "cell_type": "markdown",
   "id": "e3891143",
   "metadata": {},
   "source": [
    "### [B2] What's the distribution for the number of orders per customer?"
   ]
  },
  {
   "cell_type": "code",
   "execution_count": 38,
   "id": "d8c26c23",
   "metadata": {},
   "outputs": [],
   "source": [
    "orders_per_customer = instacart_orders.groupby('user_id')['order_id'].count()"
   ]
  },
  {
   "cell_type": "code",
   "execution_count": 39,
   "id": "00e69a66",
   "metadata": {},
   "outputs": [
    {
     "data": {
      "image/png": "[encoded data removed]",
      "text/plain": [
       "<Figure size 640x480 with 1 Axes>"
      ]
     },
     "metadata": {},
     "output_type": "display_data"
    },
    {
     "name": "stdout",
     "output_type": "stream",
     "text": [
      "Mean number of orders per customer: 3.04\n",
      "Median number of orders per customer: 2.00\n",
      "Maximum number of orders placed by a customer: 28\n"
     ]
    }
   ],
   "source": [
    "plt.hist(orders_per_customer, bins=30, edgecolor='black')\n",
    "plt.xlabel('Number of Orders per Customer')\n",
    "plt.ylabel('Frequency')\n",
    "plt.title('Distribution of Number of Orders per Customer')\n",
    "plt.show()\n",
    "\n",
    "mean_orders = orders_per_customer.mean()\n",
    "median_orders = orders_per_customer.median()\n",
    "max_orders = orders_per_customer.max()\n",
    "\n",
    "print(f\"Mean number of orders per customer: {mean_orders:.2f}\")\n",
    "print(f\"Median number of orders per customer: {median_orders:.2f}\")\n",
    "print(f\"Maximum number of orders placed by a customer: {max_orders}\")"
   ]
  },
  {
   "cell_type": "markdown",
   "id": "d2eff7d5",
   "metadata": {},
   "source": [
    "<div class=\"alert alert-success\"; style=\"border-left: 7px solid green\">\n",
    "<b>✅ Reviewer's comment, v. 1</b> \n",
    "    \n",
    "Good analysis."
   ]
  },
  {
   "cell_type": "markdown",
   "id": "54a0319c",
   "metadata": {},
   "source": [
    "### [B3] What are the top 20 popular products (display their id and name)?"
   ]
  },
  {
   "cell_type": "code",
   "execution_count": 40,
   "id": "exterior-arizona",
   "metadata": {
    "scrolled": true
   },
   "outputs": [],
   "source": [
    "product_order_counts = order_products.groupby('product_id')['order_id'].count().reset_index()\n",
    "\n",
    "top_20_products = product_order_counts.sort_values(by='order_id', ascending=False).head(20)"
   ]
  },
  {
   "cell_type": "code",
   "execution_count": 41,
   "id": "universal-facial",
   "metadata": {},
   "outputs": [],
   "source": [
    "top_20_products = top_20_products.merge(products[['product_id', 'product_name']], on='product_id', how='left')"
   ]
  },
  {
   "cell_type": "code",
   "execution_count": 42,
   "id": "bbcdd20b",
   "metadata": {},
   "outputs": [
    {
     "name": "stdout",
     "output_type": "stream",
     "text": [
      "    product_id              product_name\n",
      "0        24852                    Banana\n",
      "1        13176    Bag of Organic Bananas\n",
      "2        21137      Organic Strawberries\n",
      "3        21903      Organic Baby Spinach\n",
      "4        47209      Organic Hass Avocado\n",
      "5        47766           Organic Avocado\n",
      "6        47626               Large Lemon\n",
      "7        16797              Strawberries\n",
      "8        26209                     Limes\n",
      "9        27845        Organic Whole Milk\n",
      "10       27966       Organic Raspberries\n",
      "11       22935      Organic Yellow Onion\n",
      "12       24964            Organic Garlic\n",
      "13       45007          Organic Zucchini\n",
      "14       39275       Organic Blueberries\n",
      "15       49683            Cucumber Kirby\n",
      "16       28204        Organic Fuji Apple\n",
      "17        5876             Organic Lemon\n",
      "18        8277  Apple Honeycrisp Organic\n",
      "19       40706    Organic Grape Tomatoes\n"
     ]
    }
   ],
   "source": [
    "print(top_20_products[['product_id', 'product_name']])"
   ]
  },
  {
   "cell_type": "markdown",
   "id": "7df00f47",
   "metadata": {},
   "source": [
    "<div class=\"alert alert-success\"; style=\"border-left: 7px solid green\">\n",
    "<b>✅ Reviewer's comment, v. 1</b> \n",
    "    \n",
    "This is a correct list, well done."
   ]
  },
  {
   "cell_type": "markdown",
   "id": "gross-theme",
   "metadata": {},
   "source": [
    "# [C] Hard (must complete at least two to pass)"
   ]
  },
  {
   "cell_type": "markdown",
   "id": "romantic-deposit",
   "metadata": {},
   "source": [
    "### [C1] How many items do people typically buy in one order? What does the distribution look like?"
   ]
  },
  {
   "cell_type": "code",
   "execution_count": 43,
   "id": "virtual-punch",
   "metadata": {},
   "outputs": [
    {
     "data": {
      "image/png": "[encoded data removed]",
      "text/plain": [
       "<Figure size 640x480 with 1 Axes>"
      ]
     },
     "metadata": {},
     "output_type": "display_data"
    }
   ],
   "source": [
    "items_per_order = order_products.groupby('order_id')['product_id'].count()\n",
    "\n",
    "# Plot the distribution of items per order\n",
    "plt.hist(items_per_order, bins=30, edgecolor='black')\n",
    "plt.xlabel('Number of Items per Order')\n",
    "plt.ylabel('Frequency')\n",
    "plt.title('Distribution of Number of Items per Order')\n",
    "plt.show()"
   ]
  },
  {
   "cell_type": "code",
   "execution_count": 44,
   "id": "sensitive-breathing",
   "metadata": {},
   "outputs": [],
   "source": [
    "# Calculate summary statistics\n",
    "mean_items = items_per_order.mean()\n",
    "median_items = items_per_order.median()\n",
    "max_items = items_per_order.max()"
   ]
  },
  {
   "cell_type": "code",
   "execution_count": 45,
   "id": "completed-frank",
   "metadata": {},
   "outputs": [
    {
     "name": "stdout",
     "output_type": "stream",
     "text": [
      "Mean number of items per order: 10.10\n",
      "Median number of items per order: 8.00\n",
      "Maximum number of items in a single order: 127\n"
     ]
    }
   ],
   "source": [
    "print(f\"Mean number of items per order: {mean_items:.2f}\")\n",
    "print(f\"Median number of items per order: {median_items:.2f}\")\n",
    "print(f\"Maximum number of items in a single order: {max_items}\")"
   ]
  },
  {
   "cell_type": "markdown",
   "id": "designed-mortality",
   "metadata": {},
   "source": []
  },
  {
   "cell_type": "markdown",
   "id": "9cc819c2",
   "metadata": {},
   "source": [
    "<div class=\"alert alert-success\"; style=\"border-left: 7px solid green\">\n",
    "<b>✅ Reviewer's comment, v. 1</b> \n",
    "    \n",
    "OK."
   ]
  },
  {
   "cell_type": "markdown",
   "id": "5e6b5537",
   "metadata": {},
   "source": [
    "### [C2] What are the top 20 items that are reordered most frequently (display their names and product IDs)?"
   ]
  },
  {
   "cell_type": "code",
   "execution_count": 46,
   "id": "9374e55a",
   "metadata": {},
   "outputs": [],
   "source": [
    "reordered_products = order_products[order_products['reordered'] == 1]\n",
    "\n",
    "reorder_counts = reordered_products.groupby('product_id')['order_id'].count().reset_index()"
   ]
  },
  {
   "cell_type": "code",
   "execution_count": 47,
   "id": "possible-change",
   "metadata": {
    "scrolled": true
   },
   "outputs": [],
   "source": [
    "# Sort by the number of reorders in descending order\n",
    "top_20_reordered = reorder_counts.sort_values(by='order_id', ascending=False).head(20)"
   ]
  },
  {
   "cell_type": "code",
   "execution_count": 48,
   "id": "professional-surfing",
   "metadata": {
    "scrolled": true
   },
   "outputs": [],
   "source": [
    "top_20_reordered = top_20_reordered.merge(products[['product_id', 'product_name']], on='product_id', how='left')"
   ]
  },
  {
   "cell_type": "code",
   "execution_count": 49,
   "id": "48dd3658",
   "metadata": {},
   "outputs": [
    {
     "name": "stdout",
     "output_type": "stream",
     "text": [
      "    product_id              product_name\n",
      "0        24852                    Banana\n",
      "1        13176    Bag of Organic Bananas\n",
      "2        21137      Organic Strawberries\n",
      "3        21903      Organic Baby Spinach\n",
      "4        47209      Organic Hass Avocado\n",
      "5        47766           Organic Avocado\n",
      "6        27845        Organic Whole Milk\n",
      "7        47626               Large Lemon\n",
      "8        27966       Organic Raspberries\n",
      "9        16797              Strawberries\n",
      "10       26209                     Limes\n",
      "11       22935      Organic Yellow Onion\n",
      "12       24964            Organic Garlic\n",
      "13       45007          Organic Zucchini\n",
      "14       49683            Cucumber Kirby\n",
      "15       28204        Organic Fuji Apple\n",
      "16        8277  Apple Honeycrisp Organic\n",
      "17       39275       Organic Blueberries\n",
      "18        5876             Organic Lemon\n",
      "19       49235       Organic Half & Half\n"
     ]
    }
   ],
   "source": [
    "print(top_20_reordered[['product_id', 'product_name']])"
   ]
  },
  {
   "cell_type": "markdown",
   "id": "2bcf7d14",
   "metadata": {},
   "source": [
    "<div class=\"alert alert-success\"; style=\"border-left: 7px solid green\">\n",
    "<b>✅ Reviewer's comment, v. 1</b> \n",
    "    \n",
    "\n",
    "\n",
    "Perfect execution! \n"
   ]
  },
  {
   "cell_type": "markdown",
   "id": "80e70c74",
   "metadata": {},
   "source": []
  },
  {
   "cell_type": "markdown",
   "id": "9d312b14",
   "metadata": {},
   "source": [
    "### [C3] For each product, what proportion of its orders are reorders?"
   ]
  },
  {
   "cell_type": "code",
   "execution_count": null,
   "id": "8ae9f4b1",
   "metadata": {},
   "outputs": [],
   "source": []
  },
  {
   "cell_type": "code",
   "execution_count": null,
   "id": "103e7fe1",
   "metadata": {},
   "outputs": [],
   "source": []
  },
  {
   "cell_type": "code",
   "execution_count": null,
   "id": "social-individual",
   "metadata": {},
   "outputs": [],
   "source": []
  },
  {
   "cell_type": "markdown",
   "id": "subject-boxing",
   "metadata": {},
   "source": [
    "### [C4] For each customer, what proportion of their products ordered are reorders?"
   ]
  },
  {
   "cell_type": "code",
   "execution_count": 50,
   "id": "medical-couple",
   "metadata": {
    "scrolled": true
   },
   "outputs": [],
   "source": [
    "user_order_products = order_products.merge(instacart_orders[['order_id', 'user_id']], on='order_id', how='left')\n",
    "\n",
    "# Count total products ordered by each customer\n",
    "total_orders_per_customer = user_order_products.groupby('user_id')['product_id'].count().reset_index()\n",
    "\n",
    "# Count reordered products by each customer\n",
    "reorders_per_customer = user_order_products[user_order_products['reordered'] == 1].groupby('user_id')['product_id'].count().reset_index()"
   ]
  },
  {
   "cell_type": "code",
   "execution_count": 51,
   "id": "8892e4b4",
   "metadata": {},
   "outputs": [
    {
     "name": "stdout",
     "output_type": "stream",
     "text": [
      "    user_id  reorder_proportion\n",
      "0         2            0.038462\n",
      "1         4            0.000000\n",
      "2         5            0.666667\n",
      "3         6            0.000000\n",
      "4         7            0.928571\n",
      "5        11            0.200000\n",
      "6        12            0.250000\n",
      "7        13            0.565217\n",
      "8        14            0.360656\n",
      "9        15            0.538462\n",
      "10       16            0.531250\n",
      "11       17            0.716981\n",
      "12       19            0.291667\n",
      "13       20            0.000000\n",
      "14       21            0.400000\n",
      "15       22            1.000000\n",
      "16       24            0.500000\n",
      "17       26            0.437500\n",
      "18       27            0.658824\n",
      "19       28            0.500000\n"
     ]
    }
   ],
   "source": [
    "customer_reorder_proportion = total_orders_per_customer.merge(reorders_per_customer, on='user_id', how='left', suffixes=('_total', '_reordered'))\n",
    "\n",
    "customer_reorder_proportion['product_id_reordered'].fillna(0, inplace=True)\n",
    "\n",
    "customer_reorder_proportion['reorder_proportion'] = customer_reorder_proportion['product_id_reordered'] / customer_reorder_proportion['product_id_total']\n",
    "\n",
    "print(customer_reorder_proportion[['user_id', 'reorder_proportion']].head(20))"
   ]
  },
  {
   "cell_type": "markdown",
   "id": "4acf0dd4",
   "metadata": {},
   "source": [
    "<div class=\"alert alert-success\"; style=\"border-left: 7px solid green\">\n",
    "<b>✅ Reviewer's comment, v. 1</b> \n",
    "    \n",
    "Yes, you can do it this way. However, an easier way to complete the task is to group the merged dataframe by `user_id` and calculate the mean of `reordered` columns. This will be proportion of reorders for every customer (please see below)."
   ]
  },
  {
   "cell_type": "code",
   "execution_count": 52,
   "id": "2f29f5f6",
   "metadata": {},
   "outputs": [
    {
     "data": {
      "text/html": [
       "<style  type=\"text/css\" >\n",
       "</style><table id=\"T_63476_\" ><thead>    <tr>        <th class=\"blank level0\" ></th>        <th class=\"col_heading level0 col0\" >reordered</th>    </tr>    <tr>        <th class=\"index_name level0\" >user_id</th>        <th class=\"blank\" ></th>    </tr></thead><tbody>\n",
       "                <tr>\n",
       "                        <th id=\"T_63476_level0_row0\" class=\"row_heading level0 row0\" >2</th>\n",
       "                        <td id=\"T_63476_row0_col0\" class=\"data row0 col0\" >3.8%</td>\n",
       "            </tr>\n",
       "            <tr>\n",
       "                        <th id=\"T_63476_level0_row1\" class=\"row_heading level0 row1\" >4</th>\n",
       "                        <td id=\"T_63476_row1_col0\" class=\"data row1 col0\" >0.0%</td>\n",
       "            </tr>\n",
       "            <tr>\n",
       "                        <th id=\"T_63476_level0_row2\" class=\"row_heading level0 row2\" >5</th>\n",
       "                        <td id=\"T_63476_row2_col0\" class=\"data row2 col0\" >66.7%</td>\n",
       "            </tr>\n",
       "            <tr>\n",
       "                        <th id=\"T_63476_level0_row3\" class=\"row_heading level0 row3\" >6</th>\n",
       "                        <td id=\"T_63476_row3_col0\" class=\"data row3 col0\" >0.0%</td>\n",
       "            </tr>\n",
       "            <tr>\n",
       "                        <th id=\"T_63476_level0_row4\" class=\"row_heading level0 row4\" >7</th>\n",
       "                        <td id=\"T_63476_row4_col0\" class=\"data row4 col0\" >92.9%</td>\n",
       "            </tr>\n",
       "            <tr>\n",
       "                        <th id=\"T_63476_level0_row5\" class=\"row_heading level0 row5\" >11</th>\n",
       "                        <td id=\"T_63476_row5_col0\" class=\"data row5 col0\" >20.0%</td>\n",
       "            </tr>\n",
       "            <tr>\n",
       "                        <th id=\"T_63476_level0_row6\" class=\"row_heading level0 row6\" >12</th>\n",
       "                        <td id=\"T_63476_row6_col0\" class=\"data row6 col0\" >25.0%</td>\n",
       "            </tr>\n",
       "            <tr>\n",
       "                        <th id=\"T_63476_level0_row7\" class=\"row_heading level0 row7\" >13</th>\n",
       "                        <td id=\"T_63476_row7_col0\" class=\"data row7 col0\" >56.5%</td>\n",
       "            </tr>\n",
       "            <tr>\n",
       "                        <th id=\"T_63476_level0_row8\" class=\"row_heading level0 row8\" >14</th>\n",
       "                        <td id=\"T_63476_row8_col0\" class=\"data row8 col0\" >36.1%</td>\n",
       "            </tr>\n",
       "            <tr>\n",
       "                        <th id=\"T_63476_level0_row9\" class=\"row_heading level0 row9\" >15</th>\n",
       "                        <td id=\"T_63476_row9_col0\" class=\"data row9 col0\" >53.8%</td>\n",
       "            </tr>\n",
       "            <tr>\n",
       "                        <th id=\"T_63476_level0_row10\" class=\"row_heading level0 row10\" >16</th>\n",
       "                        <td id=\"T_63476_row10_col0\" class=\"data row10 col0\" >53.1%</td>\n",
       "            </tr>\n",
       "            <tr>\n",
       "                        <th id=\"T_63476_level0_row11\" class=\"row_heading level0 row11\" >17</th>\n",
       "                        <td id=\"T_63476_row11_col0\" class=\"data row11 col0\" >71.7%</td>\n",
       "            </tr>\n",
       "            <tr>\n",
       "                        <th id=\"T_63476_level0_row12\" class=\"row_heading level0 row12\" >19</th>\n",
       "                        <td id=\"T_63476_row12_col0\" class=\"data row12 col0\" >29.2%</td>\n",
       "            </tr>\n",
       "            <tr>\n",
       "                        <th id=\"T_63476_level0_row13\" class=\"row_heading level0 row13\" >20</th>\n",
       "                        <td id=\"T_63476_row13_col0\" class=\"data row13 col0\" >0.0%</td>\n",
       "            </tr>\n",
       "            <tr>\n",
       "                        <th id=\"T_63476_level0_row14\" class=\"row_heading level0 row14\" >21</th>\n",
       "                        <td id=\"T_63476_row14_col0\" class=\"data row14 col0\" >40.0%</td>\n",
       "            </tr>\n",
       "            <tr>\n",
       "                        <th id=\"T_63476_level0_row15\" class=\"row_heading level0 row15\" >22</th>\n",
       "                        <td id=\"T_63476_row15_col0\" class=\"data row15 col0\" >100.0%</td>\n",
       "            </tr>\n",
       "            <tr>\n",
       "                        <th id=\"T_63476_level0_row16\" class=\"row_heading level0 row16\" >24</th>\n",
       "                        <td id=\"T_63476_row16_col0\" class=\"data row16 col0\" >50.0%</td>\n",
       "            </tr>\n",
       "            <tr>\n",
       "                        <th id=\"T_63476_level0_row17\" class=\"row_heading level0 row17\" >26</th>\n",
       "                        <td id=\"T_63476_row17_col0\" class=\"data row17 col0\" >43.8%</td>\n",
       "            </tr>\n",
       "            <tr>\n",
       "                        <th id=\"T_63476_level0_row18\" class=\"row_heading level0 row18\" >27</th>\n",
       "                        <td id=\"T_63476_row18_col0\" class=\"data row18 col0\" >65.9%</td>\n",
       "            </tr>\n",
       "            <tr>\n",
       "                        <th id=\"T_63476_level0_row19\" class=\"row_heading level0 row19\" >28</th>\n",
       "                        <td id=\"T_63476_row19_col0\" class=\"data row19 col0\" >50.0%</td>\n",
       "            </tr>\n",
       "    </tbody></table>"
      ],
      "text/plain": [
       "<pandas.io.formats.style.Styler at 0x7f07d0887cd0>"
      ]
     },
     "execution_count": 52,
     "metadata": {},
     "output_type": "execute_result"
    }
   ],
   "source": [
    "#ADDED BY REVIEWER\n",
    "\n",
    "reorder_pct = order_products.merge(instacart_orders)\n",
    "reorder_pct = reorder_pct.groupby('user_id')['reordered'].mean().to_frame()\n",
    "reorder_pct.head(20).style.format({'reordered': '{:.1%}'})"
   ]
  },
  {
   "cell_type": "markdown",
   "id": "92d35137",
   "metadata": {},
   "source": [
    "### [C5] What are the top 20 items that people put in their carts first? "
   ]
  },
  {
   "cell_type": "code",
   "execution_count": 53,
   "id": "0ae57274",
   "metadata": {
    "scrolled": true
   },
   "outputs": [],
   "source": [
    "first_in_cart = order_products[order_products['add_to_cart_order'] == 1]\n",
    "\n",
    "first_in_cart_counts = first_in_cart.groupby('product_id')['order_id'].count().reset_index()\n"
   ]
  },
  {
   "cell_type": "code",
   "execution_count": 54,
   "id": "forty-netherlands",
   "metadata": {
    "scrolled": true
   },
   "outputs": [],
   "source": [
    "top_20_first_in_cart = first_in_cart_counts.sort_values(by='order_id', ascending=False).head(20)\n",
    "\n",
    "top_20_first_in_cart = top_20_first_in_cart.merge(products[['product_id', 'product_name']], on='product_id', how='left')"
   ]
  },
  {
   "cell_type": "code",
   "execution_count": 55,
   "id": "08e41ec2",
   "metadata": {},
   "outputs": [
    {
     "name": "stdout",
     "output_type": "stream",
     "text": [
      "    product_id                 product_name\n",
      "0        24852                       Banana\n",
      "1        13176       Bag of Organic Bananas\n",
      "2        27845           Organic Whole Milk\n",
      "3        21137         Organic Strawberries\n",
      "4        47209         Organic Hass Avocado\n",
      "5        21903         Organic Baby Spinach\n",
      "6        47766              Organic Avocado\n",
      "7        19660                 Spring Water\n",
      "8        16797                 Strawberries\n",
      "9        27966          Organic Raspberries\n",
      "10       44632   Sparkling Water Grapefruit\n",
      "11       49235          Organic Half & Half\n",
      "12       47626                  Large Lemon\n",
      "13         196                         Soda\n",
      "14       38689     Organic Reduced Fat Milk\n",
      "15       26209                        Limes\n",
      "16       12341                Hass Avocados\n",
      "17        5785  Organic Reduced Fat 2% Milk\n",
      "18       27086                  Half & Half\n",
      "19       43352                  Raspberries\n"
     ]
    }
   ],
   "source": [
    "print(top_20_first_in_cart[['product_id', 'product_name']])"
   ]
  },
  {
   "cell_type": "markdown",
   "id": "28ce9872",
   "metadata": {},
   "source": [
    "Overall Conclusion\n",
    "In this analysis, we examined customer shopping patterns based on Instacart orders, with a focus on duplicate values, missing data, and when customers typically shop for groceries.\n",
    "\n",
    "Key findings include:\n",
    "\n",
    "Shopping Time Patterns: The most common time for grocery shopping is around 10 AM, with a clear peak in orders during the mid-morning hours. This trend suggests that many customers prefer to shop earlier in the day, likely to ensure timely delivery or availability of products.\n",
    "\n",
    "Missing Values in 'Add to Cart' Orders: We identified missing values in the add_to_cart_order column for orders containing more than 64 items. These missing values were replaced with 999 to indicate special cases where orders exceed typical item limits, ensuring the data remained usable for analysis.\n",
    "\n",
    "Data Quality: Duplicate rows and order IDs were successfully removed or handled, and missing values were addressed. These steps improved the overall accuracy and reliability of the dataset for future analysis.\n",
    "\n",
    "Business Impact:\n",
    "Targeting Shopping Times: Understanding the most active shopping hours helps Instacart optimize delivery logistics, manage inventory, and adjust staffing during peak periods.\n",
    "Handling Large Orders: Addressing missing values for large orders allows Instacart to better track and accommodate customers with high-volume purchases, potentially leading to more efficient order fulfillment.\n",
    "These insights provide valuable information for improving customer service and operational efficiency, leading to more strategic business decisions."
   ]
  },
  {
   "cell_type": "markdown",
   "id": "a7a2ff3e",
   "metadata": {},
   "source": [
    "Conclusion: Instacart Grocery Orders Analysis\n",
    "In this analysis, we explored key patterns in grocery shopping behavior using Instacart's order data. The investigation included examining common shopping times, popular products, and customer reordering behavior, among other insights. Here's a summary of the findings:\n",
    "\n",
    "Key Insights:\n",
    "Shopping Time Patterns:\n",
    "\n",
    "Most Common Shopping Hour: The peak shopping hour is around 10 AM, with the majority of orders placed between 9 AM and 11 AM. There is a significant increase in activity during mid-morning, suggesting that customers prefer early shopping times, likely for convenience and product availability.\n",
    "Shopping Day Patterns:\n",
    "\n",
    "Most Popular Shopping Day: Sunday and Monday are the busiest shopping days, with a sharp decline in orders towards the middle of the week. This suggests that many customers prefer to shop at the start of the week, possibly for meal preparation and to restock essentials.\n",
    "Wait Time Between Orders:\n",
    "\n",
    "The average customer waits 11.1 days before placing their next order. The median wait time is 7 days, suggesting that a large number of customers reorder weekly.\n",
    "Popular Products:\n",
    "\n",
    "Bananas are the most frequently purchased item, followed by other organic fruits and vegetables, such as organic bananas, strawberries, and baby spinach. This indicates a high demand for fresh, organic produce among Instacart customers.\n",
    "Reordering Patterns:\n",
    "\n",
    "Customers tend to reorder frequently, with top products like bananas and organic strawberries being reordered often. For some users, reorders make up a significant portion of their total purchases.\n",
    "Order Sizes:\n",
    "\n",
    "The average order contains about 10 items, and the maximum number of items in a single order is 127. This suggests a wide variety in order sizes, catering to both small and large shopping needs.\n",
    "Wednesday vs. Saturday Order Patterns:\n",
    "\n",
    "Wednesday and Saturday show slightly different shopping trends, with Saturday displaying more activity in the morning, which may indicate that weekend shopping habits are more prominent.\n",
    "Business Implications:\n",
    "Peak Hour Planning: Understanding that peak shopping occurs mid-morning can help Instacart optimize delivery times, stock management, and staffing to meet demand.\n",
    "Inventory Management: Popular products, particularly fresh produce, should be well-stocked to meet demand, especially on Sundays and Mondays when orders peak.\n",
    "Customer Retention: With a high frequency of reorders, providing incentives for frequent buyers, such as discounts on regularly reordered products, could improve customer retention and increase satisfaction.\n",
    "Overall, this analysis provides valuable insights into customer behavior, helping Instacart tailor its operations to enhance efficiency and meet customer expectations.\n"
   ]
  },
  {
   "cell_type": "markdown",
   "id": "41656fd0",
   "metadata": {},
   "source": [
    "<div class=\"alert alert-success\"; style=\"border-left: 7px solid green\">\n",
    "<b>✅ Reviewer's comment, v. 1</b> \n",
    "    \n",
    "\n",
    "Awesome job! You're really mastering this concept — keep it up!\n",
    "\n"
   ]
  },
  {
   "cell_type": "markdown",
   "id": "22ca3d59",
   "metadata": {},
   "source": [
    "\n",
    "\n",
    "<div class=\"alert alert-warning\" style=\"border-left: 7px solid gold\">\n",
    "<b>⚠️ Reviewer’s comment, v. 3</b>\n",
    "\n",
    "You’ve done a great job incorporating most of the takeaways into the summary. The **Data Quality** and **Missing Values** sections are well-explained. However, it would be beneficial to briefly summarize all the key takeaways from **Part Two** (Sections A, B, and C) in the conclusion to provide a more comprehensive wrap-up.\n",
    "\n",
    "\n",
    "\n",
    "<div class=\"alert alert-danger\"; style=\"border-left: 7px solid red\">\n",
    "<b>⛔️ Reviewer's comment, v. 2</b> \n",
    "\n",
    "Needs to be addressed.\n",
    "    \n",
    "<div class=\"alert alert-danger\"; style=\"border-left: 7px solid red\">\n",
    "<b>⛔️ Reviewer's comment, v. 1</b> \n",
    "\n",
    "Could you please add an overall conclusion summarizing the main findings from your analysis?\n",
    "\n",
    "Including a conclusion is a critical part of your project, as it effectively ties together all of the key insights and demonstrates the business impact of your work. It gives readers a clear and concise understanding of the data’s story, how the findings can be applied, and what decisions or actions might follow. "
   ]
  }
 ],
 "metadata": {
  "ExecuteTimeLog": [
   {
    "duration": 242,
    "start_time": "2024-09-27T08:34:37.256Z"
   },
   {
    "duration": 12,
    "start_time": "2024-09-27T08:35:18.312Z"
   },
   {
    "duration": 156,
    "start_time": "2024-09-27T08:48:35.956Z"
   },
   {
    "duration": 11,
    "start_time": "2024-09-27T08:49:16.671Z"
   },
   {
    "duration": 309,
    "start_time": "2024-09-27T09:22:12.408Z"
   },
   {
    "duration": 2,
    "start_time": "2024-09-27T09:23:04.193Z"
   },
   {
    "duration": 319,
    "start_time": "2024-09-27T09:24:59.857Z"
   },
   {
    "duration": 5,
    "start_time": "2024-09-27T09:25:28.459Z"
   },
   {
    "duration": 316,
    "start_time": "2024-09-27T09:26:01.475Z"
   },
   {
    "duration": 266,
    "start_time": "2024-09-27T09:26:01.794Z"
   },
   {
    "duration": 7,
    "start_time": "2024-09-27T09:26:02.063Z"
   },
   {
    "duration": 2,
    "start_time": "2024-09-27T09:26:02.072Z"
   },
   {
    "duration": 2,
    "start_time": "2024-09-27T09:26:02.076Z"
   },
   {
    "duration": 3,
    "start_time": "2024-09-27T09:26:02.080Z"
   },
   {
    "duration": 3,
    "start_time": "2024-09-27T09:26:02.085Z"
   },
   {
    "duration": 2,
    "start_time": "2024-09-27T09:26:02.089Z"
   },
   {
    "duration": 2,
    "start_time": "2024-09-27T09:26:02.093Z"
   },
   {
    "duration": 3,
    "start_time": "2024-09-27T09:26:02.097Z"
   },
   {
    "duration": 3,
    "start_time": "2024-09-27T09:26:02.101Z"
   },
   {
    "duration": 3,
    "start_time": "2024-09-27T09:26:02.105Z"
   },
   {
    "duration": 3,
    "start_time": "2024-09-27T09:26:02.109Z"
   },
   {
    "duration": 3,
    "start_time": "2024-09-27T09:26:02.114Z"
   },
   {
    "duration": 2,
    "start_time": "2024-09-27T09:26:02.118Z"
   },
   {
    "duration": 2,
    "start_time": "2024-09-27T09:26:02.170Z"
   },
   {
    "duration": 3,
    "start_time": "2024-09-27T09:26:02.174Z"
   },
   {
    "duration": 3,
    "start_time": "2024-09-27T09:26:02.178Z"
   },
   {
    "duration": 4,
    "start_time": "2024-09-27T09:26:02.182Z"
   },
   {
    "duration": 3,
    "start_time": "2024-09-27T09:26:02.187Z"
   },
   {
    "duration": 4,
    "start_time": "2024-09-27T09:26:02.191Z"
   },
   {
    "duration": 3,
    "start_time": "2024-09-27T09:26:02.196Z"
   },
   {
    "duration": 69,
    "start_time": "2024-09-27T09:27:20.838Z"
   },
   {
    "duration": 273,
    "start_time": "2024-09-27T09:27:47.859Z"
   },
   {
    "duration": 180,
    "start_time": "2024-09-27T09:29:35.276Z"
   },
   {
    "duration": 302,
    "start_time": "2024-09-27T09:30:07.972Z"
   },
   {
    "duration": 260,
    "start_time": "2024-09-27T09:30:11.892Z"
   },
   {
    "duration": 36,
    "start_time": "2024-09-27T09:30:14.744Z"
   },
   {
    "duration": 1962,
    "start_time": "2024-09-27T09:30:22.637Z"
   },
   {
    "duration": 14,
    "start_time": "2024-09-27T09:31:40.108Z"
   },
   {
    "duration": 11,
    "start_time": "2024-09-27T09:33:29.594Z"
   },
   {
    "duration": 5,
    "start_time": "2024-09-27T09:35:49.646Z"
   },
   {
    "duration": 278,
    "start_time": "2024-09-27T09:36:52.940Z"
   },
   {
    "duration": 253,
    "start_time": "2024-09-27T09:36:53.220Z"
   },
   {
    "duration": 35,
    "start_time": "2024-09-27T09:36:53.475Z"
   },
   {
    "duration": 1864,
    "start_time": "2024-09-27T09:36:53.512Z"
   },
   {
    "duration": 10,
    "start_time": "2024-09-27T09:36:55.380Z"
   },
   {
    "duration": 9,
    "start_time": "2024-09-27T09:36:55.391Z"
   },
   {
    "duration": 2,
    "start_time": "2024-09-27T09:36:55.401Z"
   },
   {
    "duration": 2,
    "start_time": "2024-09-27T09:36:55.405Z"
   },
   {
    "duration": 3,
    "start_time": "2024-09-27T09:36:55.409Z"
   },
   {
    "duration": 3,
    "start_time": "2024-09-27T09:36:55.413Z"
   },
   {
    "duration": 2,
    "start_time": "2024-09-27T09:36:55.417Z"
   },
   {
    "duration": 2,
    "start_time": "2024-09-27T09:36:55.421Z"
   },
   {
    "duration": 2,
    "start_time": "2024-09-27T09:36:55.425Z"
   },
   {
    "duration": 42,
    "start_time": "2024-09-27T09:36:55.430Z"
   },
   {
    "duration": 3,
    "start_time": "2024-09-27T09:36:55.473Z"
   },
   {
    "duration": 2,
    "start_time": "2024-09-27T09:36:55.478Z"
   },
   {
    "duration": 2,
    "start_time": "2024-09-27T09:36:55.482Z"
   },
   {
    "duration": 2,
    "start_time": "2024-09-27T09:36:55.486Z"
   },
   {
    "duration": 2,
    "start_time": "2024-09-27T09:36:55.490Z"
   },
   {
    "duration": 2,
    "start_time": "2024-09-27T09:36:55.494Z"
   },
   {
    "duration": 2,
    "start_time": "2024-09-27T09:36:55.498Z"
   },
   {
    "duration": 2,
    "start_time": "2024-09-27T09:36:55.502Z"
   },
   {
    "duration": 2,
    "start_time": "2024-09-27T09:36:55.505Z"
   },
   {
    "duration": 2,
    "start_time": "2024-09-27T09:36:55.509Z"
   },
   {
    "duration": 5,
    "start_time": "2024-09-27T09:36:55.513Z"
   },
   {
    "duration": 3,
    "start_time": "2024-09-27T09:36:55.571Z"
   },
   {
    "duration": 305,
    "start_time": "2024-09-27T10:02:53.805Z"
   },
   {
    "duration": 141,
    "start_time": "2024-09-27T10:02:54.112Z"
   },
   {
    "duration": 48,
    "start_time": "2024-09-27T10:02:54.254Z"
   },
   {
    "duration": 719,
    "start_time": "2024-09-27T10:02:54.305Z"
   },
   {
    "duration": 9,
    "start_time": "2024-09-27T10:02:55.026Z"
   },
   {
    "duration": 8,
    "start_time": "2024-09-27T10:02:55.037Z"
   },
   {
    "duration": 3,
    "start_time": "2024-09-27T10:02:55.046Z"
   },
   {
    "duration": 2,
    "start_time": "2024-09-27T10:02:55.051Z"
   },
   {
    "duration": 2,
    "start_time": "2024-09-27T10:02:55.071Z"
   },
   {
    "duration": 3,
    "start_time": "2024-09-27T10:02:55.077Z"
   },
   {
    "duration": 3,
    "start_time": "2024-09-27T10:02:55.081Z"
   },
   {
    "duration": 3,
    "start_time": "2024-09-27T10:02:55.085Z"
   },
   {
    "duration": 3,
    "start_time": "2024-09-27T10:02:55.089Z"
   },
   {
    "duration": 3,
    "start_time": "2024-09-27T10:02:55.093Z"
   },
   {
    "duration": 2,
    "start_time": "2024-09-27T10:02:55.097Z"
   },
   {
    "duration": 2,
    "start_time": "2024-09-27T10:02:55.101Z"
   },
   {
    "duration": 3,
    "start_time": "2024-09-27T10:02:55.104Z"
   },
   {
    "duration": 2,
    "start_time": "2024-09-27T10:02:55.109Z"
   },
   {
    "duration": 3,
    "start_time": "2024-09-27T10:02:55.112Z"
   },
   {
    "duration": 2,
    "start_time": "2024-09-27T10:02:55.117Z"
   },
   {
    "duration": 2,
    "start_time": "2024-09-27T10:02:55.170Z"
   },
   {
    "duration": 2,
    "start_time": "2024-09-27T10:02:55.174Z"
   },
   {
    "duration": 2,
    "start_time": "2024-09-27T10:02:55.178Z"
   },
   {
    "duration": 2,
    "start_time": "2024-09-27T10:02:55.182Z"
   },
   {
    "duration": 2,
    "start_time": "2024-09-27T10:02:55.186Z"
   },
   {
    "duration": 2,
    "start_time": "2024-09-27T10:02:55.191Z"
   },
   {
    "duration": 322,
    "start_time": "2024-09-27T10:28:52.595Z"
   },
   {
    "duration": 234,
    "start_time": "2024-09-27T10:28:52.920Z"
   },
   {
    "duration": 52,
    "start_time": "2024-09-27T10:28:53.156Z"
   },
   {
    "duration": 1249,
    "start_time": "2024-09-27T10:28:53.211Z"
   },
   {
    "duration": 15,
    "start_time": "2024-09-27T10:28:54.462Z"
   },
   {
    "duration": 8,
    "start_time": "2024-09-27T10:28:54.479Z"
   },
   {
    "duration": 2,
    "start_time": "2024-09-27T10:28:54.489Z"
   },
   {
    "duration": 2,
    "start_time": "2024-09-27T10:28:54.493Z"
   },
   {
    "duration": 3,
    "start_time": "2024-09-27T10:28:54.496Z"
   },
   {
    "duration": 2,
    "start_time": "2024-09-27T10:28:54.502Z"
   },
   {
    "duration": 2,
    "start_time": "2024-09-27T10:28:54.506Z"
   },
   {
    "duration": 2,
    "start_time": "2024-09-27T10:28:54.510Z"
   },
   {
    "duration": 2,
    "start_time": "2024-09-27T10:28:54.514Z"
   },
   {
    "duration": 2,
    "start_time": "2024-09-27T10:28:54.518Z"
   },
   {
    "duration": 2,
    "start_time": "2024-09-27T10:28:54.522Z"
   },
   {
    "duration": 45,
    "start_time": "2024-09-27T10:28:54.526Z"
   },
   {
    "duration": 2,
    "start_time": "2024-09-27T10:28:54.573Z"
   },
   {
    "duration": 3,
    "start_time": "2024-09-27T10:28:54.577Z"
   },
   {
    "duration": 2,
    "start_time": "2024-09-27T10:28:54.581Z"
   },
   {
    "duration": 3,
    "start_time": "2024-09-27T10:28:54.585Z"
   },
   {
    "duration": 2,
    "start_time": "2024-09-27T10:28:54.590Z"
   },
   {
    "duration": 2,
    "start_time": "2024-09-27T10:28:54.594Z"
   },
   {
    "duration": 2,
    "start_time": "2024-09-27T10:28:54.598Z"
   },
   {
    "duration": 3,
    "start_time": "2024-09-27T10:28:54.601Z"
   },
   {
    "duration": 3,
    "start_time": "2024-09-27T10:28:54.605Z"
   },
   {
    "duration": 2,
    "start_time": "2024-09-27T10:28:54.609Z"
   },
   {
    "duration": 157,
    "start_time": "2024-09-28T06:09:43.738Z"
   },
   {
    "duration": 10,
    "start_time": "2024-09-28T06:15:45.323Z"
   },
   {
    "duration": 10,
    "start_time": "2024-09-28T06:15:51.691Z"
   },
   {
    "duration": 309,
    "start_time": "2024-09-28T06:16:01.216Z"
   },
   {
    "duration": 276,
    "start_time": "2024-09-28T06:16:01.527Z"
   },
   {
    "duration": 69,
    "start_time": "2024-09-28T06:16:01.805Z"
   },
   {
    "duration": 1306,
    "start_time": "2024-09-28T06:16:01.877Z"
   },
   {
    "duration": 11,
    "start_time": "2024-09-28T06:16:03.184Z"
   },
   {
    "duration": 10,
    "start_time": "2024-09-28T06:16:03.197Z"
   },
   {
    "duration": 192,
    "start_time": "2024-09-28T06:16:03.208Z"
   },
   {
    "duration": 0,
    "start_time": "2024-09-28T06:16:03.403Z"
   },
   {
    "duration": 0,
    "start_time": "2024-09-28T06:16:03.405Z"
   },
   {
    "duration": 0,
    "start_time": "2024-09-28T06:16:03.407Z"
   },
   {
    "duration": 0,
    "start_time": "2024-09-28T06:16:03.408Z"
   },
   {
    "duration": 0,
    "start_time": "2024-09-28T06:16:03.410Z"
   },
   {
    "duration": 0,
    "start_time": "2024-09-28T06:16:03.411Z"
   },
   {
    "duration": 0,
    "start_time": "2024-09-28T06:16:03.412Z"
   },
   {
    "duration": 0,
    "start_time": "2024-09-28T06:16:03.414Z"
   },
   {
    "duration": 0,
    "start_time": "2024-09-28T06:16:03.415Z"
   },
   {
    "duration": 0,
    "start_time": "2024-09-28T06:16:03.416Z"
   },
   {
    "duration": 0,
    "start_time": "2024-09-28T06:16:03.418Z"
   },
   {
    "duration": 0,
    "start_time": "2024-09-28T06:16:03.419Z"
   },
   {
    "duration": 0,
    "start_time": "2024-09-28T06:16:03.420Z"
   },
   {
    "duration": 0,
    "start_time": "2024-09-28T06:16:03.422Z"
   },
   {
    "duration": 0,
    "start_time": "2024-09-28T06:16:03.424Z"
   },
   {
    "duration": 0,
    "start_time": "2024-09-28T06:16:03.426Z"
   },
   {
    "duration": 0,
    "start_time": "2024-09-28T06:16:03.427Z"
   },
   {
    "duration": 0,
    "start_time": "2024-09-28T06:16:03.429Z"
   },
   {
    "duration": 0,
    "start_time": "2024-09-28T06:16:03.430Z"
   },
   {
    "duration": 12,
    "start_time": "2024-09-28T06:18:08.837Z"
   },
   {
    "duration": 305,
    "start_time": "2024-09-28T06:18:44.474Z"
   },
   {
    "duration": 290,
    "start_time": "2024-09-28T06:21:19.873Z"
   },
   {
    "duration": 300,
    "start_time": "2024-09-28T06:23:25.992Z"
   },
   {
    "duration": 338,
    "start_time": "2024-09-28T06:23:56.302Z"
   },
   {
    "duration": 243,
    "start_time": "2024-09-28T06:23:56.643Z"
   },
   {
    "duration": 48,
    "start_time": "2024-09-28T06:23:56.888Z"
   },
   {
    "duration": 1257,
    "start_time": "2024-09-28T06:23:56.938Z"
   },
   {
    "duration": 9,
    "start_time": "2024-09-28T06:23:58.199Z"
   },
   {
    "duration": 8,
    "start_time": "2024-09-28T06:23:58.210Z"
   },
   {
    "duration": 287,
    "start_time": "2024-09-28T06:23:58.221Z"
   },
   {
    "duration": 2,
    "start_time": "2024-09-28T06:23:58.510Z"
   },
   {
    "duration": 2,
    "start_time": "2024-09-28T06:23:58.513Z"
   },
   {
    "duration": 2,
    "start_time": "2024-09-28T06:23:58.517Z"
   },
   {
    "duration": 2,
    "start_time": "2024-09-28T06:23:58.521Z"
   },
   {
    "duration": 2,
    "start_time": "2024-09-28T06:23:58.525Z"
   },
   {
    "duration": 3,
    "start_time": "2024-09-28T06:23:58.528Z"
   },
   {
    "duration": 2,
    "start_time": "2024-09-28T06:23:58.534Z"
   },
   {
    "duration": 2,
    "start_time": "2024-09-28T06:23:58.571Z"
   },
   {
    "duration": 2,
    "start_time": "2024-09-28T06:23:58.575Z"
   },
   {
    "duration": 2,
    "start_time": "2024-09-28T06:23:58.579Z"
   },
   {
    "duration": 2,
    "start_time": "2024-09-28T06:23:58.584Z"
   },
   {
    "duration": 2,
    "start_time": "2024-09-28T06:23:58.589Z"
   },
   {
    "duration": 2,
    "start_time": "2024-09-28T06:23:58.592Z"
   },
   {
    "duration": 3,
    "start_time": "2024-09-28T06:23:58.596Z"
   },
   {
    "duration": 2,
    "start_time": "2024-09-28T06:23:58.600Z"
   },
   {
    "duration": 2,
    "start_time": "2024-09-28T06:23:58.604Z"
   },
   {
    "duration": 2,
    "start_time": "2024-09-28T06:23:58.608Z"
   },
   {
    "duration": 2,
    "start_time": "2024-09-28T06:23:58.612Z"
   },
   {
    "duration": 3,
    "start_time": "2024-09-28T06:23:58.615Z"
   },
   {
    "duration": 542,
    "start_time": "2024-09-28T06:26:52.816Z"
   },
   {
    "duration": 328,
    "start_time": "2024-09-28T06:28:50.274Z"
   },
   {
    "duration": 236,
    "start_time": "2024-09-28T06:28:50.604Z"
   },
   {
    "duration": 59,
    "start_time": "2024-09-28T06:28:50.842Z"
   },
   {
    "duration": 1260,
    "start_time": "2024-09-28T06:28:50.903Z"
   },
   {
    "duration": 9,
    "start_time": "2024-09-28T06:28:52.170Z"
   },
   {
    "duration": 9,
    "start_time": "2024-09-28T06:28:52.181Z"
   },
   {
    "duration": 326,
    "start_time": "2024-09-28T06:28:52.191Z"
   },
   {
    "duration": 2,
    "start_time": "2024-09-28T06:28:52.520Z"
   },
   {
    "duration": 2,
    "start_time": "2024-09-28T06:28:52.524Z"
   },
   {
    "duration": 2,
    "start_time": "2024-09-28T06:28:52.529Z"
   },
   {
    "duration": 2,
    "start_time": "2024-09-28T06:28:52.532Z"
   },
   {
    "duration": 2,
    "start_time": "2024-09-28T06:28:52.536Z"
   },
   {
    "duration": 30,
    "start_time": "2024-09-28T06:28:52.540Z"
   },
   {
    "duration": 2,
    "start_time": "2024-09-28T06:28:52.571Z"
   },
   {
    "duration": 2,
    "start_time": "2024-09-28T06:28:52.575Z"
   },
   {
    "duration": 2,
    "start_time": "2024-09-28T06:28:52.579Z"
   },
   {
    "duration": 2,
    "start_time": "2024-09-28T06:28:52.583Z"
   },
   {
    "duration": 2,
    "start_time": "2024-09-28T06:28:52.587Z"
   },
   {
    "duration": 2,
    "start_time": "2024-09-28T06:28:52.592Z"
   },
   {
    "duration": 2,
    "start_time": "2024-09-28T06:28:52.595Z"
   },
   {
    "duration": 2,
    "start_time": "2024-09-28T06:28:52.599Z"
   },
   {
    "duration": 2,
    "start_time": "2024-09-28T06:28:52.603Z"
   },
   {
    "duration": 2,
    "start_time": "2024-09-28T06:28:52.607Z"
   },
   {
    "duration": 2,
    "start_time": "2024-09-28T06:28:52.612Z"
   },
   {
    "duration": 3,
    "start_time": "2024-09-28T06:28:52.615Z"
   },
   {
    "duration": 2,
    "start_time": "2024-09-28T06:28:52.671Z"
   },
   {
    "duration": 8,
    "start_time": "2024-09-28T07:19:56.115Z"
   },
   {
    "duration": 156,
    "start_time": "2024-09-28T07:29:10.088Z"
   },
   {
    "duration": 331,
    "start_time": "2024-09-28T07:29:36.458Z"
   },
   {
    "duration": 266,
    "start_time": "2024-09-28T07:29:36.792Z"
   },
   {
    "duration": 71,
    "start_time": "2024-09-28T07:29:37.060Z"
   },
   {
    "duration": 1330,
    "start_time": "2024-09-28T07:29:37.133Z"
   },
   {
    "duration": 12,
    "start_time": "2024-09-28T07:29:38.465Z"
   },
   {
    "duration": 12,
    "start_time": "2024-09-28T07:29:38.479Z"
   },
   {
    "duration": 277,
    "start_time": "2024-09-28T07:29:38.492Z"
   },
   {
    "duration": 542,
    "start_time": "2024-09-28T07:29:38.771Z"
   },
   {
    "duration": 0,
    "start_time": "2024-09-28T07:29:39.317Z"
   },
   {
    "duration": 0,
    "start_time": "2024-09-28T07:29:39.318Z"
   },
   {
    "duration": 0,
    "start_time": "2024-09-28T07:29:39.320Z"
   },
   {
    "duration": 0,
    "start_time": "2024-09-28T07:29:39.321Z"
   },
   {
    "duration": 0,
    "start_time": "2024-09-28T07:29:39.322Z"
   },
   {
    "duration": 0,
    "start_time": "2024-09-28T07:29:39.324Z"
   },
   {
    "duration": 0,
    "start_time": "2024-09-28T07:29:39.343Z"
   },
   {
    "duration": 0,
    "start_time": "2024-09-28T07:29:39.344Z"
   },
   {
    "duration": 0,
    "start_time": "2024-09-28T07:29:39.345Z"
   },
   {
    "duration": 0,
    "start_time": "2024-09-28T07:29:39.346Z"
   },
   {
    "duration": 0,
    "start_time": "2024-09-28T07:29:39.347Z"
   },
   {
    "duration": 0,
    "start_time": "2024-09-28T07:29:39.349Z"
   },
   {
    "duration": 0,
    "start_time": "2024-09-28T07:29:39.350Z"
   },
   {
    "duration": 0,
    "start_time": "2024-09-28T07:29:39.351Z"
   },
   {
    "duration": 0,
    "start_time": "2024-09-28T07:29:39.352Z"
   },
   {
    "duration": 0,
    "start_time": "2024-09-28T07:29:39.353Z"
   },
   {
    "duration": 0,
    "start_time": "2024-09-28T07:29:39.354Z"
   },
   {
    "duration": 0,
    "start_time": "2024-09-28T07:29:39.355Z"
   },
   {
    "duration": 45,
    "start_time": "2024-09-28T07:32:17.275Z"
   },
   {
    "duration": 287,
    "start_time": "2024-09-28T07:32:29.237Z"
   },
   {
    "duration": 236,
    "start_time": "2024-09-28T07:32:29.526Z"
   },
   {
    "duration": 50,
    "start_time": "2024-09-28T07:32:29.763Z"
   },
   {
    "duration": 1286,
    "start_time": "2024-09-28T07:32:29.816Z"
   },
   {
    "duration": 9,
    "start_time": "2024-09-28T07:32:31.104Z"
   },
   {
    "duration": 8,
    "start_time": "2024-09-28T07:32:31.115Z"
   },
   {
    "duration": 309,
    "start_time": "2024-09-28T07:32:31.125Z"
   },
   {
    "duration": 548,
    "start_time": "2024-09-28T07:32:31.436Z"
   },
   {
    "duration": 0,
    "start_time": "2024-09-28T07:32:31.986Z"
   },
   {
    "duration": 0,
    "start_time": "2024-09-28T07:32:31.987Z"
   },
   {
    "duration": 1,
    "start_time": "2024-09-28T07:32:31.988Z"
   },
   {
    "duration": 0,
    "start_time": "2024-09-28T07:32:31.989Z"
   },
   {
    "duration": 0,
    "start_time": "2024-09-28T07:32:31.991Z"
   },
   {
    "duration": 0,
    "start_time": "2024-09-28T07:32:31.992Z"
   },
   {
    "duration": 0,
    "start_time": "2024-09-28T07:32:31.993Z"
   },
   {
    "duration": 0,
    "start_time": "2024-09-28T07:32:31.994Z"
   },
   {
    "duration": 0,
    "start_time": "2024-09-28T07:32:31.995Z"
   },
   {
    "duration": 0,
    "start_time": "2024-09-28T07:32:31.996Z"
   },
   {
    "duration": 0,
    "start_time": "2024-09-28T07:32:31.997Z"
   },
   {
    "duration": 0,
    "start_time": "2024-09-28T07:32:31.998Z"
   },
   {
    "duration": 0,
    "start_time": "2024-09-28T07:32:31.999Z"
   },
   {
    "duration": 0,
    "start_time": "2024-09-28T07:32:32.001Z"
   },
   {
    "duration": 0,
    "start_time": "2024-09-28T07:32:32.002Z"
   },
   {
    "duration": 0,
    "start_time": "2024-09-28T07:32:32.003Z"
   },
   {
    "duration": 0,
    "start_time": "2024-09-28T07:32:32.004Z"
   },
   {
    "duration": 0,
    "start_time": "2024-09-28T07:32:32.006Z"
   },
   {
    "duration": 14,
    "start_time": "2024-09-28T07:35:48.417Z"
   },
   {
    "duration": 40,
    "start_time": "2024-09-28T07:35:59.823Z"
   },
   {
    "duration": 315,
    "start_time": "2024-09-28T07:39:34.474Z"
   },
   {
    "duration": 13,
    "start_time": "2024-09-28T07:40:27.265Z"
   },
   {
    "duration": 286,
    "start_time": "2024-09-28T07:40:47.032Z"
   },
   {
    "duration": 278,
    "start_time": "2024-09-28T07:41:46.728Z"
   },
   {
    "duration": 40,
    "start_time": "2024-09-28T07:43:31.706Z"
   },
   {
    "duration": 328,
    "start_time": "2024-09-28T19:31:49.992Z"
   },
   {
    "duration": 265,
    "start_time": "2024-09-28T19:31:50.322Z"
   },
   {
    "duration": 67,
    "start_time": "2024-09-28T19:31:50.589Z"
   },
   {
    "duration": 1319,
    "start_time": "2024-09-28T19:31:50.657Z"
   },
   {
    "duration": 9,
    "start_time": "2024-09-28T19:31:51.978Z"
   },
   {
    "duration": 11,
    "start_time": "2024-09-28T19:31:51.989Z"
   },
   {
    "duration": 292,
    "start_time": "2024-09-28T19:31:52.002Z"
   },
   {
    "duration": 3,
    "start_time": "2024-09-28T19:31:52.295Z"
   },
   {
    "duration": 305,
    "start_time": "2024-09-28T19:31:52.300Z"
   },
   {
    "duration": 288,
    "start_time": "2024-09-28T19:31:52.607Z"
   },
   {
    "duration": 554,
    "start_time": "2024-09-28T19:31:52.898Z"
   },
   {
    "duration": 0,
    "start_time": "2024-09-28T19:31:53.454Z"
   },
   {
    "duration": 0,
    "start_time": "2024-09-28T19:31:53.456Z"
   },
   {
    "duration": 0,
    "start_time": "2024-09-28T19:31:53.457Z"
   },
   {
    "duration": 0,
    "start_time": "2024-09-28T19:31:53.458Z"
   },
   {
    "duration": 0,
    "start_time": "2024-09-28T19:31:53.459Z"
   },
   {
    "duration": 0,
    "start_time": "2024-09-28T19:31:53.460Z"
   },
   {
    "duration": 0,
    "start_time": "2024-09-28T19:31:53.470Z"
   },
   {
    "duration": 0,
    "start_time": "2024-09-28T19:31:53.471Z"
   },
   {
    "duration": 0,
    "start_time": "2024-09-28T19:31:53.472Z"
   },
   {
    "duration": 0,
    "start_time": "2024-09-28T19:31:53.474Z"
   },
   {
    "duration": 0,
    "start_time": "2024-09-28T19:31:53.475Z"
   },
   {
    "duration": 0,
    "start_time": "2024-09-28T19:31:53.477Z"
   },
   {
    "duration": 0,
    "start_time": "2024-09-28T19:31:53.479Z"
   },
   {
    "duration": 0,
    "start_time": "2024-09-28T19:31:53.480Z"
   },
   {
    "duration": 0,
    "start_time": "2024-09-28T19:31:53.482Z"
   },
   {
    "duration": 37,
    "start_time": "2024-09-28T19:53:02.404Z"
   },
   {
    "duration": 37,
    "start_time": "2024-09-28T19:53:28.414Z"
   },
   {
    "duration": 317,
    "start_time": "2024-09-28T19:53:37.377Z"
   },
   {
    "duration": 236,
    "start_time": "2024-09-28T19:53:37.696Z"
   },
   {
    "duration": 57,
    "start_time": "2024-09-28T19:53:37.934Z"
   },
   {
    "duration": 1234,
    "start_time": "2024-09-28T19:53:37.994Z"
   },
   {
    "duration": 9,
    "start_time": "2024-09-28T19:53:39.230Z"
   },
   {
    "duration": 8,
    "start_time": "2024-09-28T19:53:39.240Z"
   },
   {
    "duration": 289,
    "start_time": "2024-09-28T19:53:39.250Z"
   },
   {
    "duration": 571,
    "start_time": "2024-09-28T19:53:39.541Z"
   },
   {
    "duration": 0,
    "start_time": "2024-09-28T19:53:40.115Z"
   },
   {
    "duration": 0,
    "start_time": "2024-09-28T19:53:40.118Z"
   },
   {
    "duration": 0,
    "start_time": "2024-09-28T19:53:40.119Z"
   },
   {
    "duration": 0,
    "start_time": "2024-09-28T19:53:40.120Z"
   },
   {
    "duration": 0,
    "start_time": "2024-09-28T19:53:40.121Z"
   },
   {
    "duration": 0,
    "start_time": "2024-09-28T19:53:40.122Z"
   },
   {
    "duration": 0,
    "start_time": "2024-09-28T19:53:40.123Z"
   },
   {
    "duration": 0,
    "start_time": "2024-09-28T19:53:40.124Z"
   },
   {
    "duration": 0,
    "start_time": "2024-09-28T19:53:40.125Z"
   },
   {
    "duration": 0,
    "start_time": "2024-09-28T19:53:40.126Z"
   },
   {
    "duration": 0,
    "start_time": "2024-09-28T19:53:40.127Z"
   },
   {
    "duration": 0,
    "start_time": "2024-09-28T19:53:40.128Z"
   },
   {
    "duration": 0,
    "start_time": "2024-09-28T19:53:40.130Z"
   },
   {
    "duration": 0,
    "start_time": "2024-09-28T19:53:40.131Z"
   },
   {
    "duration": 0,
    "start_time": "2024-09-28T19:53:40.133Z"
   },
   {
    "duration": 0,
    "start_time": "2024-09-28T19:53:40.135Z"
   },
   {
    "duration": 0,
    "start_time": "2024-09-28T19:53:40.169Z"
   },
   {
    "duration": 0,
    "start_time": "2024-09-28T19:53:40.172Z"
   },
   {
    "duration": 36,
    "start_time": "2024-09-28T19:54:44.987Z"
   },
   {
    "duration": 38,
    "start_time": "2024-09-28T19:56:27.383Z"
   },
   {
    "duration": 36,
    "start_time": "2024-09-28T19:56:45.059Z"
   },
   {
    "duration": 15,
    "start_time": "2024-09-28T19:59:00.897Z"
   },
   {
    "duration": 20,
    "start_time": "2024-09-28T19:59:14.638Z"
   },
   {
    "duration": 14,
    "start_time": "2024-09-28T20:01:41.296Z"
   },
   {
    "duration": 20,
    "start_time": "2024-09-28T20:14:58.869Z"
   },
   {
    "duration": 7,
    "start_time": "2024-09-28T20:15:23.399Z"
   },
   {
    "duration": 298,
    "start_time": "2024-09-28T20:16:56.125Z"
   },
   {
    "duration": 148,
    "start_time": "2024-09-28T20:16:56.426Z"
   },
   {
    "duration": 41,
    "start_time": "2024-09-28T20:16:56.579Z"
   },
   {
    "duration": 756,
    "start_time": "2024-09-28T20:16:56.624Z"
   },
   {
    "duration": 9,
    "start_time": "2024-09-28T20:16:57.382Z"
   },
   {
    "duration": 9,
    "start_time": "2024-09-28T20:16:57.393Z"
   },
   {
    "duration": 134,
    "start_time": "2024-09-28T20:16:57.403Z"
   },
   {
    "duration": 11,
    "start_time": "2024-09-28T20:16:57.540Z"
   },
   {
    "duration": 125,
    "start_time": "2024-09-28T20:16:57.553Z"
   },
   {
    "duration": 114,
    "start_time": "2024-09-28T20:16:57.681Z"
   },
   {
    "duration": 6,
    "start_time": "2024-09-28T20:16:57.797Z"
   },
   {
    "duration": 2,
    "start_time": "2024-09-28T20:16:57.805Z"
   },
   {
    "duration": 2,
    "start_time": "2024-09-28T20:16:57.809Z"
   },
   {
    "duration": 2,
    "start_time": "2024-09-28T20:16:57.813Z"
   },
   {
    "duration": 2,
    "start_time": "2024-09-28T20:16:57.817Z"
   },
   {
    "duration": 3,
    "start_time": "2024-09-28T20:16:57.821Z"
   },
   {
    "duration": 3,
    "start_time": "2024-09-28T20:16:57.825Z"
   },
   {
    "duration": 42,
    "start_time": "2024-09-28T20:16:57.829Z"
   },
   {
    "duration": 2,
    "start_time": "2024-09-28T20:16:57.873Z"
   },
   {
    "duration": 3,
    "start_time": "2024-09-28T20:16:57.877Z"
   },
   {
    "duration": 2,
    "start_time": "2024-09-28T20:16:57.883Z"
   },
   {
    "duration": 2,
    "start_time": "2024-09-28T20:16:57.887Z"
   },
   {
    "duration": 4,
    "start_time": "2024-09-28T20:16:57.890Z"
   },
   {
    "duration": 2,
    "start_time": "2024-09-28T20:16:57.896Z"
   },
   {
    "duration": 3,
    "start_time": "2024-09-28T20:16:57.900Z"
   },
   {
    "duration": 2,
    "start_time": "2024-09-28T20:16:57.905Z"
   },
   {
    "duration": 58,
    "start_time": "2024-09-28T20:18:02.418Z"
   },
   {
    "duration": 163,
    "start_time": "2024-09-29T03:19:52.792Z"
   },
   {
    "duration": 11,
    "start_time": "2024-09-29T03:21:03.652Z"
   },
   {
    "duration": 283,
    "start_time": "2024-09-29T03:22:15.985Z"
   },
   {
    "duration": 156,
    "start_time": "2024-09-29T03:22:16.270Z"
   },
   {
    "duration": 55,
    "start_time": "2024-09-29T03:22:16.427Z"
   },
   {
    "duration": 785,
    "start_time": "2024-09-29T03:22:16.484Z"
   },
   {
    "duration": 10,
    "start_time": "2024-09-29T03:22:17.271Z"
   },
   {
    "duration": 9,
    "start_time": "2024-09-29T03:22:17.284Z"
   },
   {
    "duration": 116,
    "start_time": "2024-09-29T03:22:17.295Z"
   },
   {
    "duration": 11,
    "start_time": "2024-09-29T03:22:17.413Z"
   },
   {
    "duration": 113,
    "start_time": "2024-09-29T03:22:17.426Z"
   },
   {
    "duration": 103,
    "start_time": "2024-09-29T03:22:17.543Z"
   },
   {
    "duration": 62,
    "start_time": "2024-09-29T03:22:17.649Z"
   },
   {
    "duration": 5,
    "start_time": "2024-09-29T03:22:17.713Z"
   },
   {
    "duration": 2,
    "start_time": "2024-09-29T03:22:17.720Z"
   },
   {
    "duration": 2,
    "start_time": "2024-09-29T03:22:17.724Z"
   },
   {
    "duration": 2,
    "start_time": "2024-09-29T03:22:17.728Z"
   },
   {
    "duration": 2,
    "start_time": "2024-09-29T03:22:17.732Z"
   },
   {
    "duration": 3,
    "start_time": "2024-09-29T03:22:17.736Z"
   },
   {
    "duration": 2,
    "start_time": "2024-09-29T03:22:17.740Z"
   },
   {
    "duration": 2,
    "start_time": "2024-09-29T03:22:17.744Z"
   },
   {
    "duration": 3,
    "start_time": "2024-09-29T03:22:17.747Z"
   },
   {
    "duration": 2,
    "start_time": "2024-09-29T03:22:17.752Z"
   },
   {
    "duration": 51,
    "start_time": "2024-09-29T03:22:17.756Z"
   },
   {
    "duration": 3,
    "start_time": "2024-09-29T03:22:17.808Z"
   },
   {
    "duration": 4,
    "start_time": "2024-09-29T03:22:17.812Z"
   },
   {
    "duration": 2,
    "start_time": "2024-09-29T03:22:17.818Z"
   },
   {
    "duration": 2,
    "start_time": "2024-09-29T03:22:17.822Z"
   },
   {
    "duration": 12,
    "start_time": "2024-09-29T03:23:22.045Z"
   },
   {
    "duration": 172,
    "start_time": "2024-09-29T03:25:53.210Z"
   },
   {
    "duration": 12,
    "start_time": "2024-09-29T03:26:41.633Z"
   },
   {
    "duration": 306,
    "start_time": "2024-09-29T11:06:45.738Z"
   },
   {
    "duration": 155,
    "start_time": "2024-09-29T11:06:46.047Z"
   },
   {
    "duration": 58,
    "start_time": "2024-09-29T11:06:46.204Z"
   },
   {
    "duration": 791,
    "start_time": "2024-09-29T11:06:46.265Z"
   },
   {
    "duration": 10,
    "start_time": "2024-09-29T11:06:47.058Z"
   },
   {
    "duration": 10,
    "start_time": "2024-09-29T11:06:47.070Z"
   },
   {
    "duration": 114,
    "start_time": "2024-09-29T11:06:47.082Z"
   },
   {
    "duration": 11,
    "start_time": "2024-09-29T11:06:47.198Z"
   },
   {
    "duration": 117,
    "start_time": "2024-09-29T11:06:47.210Z"
   },
   {
    "duration": 112,
    "start_time": "2024-09-29T11:06:47.330Z"
   },
   {
    "duration": 67,
    "start_time": "2024-09-29T11:06:47.443Z"
   },
   {
    "duration": 12,
    "start_time": "2024-09-29T11:06:47.511Z"
   },
   {
    "duration": 186,
    "start_time": "2024-09-29T11:06:47.525Z"
   },
   {
    "duration": 0,
    "start_time": "2024-09-29T11:06:47.712Z"
   },
   {
    "duration": 0,
    "start_time": "2024-09-29T11:06:47.713Z"
   },
   {
    "duration": 0,
    "start_time": "2024-09-29T11:06:47.714Z"
   },
   {
    "duration": 0,
    "start_time": "2024-09-29T11:06:47.716Z"
   },
   {
    "duration": 0,
    "start_time": "2024-09-29T11:06:47.718Z"
   },
   {
    "duration": 0,
    "start_time": "2024-09-29T11:06:47.719Z"
   },
   {
    "duration": 0,
    "start_time": "2024-09-29T11:06:47.720Z"
   },
   {
    "duration": 0,
    "start_time": "2024-09-29T11:06:47.722Z"
   },
   {
    "duration": 0,
    "start_time": "2024-09-29T11:06:47.723Z"
   },
   {
    "duration": 0,
    "start_time": "2024-09-29T11:06:47.724Z"
   },
   {
    "duration": 0,
    "start_time": "2024-09-29T11:06:47.726Z"
   },
   {
    "duration": 0,
    "start_time": "2024-09-29T11:06:47.727Z"
   },
   {
    "duration": 0,
    "start_time": "2024-09-29T11:06:47.729Z"
   },
   {
    "duration": 10,
    "start_time": "2024-09-29T11:08:18.729Z"
   },
   {
    "duration": 7,
    "start_time": "2024-09-29T11:09:22.235Z"
   },
   {
    "duration": 26,
    "start_time": "2024-09-29T11:10:58.269Z"
   },
   {
    "duration": 11,
    "start_time": "2024-09-29T11:11:37.651Z"
   },
   {
    "duration": 7,
    "start_time": "2024-09-29T11:11:41.602Z"
   },
   {
    "duration": 25,
    "start_time": "2024-09-29T11:11:52.716Z"
   },
   {
    "duration": 2176,
    "start_time": "2024-09-29T18:10:47.222Z"
   },
   {
    "duration": 157,
    "start_time": "2024-09-29T18:10:49.401Z"
   },
   {
    "duration": 61,
    "start_time": "2024-09-29T18:10:49.560Z"
   },
   {
    "duration": 790,
    "start_time": "2024-09-29T18:10:49.623Z"
   },
   {
    "duration": 9,
    "start_time": "2024-09-29T18:10:50.415Z"
   },
   {
    "duration": 10,
    "start_time": "2024-09-29T18:10:50.426Z"
   },
   {
    "duration": 108,
    "start_time": "2024-09-29T18:10:50.438Z"
   },
   {
    "duration": 11,
    "start_time": "2024-09-29T18:10:50.548Z"
   },
   {
    "duration": 106,
    "start_time": "2024-09-29T18:10:50.560Z"
   },
   {
    "duration": 104,
    "start_time": "2024-09-29T18:10:50.669Z"
   },
   {
    "duration": 59,
    "start_time": "2024-09-29T18:10:50.775Z"
   },
   {
    "duration": 11,
    "start_time": "2024-09-29T18:10:50.836Z"
   },
   {
    "duration": 5,
    "start_time": "2024-09-29T18:10:50.849Z"
   },
   {
    "duration": 23,
    "start_time": "2024-09-29T18:10:50.855Z"
   },
   {
    "duration": 2,
    "start_time": "2024-09-29T18:10:50.879Z"
   },
   {
    "duration": 27,
    "start_time": "2024-09-29T18:10:50.883Z"
   },
   {
    "duration": 3,
    "start_time": "2024-09-29T18:10:50.912Z"
   },
   {
    "duration": 3,
    "start_time": "2024-09-29T18:10:50.916Z"
   },
   {
    "duration": 2,
    "start_time": "2024-09-29T18:10:50.922Z"
   },
   {
    "duration": 4,
    "start_time": "2024-09-29T18:10:50.925Z"
   },
   {
    "duration": 3,
    "start_time": "2024-09-29T18:10:50.931Z"
   },
   {
    "duration": 2,
    "start_time": "2024-09-29T18:10:50.936Z"
   },
   {
    "duration": 2,
    "start_time": "2024-09-29T18:10:50.940Z"
   },
   {
    "duration": 2,
    "start_time": "2024-09-29T18:10:50.944Z"
   },
   {
    "duration": 4,
    "start_time": "2024-09-29T18:10:50.947Z"
   },
   {
    "duration": 3,
    "start_time": "2024-09-29T18:10:50.952Z"
   },
   {
    "duration": 24,
    "start_time": "2024-09-29T21:27:07.038Z"
   },
   {
    "duration": 2,
    "start_time": "2024-09-29T21:27:57.621Z"
   },
   {
    "duration": 10,
    "start_time": "2024-09-29T21:28:32.627Z"
   },
   {
    "duration": 2,
    "start_time": "2024-09-29T21:28:48.348Z"
   },
   {
    "duration": 11,
    "start_time": "2024-09-29T21:30:34.296Z"
   },
   {
    "duration": 8,
    "start_time": "2024-09-29T21:30:48.702Z"
   },
   {
    "duration": 766,
    "start_time": "2024-09-29T21:32:41.181Z"
   },
   {
    "duration": 716,
    "start_time": "2024-09-29T21:35:07.376Z"
   },
   {
    "duration": 5,
    "start_time": "2024-09-29T21:40:32.113Z"
   },
   {
    "duration": 8,
    "start_time": "2024-09-29T21:40:48.099Z"
   },
   {
    "duration": 6,
    "start_time": "2024-09-29T21:41:08.050Z"
   },
   {
    "duration": 9,
    "start_time": "2024-09-29T21:41:50.344Z"
   },
   {
    "duration": 11,
    "start_time": "2024-09-29T21:42:09.122Z"
   },
   {
    "duration": 7,
    "start_time": "2024-09-29T21:42:21.991Z"
   },
   {
    "duration": 8,
    "start_time": "2024-09-29T21:42:48.692Z"
   },
   {
    "duration": 8,
    "start_time": "2024-09-29T21:46:44.793Z"
   },
   {
    "duration": 7,
    "start_time": "2024-09-29T21:47:03.843Z"
   },
   {
    "duration": 8,
    "start_time": "2024-09-29T21:47:55.657Z"
   },
   {
    "duration": 5,
    "start_time": "2024-09-29T21:49:10.034Z"
   },
   {
    "duration": 6,
    "start_time": "2024-09-29T21:49:54.973Z"
   },
   {
    "duration": 8,
    "start_time": "2024-09-29T21:50:14.062Z"
   },
   {
    "duration": 5,
    "start_time": "2024-09-29T21:50:42.972Z"
   },
   {
    "duration": 7,
    "start_time": "2024-09-29T21:51:19.039Z"
   },
   {
    "duration": 5,
    "start_time": "2024-09-29T21:51:49.209Z"
   },
   {
    "duration": 7,
    "start_time": "2024-09-29T21:52:10.648Z"
   },
   {
    "duration": 221,
    "start_time": "2024-09-29T21:52:33.900Z"
   },
   {
    "duration": 8,
    "start_time": "2024-09-29T21:54:12.041Z"
   },
   {
    "duration": 15,
    "start_time": "2024-09-29T21:55:54.230Z"
   },
   {
    "duration": 8,
    "start_time": "2024-09-29T21:56:30.272Z"
   },
   {
    "duration": 33,
    "start_time": "2024-09-29T22:06:08.963Z"
   },
   {
    "duration": 7,
    "start_time": "2024-09-29T22:06:55.732Z"
   },
   {
    "duration": 303,
    "start_time": "2024-09-29T22:08:05.654Z"
   },
   {
    "duration": 24,
    "start_time": "2024-09-29T22:08:55.028Z"
   },
   {
    "duration": 158,
    "start_time": "2024-09-29T23:47:25.801Z"
   },
   {
    "duration": 12,
    "start_time": "2024-09-29T23:48:09.851Z"
   },
   {
    "duration": 2423,
    "start_time": "2024-09-29T23:48:30.544Z"
   },
   {
    "duration": 188,
    "start_time": "2024-09-29T23:48:32.970Z"
   },
   {
    "duration": 58,
    "start_time": "2024-09-29T23:48:33.160Z"
   },
   {
    "duration": 924,
    "start_time": "2024-09-29T23:48:33.221Z"
   },
   {
    "duration": 11,
    "start_time": "2024-09-29T23:48:34.147Z"
   },
   {
    "duration": 15,
    "start_time": "2024-09-29T23:48:34.160Z"
   },
   {
    "duration": 127,
    "start_time": "2024-09-29T23:48:34.177Z"
   },
   {
    "duration": 10,
    "start_time": "2024-09-29T23:48:34.307Z"
   },
   {
    "duration": 126,
    "start_time": "2024-09-29T23:48:34.318Z"
   },
   {
    "duration": 147,
    "start_time": "2024-09-29T23:48:34.447Z"
   },
   {
    "duration": 68,
    "start_time": "2024-09-29T23:48:34.596Z"
   },
   {
    "duration": 20,
    "start_time": "2024-09-29T23:48:34.666Z"
   },
   {
    "duration": 6,
    "start_time": "2024-09-29T23:48:34.689Z"
   },
   {
    "duration": 41,
    "start_time": "2024-09-29T23:48:34.696Z"
   },
   {
    "duration": 33,
    "start_time": "2024-09-29T23:48:34.739Z"
   },
   {
    "duration": 3,
    "start_time": "2024-09-29T23:48:34.774Z"
   },
   {
    "duration": 11,
    "start_time": "2024-09-29T23:48:34.778Z"
   },
   {
    "duration": 2,
    "start_time": "2024-09-29T23:48:34.791Z"
   },
   {
    "duration": 8,
    "start_time": "2024-09-29T23:48:34.794Z"
   },
   {
    "duration": 944,
    "start_time": "2024-09-29T23:48:34.804Z"
   },
   {
    "duration": 855,
    "start_time": "2024-09-29T23:48:35.751Z"
   },
   {
    "duration": 7,
    "start_time": "2024-09-29T23:48:36.607Z"
   },
   {
    "duration": 24,
    "start_time": "2024-09-29T23:48:36.616Z"
   },
   {
    "duration": 7,
    "start_time": "2024-09-29T23:48:36.643Z"
   },
   {
    "duration": 5,
    "start_time": "2024-09-29T23:48:36.652Z"
   },
   {
    "duration": 10,
    "start_time": "2024-09-29T23:48:36.660Z"
   },
   {
    "duration": 11,
    "start_time": "2024-09-29T23:48:36.672Z"
   },
   {
    "duration": 15,
    "start_time": "2024-09-29T23:48:36.687Z"
   },
   {
    "duration": 10,
    "start_time": "2024-09-29T23:48:36.734Z"
   },
   {
    "duration": 42,
    "start_time": "2024-09-29T23:48:36.746Z"
   },
   {
    "duration": 7,
    "start_time": "2024-09-29T23:48:36.790Z"
   },
   {
    "duration": 346,
    "start_time": "2024-09-29T23:48:36.798Z"
   },
   {
    "duration": 29,
    "start_time": "2024-09-29T23:48:37.146Z"
   },
   {
    "duration": 4,
    "start_time": "2024-09-29T23:48:37.177Z"
   },
   {
    "duration": 6,
    "start_time": "2024-09-29T23:48:40.853Z"
   },
   {
    "duration": 3,
    "start_time": "2024-09-29T23:49:02.488Z"
   },
   {
    "duration": 9,
    "start_time": "2024-09-29T23:49:45.108Z"
   },
   {
    "duration": 13,
    "start_time": "2024-09-29T23:51:12.766Z"
   },
   {
    "duration": 187,
    "start_time": "2024-09-29T23:53:09.875Z"
   },
   {
    "duration": 26,
    "start_time": "2024-09-29T23:53:40.251Z"
   },
   {
    "duration": 205,
    "start_time": "2024-09-29T23:53:57.823Z"
   },
   {
    "duration": 15,
    "start_time": "2024-09-29T23:57:15.888Z"
   },
   {
    "duration": 13,
    "start_time": "2024-09-29T23:57:34.499Z"
   },
   {
    "duration": 5,
    "start_time": "2024-09-29T23:59:35.998Z"
   },
   {
    "duration": 449,
    "start_time": "2024-09-29T23:59:48.139Z"
   },
   {
    "duration": 183,
    "start_time": "2024-09-29T23:59:48.590Z"
   },
   {
    "duration": 44,
    "start_time": "2024-09-29T23:59:48.775Z"
   },
   {
    "duration": 739,
    "start_time": "2024-09-29T23:59:48.821Z"
   },
   {
    "duration": 9,
    "start_time": "2024-09-29T23:59:49.563Z"
   },
   {
    "duration": 9,
    "start_time": "2024-09-29T23:59:49.574Z"
   },
   {
    "duration": 117,
    "start_time": "2024-09-29T23:59:49.585Z"
   },
   {
    "duration": 11,
    "start_time": "2024-09-29T23:59:49.704Z"
   },
   {
    "duration": 150,
    "start_time": "2024-09-29T23:59:49.717Z"
   },
   {
    "duration": 120,
    "start_time": "2024-09-29T23:59:49.869Z"
   },
   {
    "duration": 80,
    "start_time": "2024-09-29T23:59:49.993Z"
   },
   {
    "duration": 20,
    "start_time": "2024-09-29T23:59:50.074Z"
   },
   {
    "duration": 7,
    "start_time": "2024-09-29T23:59:50.096Z"
   },
   {
    "duration": 41,
    "start_time": "2024-09-29T23:59:50.107Z"
   },
   {
    "duration": 25,
    "start_time": "2024-09-29T23:59:50.149Z"
   },
   {
    "duration": 3,
    "start_time": "2024-09-29T23:59:50.176Z"
   },
   {
    "duration": 9,
    "start_time": "2024-09-29T23:59:50.182Z"
   },
   {
    "duration": 2,
    "start_time": "2024-09-29T23:59:50.193Z"
   },
   {
    "duration": 8,
    "start_time": "2024-09-29T23:59:50.196Z"
   },
   {
    "duration": 849,
    "start_time": "2024-09-29T23:59:50.205Z"
   },
   {
    "duration": 730,
    "start_time": "2024-09-29T23:59:51.056Z"
   },
   {
    "duration": 9,
    "start_time": "2024-09-29T23:59:51.788Z"
   },
   {
    "duration": 8,
    "start_time": "2024-09-29T23:59:51.799Z"
   },
   {
    "duration": 23,
    "start_time": "2024-09-29T23:59:51.808Z"
   },
   {
    "duration": 6,
    "start_time": "2024-09-29T23:59:51.833Z"
   },
   {
    "duration": 8,
    "start_time": "2024-09-29T23:59:51.841Z"
   },
   {
    "duration": 8,
    "start_time": "2024-09-29T23:59:51.851Z"
   },
   {
    "duration": 14,
    "start_time": "2024-09-29T23:59:51.861Z"
   },
   {
    "duration": 7,
    "start_time": "2024-09-29T23:59:51.877Z"
   },
   {
    "duration": 67,
    "start_time": "2024-09-29T23:59:51.886Z"
   },
   {
    "duration": 8,
    "start_time": "2024-09-29T23:59:51.955Z"
   },
   {
    "duration": 315,
    "start_time": "2024-09-29T23:59:51.965Z"
   },
   {
    "duration": 29,
    "start_time": "2024-09-29T23:59:52.282Z"
   },
   {
    "duration": 19,
    "start_time": "2024-09-29T23:59:52.313Z"
   },
   {
    "duration": 3,
    "start_time": "2024-09-29T23:59:52.334Z"
   },
   {
    "duration": 10,
    "start_time": "2024-09-29T23:59:52.339Z"
   },
   {
    "duration": 9,
    "start_time": "2024-09-29T23:59:52.351Z"
   },
   {
    "duration": 16,
    "start_time": "2024-09-29T23:59:52.361Z"
   },
   {
    "duration": 246,
    "start_time": "2024-09-29T23:59:52.378Z"
   },
   {
    "duration": 0,
    "start_time": "2024-09-29T23:59:52.625Z"
   },
   {
    "duration": 0,
    "start_time": "2024-09-29T23:59:52.627Z"
   },
   {
    "duration": 0,
    "start_time": "2024-09-29T23:59:52.631Z"
   },
   {
    "duration": 434,
    "start_time": "2024-09-30T00:00:52.471Z"
   },
   {
    "duration": 175,
    "start_time": "2024-09-30T00:00:52.908Z"
   },
   {
    "duration": 48,
    "start_time": "2024-09-30T00:00:53.084Z"
   },
   {
    "duration": 726,
    "start_time": "2024-09-30T00:00:53.134Z"
   },
   {
    "duration": 8,
    "start_time": "2024-09-30T00:00:53.862Z"
   },
   {
    "duration": 8,
    "start_time": "2024-09-30T00:00:53.871Z"
   },
   {
    "duration": 118,
    "start_time": "2024-09-30T00:00:53.881Z"
   },
   {
    "duration": 10,
    "start_time": "2024-09-30T00:00:54.001Z"
   },
   {
    "duration": 119,
    "start_time": "2024-09-30T00:00:54.012Z"
   },
   {
    "duration": 110,
    "start_time": "2024-09-30T00:00:54.133Z"
   },
   {
    "duration": 61,
    "start_time": "2024-09-30T00:00:54.245Z"
   },
   {
    "duration": 35,
    "start_time": "2024-09-30T00:00:54.308Z"
   },
   {
    "duration": 5,
    "start_time": "2024-09-30T00:00:54.345Z"
   },
   {
    "duration": 29,
    "start_time": "2024-09-30T00:00:54.353Z"
   },
   {
    "duration": 23,
    "start_time": "2024-09-30T00:00:54.384Z"
   },
   {
    "duration": 3,
    "start_time": "2024-09-30T00:00:54.432Z"
   },
   {
    "duration": 11,
    "start_time": "2024-09-30T00:00:54.436Z"
   },
   {
    "duration": 2,
    "start_time": "2024-09-30T00:00:54.448Z"
   },
   {
    "duration": 8,
    "start_time": "2024-09-30T00:00:54.452Z"
   },
   {
    "duration": 815,
    "start_time": "2024-09-30T00:00:54.461Z"
   },
   {
    "duration": 718,
    "start_time": "2024-09-30T00:00:55.278Z"
   },
   {
    "duration": 7,
    "start_time": "2024-09-30T00:00:55.998Z"
   },
   {
    "duration": 7,
    "start_time": "2024-09-30T00:00:56.007Z"
   },
   {
    "duration": 18,
    "start_time": "2024-09-30T00:00:56.016Z"
   },
   {
    "duration": 5,
    "start_time": "2024-09-30T00:00:56.037Z"
   },
   {
    "duration": 8,
    "start_time": "2024-09-30T00:00:56.043Z"
   },
   {
    "duration": 7,
    "start_time": "2024-09-30T00:00:56.053Z"
   },
   {
    "duration": 14,
    "start_time": "2024-09-30T00:00:56.062Z"
   },
   {
    "duration": 7,
    "start_time": "2024-09-30T00:00:56.078Z"
   },
   {
    "duration": 70,
    "start_time": "2024-09-30T00:00:56.087Z"
   },
   {
    "duration": 8,
    "start_time": "2024-09-30T00:00:56.160Z"
   },
   {
    "duration": 282,
    "start_time": "2024-09-30T00:00:56.169Z"
   },
   {
    "duration": 23,
    "start_time": "2024-09-30T00:00:56.454Z"
   },
   {
    "duration": 5,
    "start_time": "2024-09-30T00:00:56.479Z"
   },
   {
    "duration": 4,
    "start_time": "2024-09-30T00:00:56.485Z"
   },
   {
    "duration": 10,
    "start_time": "2024-09-30T00:00:56.490Z"
   },
   {
    "duration": 37,
    "start_time": "2024-09-30T00:00:56.501Z"
   },
   {
    "duration": 15,
    "start_time": "2024-09-30T00:00:56.540Z"
   },
   {
    "duration": 9,
    "start_time": "2024-09-30T00:00:56.557Z"
   },
   {
    "duration": 8,
    "start_time": "2024-09-30T00:00:56.568Z"
   },
   {
    "duration": 227,
    "start_time": "2024-09-30T00:00:56.580Z"
   },
   {
    "duration": 5,
    "start_time": "2024-09-30T00:00:56.809Z"
   },
   {
    "duration": 183,
    "start_time": "2024-09-30T00:02:39.494Z"
   },
   {
    "duration": 37,
    "start_time": "2024-09-30T00:02:48.659Z"
   },
   {
    "duration": 125,
    "start_time": "2024-09-30T00:03:15.152Z"
   },
   {
    "duration": 102,
    "start_time": "2024-09-30T00:03:54.261Z"
   },
   {
    "duration": 13,
    "start_time": "2024-09-30T00:04:13.792Z"
   },
   {
    "duration": 5,
    "start_time": "2024-09-30T00:04:35.051Z"
   },
   {
    "duration": 394,
    "start_time": "2024-09-30T00:09:53.850Z"
   },
   {
    "duration": 11,
    "start_time": "2024-09-30T00:10:00.380Z"
   },
   {
    "duration": 3,
    "start_time": "2024-09-30T00:10:03.169Z"
   },
   {
    "duration": 434,
    "start_time": "2024-09-30T00:11:52.279Z"
   },
   {
    "duration": 177,
    "start_time": "2024-09-30T00:11:52.715Z"
   },
   {
    "duration": 46,
    "start_time": "2024-09-30T00:11:52.893Z"
   },
   {
    "duration": 721,
    "start_time": "2024-09-30T00:11:52.942Z"
   },
   {
    "duration": 9,
    "start_time": "2024-09-30T00:11:53.667Z"
   },
   {
    "duration": 9,
    "start_time": "2024-09-30T00:11:53.678Z"
   },
   {
    "duration": 111,
    "start_time": "2024-09-30T00:11:53.689Z"
   },
   {
    "duration": 11,
    "start_time": "2024-09-30T00:11:53.802Z"
   },
   {
    "duration": 120,
    "start_time": "2024-09-30T00:11:53.815Z"
   },
   {
    "duration": 107,
    "start_time": "2024-09-30T00:11:53.937Z"
   },
   {
    "duration": 54,
    "start_time": "2024-09-30T00:11:54.046Z"
   },
   {
    "duration": 29,
    "start_time": "2024-09-30T00:11:54.102Z"
   },
   {
    "duration": 7,
    "start_time": "2024-09-30T00:11:54.133Z"
   },
   {
    "duration": 23,
    "start_time": "2024-09-30T00:11:54.143Z"
   },
   {
    "duration": 22,
    "start_time": "2024-09-30T00:11:54.167Z"
   },
   {
    "duration": 2,
    "start_time": "2024-09-30T00:11:54.191Z"
   },
   {
    "duration": 9,
    "start_time": "2024-09-30T00:11:54.195Z"
   },
   {
    "duration": 27,
    "start_time": "2024-09-30T00:11:54.205Z"
   },
   {
    "duration": 8,
    "start_time": "2024-09-30T00:11:54.234Z"
   },
   {
    "duration": 800,
    "start_time": "2024-09-30T00:11:54.243Z"
   },
   {
    "duration": 695,
    "start_time": "2024-09-30T00:11:55.045Z"
   },
   {
    "duration": 7,
    "start_time": "2024-09-30T00:11:55.743Z"
   },
   {
    "duration": 6,
    "start_time": "2024-09-30T00:11:55.752Z"
   },
   {
    "duration": 5,
    "start_time": "2024-09-30T00:11:55.760Z"
   },
   {
    "duration": 4,
    "start_time": "2024-09-30T00:11:55.767Z"
   },
   {
    "duration": 7,
    "start_time": "2024-09-30T00:11:55.773Z"
   },
   {
    "duration": 8,
    "start_time": "2024-09-30T00:11:55.781Z"
   },
   {
    "duration": 50,
    "start_time": "2024-09-30T00:11:55.791Z"
   },
   {
    "duration": 8,
    "start_time": "2024-09-30T00:11:55.843Z"
   },
   {
    "duration": 35,
    "start_time": "2024-09-30T00:11:55.852Z"
   },
   {
    "duration": 7,
    "start_time": "2024-09-30T00:11:55.890Z"
   },
   {
    "duration": 306,
    "start_time": "2024-09-30T00:11:55.900Z"
   },
   {
    "duration": 31,
    "start_time": "2024-09-30T00:11:56.208Z"
   },
   {
    "duration": 5,
    "start_time": "2024-09-30T00:11:56.241Z"
   },
   {
    "duration": 3,
    "start_time": "2024-09-30T00:11:56.247Z"
   },
   {
    "duration": 8,
    "start_time": "2024-09-30T00:11:56.252Z"
   },
   {
    "duration": 8,
    "start_time": "2024-09-30T00:11:56.263Z"
   },
   {
    "duration": 15,
    "start_time": "2024-09-30T00:11:56.272Z"
   },
   {
    "duration": 42,
    "start_time": "2024-09-30T00:11:56.289Z"
   },
   {
    "duration": 6,
    "start_time": "2024-09-30T00:11:56.333Z"
   },
   {
    "duration": 210,
    "start_time": "2024-09-30T00:11:56.344Z"
   },
   {
    "duration": 4,
    "start_time": "2024-09-30T00:11:56.555Z"
   },
   {
    "duration": 37,
    "start_time": "2024-09-30T00:11:56.561Z"
   },
   {
    "duration": 148,
    "start_time": "2024-09-30T00:11:56.600Z"
   },
   {
    "duration": 112,
    "start_time": "2024-09-30T00:11:56.749Z"
   },
   {
    "duration": 10,
    "start_time": "2024-09-30T00:11:56.862Z"
   },
   {
    "duration": 5,
    "start_time": "2024-09-30T00:11:56.873Z"
   },
   {
    "duration": 416,
    "start_time": "2024-09-30T00:11:56.880Z"
   },
   {
    "duration": 11,
    "start_time": "2024-09-30T00:11:57.297Z"
   },
   {
    "duration": 3,
    "start_time": "2024-09-30T00:11:57.309Z"
   },
   {
    "duration": 172,
    "start_time": "2024-09-30T00:11:57.331Z"
   },
   {
    "duration": 5,
    "start_time": "2024-09-30T00:11:57.505Z"
   },
   {
    "duration": 21,
    "start_time": "2024-09-30T00:11:57.512Z"
   },
   {
    "duration": 5,
    "start_time": "2024-09-30T00:11:57.535Z"
   },
   {
    "duration": 207,
    "start_time": "2024-09-30T00:11:57.542Z"
   },
   {
    "duration": 0,
    "start_time": "2024-09-30T00:11:57.750Z"
   },
   {
    "duration": 0,
    "start_time": "2024-09-30T00:11:57.751Z"
   },
   {
    "duration": 0,
    "start_time": "2024-09-30T00:11:57.752Z"
   },
   {
    "duration": 0,
    "start_time": "2024-09-30T00:11:57.754Z"
   },
   {
    "duration": 16,
    "start_time": "2024-09-30T00:12:04.956Z"
   },
   {
    "duration": 1053,
    "start_time": "2024-09-30T00:12:30.616Z"
   },
   {
    "duration": 30,
    "start_time": "2024-09-30T00:12:36.655Z"
   },
   {
    "duration": 36,
    "start_time": "2024-09-30T00:12:56.555Z"
   },
   {
    "duration": 11,
    "start_time": "2024-09-30T00:12:58.556Z"
   },
   {
    "duration": 5,
    "start_time": "2024-09-30T00:12:59.481Z"
   },
   {
    "duration": 2410,
    "start_time": "2024-09-30T00:39:51.176Z"
   },
   {
    "duration": 166,
    "start_time": "2024-09-30T00:39:53.588Z"
   },
   {
    "duration": 70,
    "start_time": "2024-09-30T00:39:53.756Z"
   },
   {
    "duration": 833,
    "start_time": "2024-09-30T00:39:53.827Z"
   },
   {
    "duration": 11,
    "start_time": "2024-09-30T00:39:54.663Z"
   },
   {
    "duration": 10,
    "start_time": "2024-09-30T00:39:54.676Z"
   },
   {
    "duration": 135,
    "start_time": "2024-09-30T00:39:54.690Z"
   },
   {
    "duration": 20,
    "start_time": "2024-09-30T00:39:54.827Z"
   },
   {
    "duration": 121,
    "start_time": "2024-09-30T00:39:54.849Z"
   },
   {
    "duration": 114,
    "start_time": "2024-09-30T00:39:54.972Z"
   },
   {
    "duration": 78,
    "start_time": "2024-09-30T00:39:55.089Z"
   },
   {
    "duration": 20,
    "start_time": "2024-09-30T00:39:55.169Z"
   },
   {
    "duration": 9,
    "start_time": "2024-09-30T00:39:55.192Z"
   },
   {
    "duration": 39,
    "start_time": "2024-09-30T00:39:55.205Z"
   },
   {
    "duration": 27,
    "start_time": "2024-09-30T00:39:55.246Z"
   },
   {
    "duration": 3,
    "start_time": "2024-09-30T00:39:55.275Z"
   },
   {
    "duration": 10,
    "start_time": "2024-09-30T00:39:55.279Z"
   },
   {
    "duration": 2,
    "start_time": "2024-09-30T00:39:55.291Z"
   },
   {
    "duration": 8,
    "start_time": "2024-09-30T00:39:55.296Z"
   },
   {
    "duration": 888,
    "start_time": "2024-09-30T00:39:55.305Z"
   },
   {
    "duration": 767,
    "start_time": "2024-09-30T00:39:56.195Z"
   },
   {
    "duration": 8,
    "start_time": "2024-09-30T00:39:56.966Z"
   },
   {
    "duration": 7,
    "start_time": "2024-09-30T00:39:56.977Z"
   },
   {
    "duration": 6,
    "start_time": "2024-09-30T00:39:56.987Z"
   },
   {
    "duration": 4,
    "start_time": "2024-09-30T00:39:56.996Z"
   },
   {
    "duration": 7,
    "start_time": "2024-09-30T00:39:57.003Z"
   },
   {
    "duration": 11,
    "start_time": "2024-09-30T00:39:57.044Z"
   },
   {
    "duration": 19,
    "start_time": "2024-09-30T00:39:57.057Z"
   },
   {
    "duration": 9,
    "start_time": "2024-09-30T00:39:57.078Z"
   },
   {
    "duration": 60,
    "start_time": "2024-09-30T00:39:57.090Z"
   },
   {
    "duration": 7,
    "start_time": "2024-09-30T00:39:57.152Z"
   },
   {
    "duration": 340,
    "start_time": "2024-09-30T00:39:57.161Z"
   },
   {
    "duration": 28,
    "start_time": "2024-09-30T00:39:57.503Z"
   },
   {
    "duration": 5,
    "start_time": "2024-09-30T00:39:57.543Z"
   },
   {
    "duration": 4,
    "start_time": "2024-09-30T00:39:57.550Z"
   },
   {
    "duration": 11,
    "start_time": "2024-09-30T00:39:57.556Z"
   },
   {
    "duration": 12,
    "start_time": "2024-09-30T00:39:57.569Z"
   },
   {
    "duration": 17,
    "start_time": "2024-09-30T00:39:57.582Z"
   },
   {
    "duration": 47,
    "start_time": "2024-09-30T00:39:57.601Z"
   },
   {
    "duration": 7,
    "start_time": "2024-09-30T00:39:57.650Z"
   },
   {
    "duration": 263,
    "start_time": "2024-09-30T00:39:57.661Z"
   },
   {
    "duration": 16,
    "start_time": "2024-09-30T00:39:57.926Z"
   },
   {
    "duration": 48,
    "start_time": "2024-09-30T00:39:57.944Z"
   },
   {
    "duration": 152,
    "start_time": "2024-09-30T00:39:57.994Z"
   },
   {
    "duration": 136,
    "start_time": "2024-09-30T00:39:58.148Z"
   },
   {
    "duration": 12,
    "start_time": "2024-09-30T00:39:58.285Z"
   },
   {
    "duration": 5,
    "start_time": "2024-09-30T00:39:58.299Z"
   },
   {
    "duration": 457,
    "start_time": "2024-09-30T00:39:58.305Z"
   },
   {
    "duration": 13,
    "start_time": "2024-09-30T00:39:58.764Z"
   },
   {
    "duration": 4,
    "start_time": "2024-09-30T00:39:58.778Z"
   },
   {
    "duration": 195,
    "start_time": "2024-09-30T00:39:58.784Z"
   },
   {
    "duration": 6,
    "start_time": "2024-09-30T00:39:58.981Z"
   },
   {
    "duration": 10,
    "start_time": "2024-09-30T00:39:58.989Z"
   },
   {
    "duration": 5,
    "start_time": "2024-09-30T00:39:59.001Z"
   },
   {
    "duration": 1267,
    "start_time": "2024-09-30T00:39:59.008Z"
   },
   {
    "duration": 37,
    "start_time": "2024-09-30T00:40:00.277Z"
   },
   {
    "duration": 50,
    "start_time": "2024-09-30T00:40:00.317Z"
   },
   {
    "duration": 10,
    "start_time": "2024-09-30T00:40:00.369Z"
   },
   {
    "duration": 4,
    "start_time": "2024-09-30T00:40:00.384Z"
   },
   {
    "duration": 199,
    "start_time": "2024-09-30T00:47:15.603Z"
   },
   {
    "duration": 876,
    "start_time": "2024-09-30T00:47:28.125Z"
   },
   {
    "duration": 2312,
    "start_time": "2024-09-30T02:15:12.021Z"
   },
   {
    "duration": 158,
    "start_time": "2024-09-30T02:15:14.335Z"
   },
   {
    "duration": 59,
    "start_time": "2024-09-30T02:15:14.495Z"
   },
   {
    "duration": 793,
    "start_time": "2024-09-30T02:15:14.557Z"
   },
   {
    "duration": 10,
    "start_time": "2024-09-30T02:15:15.352Z"
   },
   {
    "duration": 10,
    "start_time": "2024-09-30T02:15:15.364Z"
   },
   {
    "duration": 108,
    "start_time": "2024-09-30T02:15:15.388Z"
   },
   {
    "duration": 12,
    "start_time": "2024-09-30T02:15:15.498Z"
   },
   {
    "duration": 116,
    "start_time": "2024-09-30T02:15:15.512Z"
   },
   {
    "duration": 113,
    "start_time": "2024-09-30T02:15:15.632Z"
   },
   {
    "duration": 59,
    "start_time": "2024-09-30T02:15:15.747Z"
   },
   {
    "duration": 12,
    "start_time": "2024-09-30T02:15:15.808Z"
   },
   {
    "duration": 5,
    "start_time": "2024-09-30T02:15:15.822Z"
   },
   {
    "duration": 24,
    "start_time": "2024-09-30T02:15:15.829Z"
   },
   {
    "duration": 47,
    "start_time": "2024-09-30T02:15:15.855Z"
   },
   {
    "duration": 4,
    "start_time": "2024-09-30T02:15:15.904Z"
   },
   {
    "duration": 8,
    "start_time": "2024-09-30T02:15:15.910Z"
   },
   {
    "duration": 2,
    "start_time": "2024-09-30T02:15:15.920Z"
   },
   {
    "duration": 9,
    "start_time": "2024-09-30T02:15:15.924Z"
   },
   {
    "duration": 853,
    "start_time": "2024-09-30T02:15:15.934Z"
   },
   {
    "duration": 751,
    "start_time": "2024-09-30T02:15:16.789Z"
   },
   {
    "duration": 7,
    "start_time": "2024-09-30T02:15:17.542Z"
   },
   {
    "duration": 9,
    "start_time": "2024-09-30T02:15:17.551Z"
   },
   {
    "duration": 28,
    "start_time": "2024-09-30T02:15:17.562Z"
   },
   {
    "duration": 6,
    "start_time": "2024-09-30T02:15:17.592Z"
   },
   {
    "duration": 8,
    "start_time": "2024-09-30T02:15:17.600Z"
   },
   {
    "duration": 9,
    "start_time": "2024-09-30T02:15:17.610Z"
   },
   {
    "duration": 15,
    "start_time": "2024-09-30T02:15:17.625Z"
   },
   {
    "duration": 50,
    "start_time": "2024-09-30T02:15:17.642Z"
   },
   {
    "duration": 35,
    "start_time": "2024-09-30T02:15:17.694Z"
   },
   {
    "duration": 8,
    "start_time": "2024-09-30T02:15:17.731Z"
   },
   {
    "duration": 388,
    "start_time": "2024-09-30T02:15:17.741Z"
   },
   {
    "duration": 25,
    "start_time": "2024-09-30T02:15:18.135Z"
   },
   {
    "duration": 23,
    "start_time": "2024-09-30T02:15:18.164Z"
   },
   {
    "duration": 4,
    "start_time": "2024-09-30T02:15:18.188Z"
   },
   {
    "duration": 9,
    "start_time": "2024-09-30T02:15:18.194Z"
   },
   {
    "duration": 9,
    "start_time": "2024-09-30T02:15:18.205Z"
   },
   {
    "duration": 16,
    "start_time": "2024-09-30T02:15:18.216Z"
   },
   {
    "duration": 9,
    "start_time": "2024-09-30T02:15:18.234Z"
   },
   {
    "duration": 48,
    "start_time": "2024-09-30T02:15:18.245Z"
   },
   {
    "duration": 234,
    "start_time": "2024-09-30T02:15:18.295Z"
   },
   {
    "duration": 7,
    "start_time": "2024-09-30T02:15:18.531Z"
   },
   {
    "duration": 54,
    "start_time": "2024-09-30T02:15:18.540Z"
   },
   {
    "duration": 194,
    "start_time": "2024-09-30T02:15:18.596Z"
   },
   {
    "duration": 111,
    "start_time": "2024-09-30T02:15:18.791Z"
   },
   {
    "duration": 12,
    "start_time": "2024-09-30T02:15:18.904Z"
   },
   {
    "duration": 5,
    "start_time": "2024-09-30T02:15:18.917Z"
   },
   {
    "duration": 471,
    "start_time": "2024-09-30T02:15:18.924Z"
   },
   {
    "duration": 14,
    "start_time": "2024-09-30T02:15:19.397Z"
   },
   {
    "duration": 3,
    "start_time": "2024-09-30T02:15:19.413Z"
   },
   {
    "duration": 219,
    "start_time": "2024-09-30T02:15:19.418Z"
   },
   {
    "duration": 6,
    "start_time": "2024-09-30T02:15:19.639Z"
   },
   {
    "duration": 12,
    "start_time": "2024-09-30T02:15:19.646Z"
   },
   {
    "duration": 5,
    "start_time": "2024-09-30T02:15:19.660Z"
   },
   {
    "duration": 1281,
    "start_time": "2024-09-30T02:15:19.667Z"
   },
   {
    "duration": 38,
    "start_time": "2024-09-30T02:15:20.950Z"
   },
   {
    "duration": 853,
    "start_time": "2024-09-30T02:15:20.990Z"
   },
   {
    "duration": 46,
    "start_time": "2024-09-30T02:15:21.845Z"
   },
   {
    "duration": 11,
    "start_time": "2024-09-30T02:15:21.892Z"
   },
   {
    "duration": 5,
    "start_time": "2024-09-30T02:15:21.904Z"
   },
   {
    "duration": 2268,
    "start_time": "2024-09-30T06:34:46.130Z"
   },
   {
    "duration": 164,
    "start_time": "2024-09-30T06:34:48.400Z"
   },
   {
    "duration": 59,
    "start_time": "2024-09-30T06:34:48.566Z"
   },
   {
    "duration": 825,
    "start_time": "2024-09-30T06:34:48.628Z"
   },
   {
    "duration": 11,
    "start_time": "2024-09-30T06:34:49.455Z"
   },
   {
    "duration": 24,
    "start_time": "2024-09-30T06:34:49.467Z"
   },
   {
    "duration": 116,
    "start_time": "2024-09-30T06:34:49.493Z"
   },
   {
    "duration": 11,
    "start_time": "2024-09-30T06:34:49.612Z"
   },
   {
    "duration": 129,
    "start_time": "2024-09-30T06:34:49.625Z"
   },
   {
    "duration": 124,
    "start_time": "2024-09-30T06:34:49.758Z"
   },
   {
    "duration": 63,
    "start_time": "2024-09-30T06:34:49.886Z"
   },
   {
    "duration": 13,
    "start_time": "2024-09-30T06:34:49.951Z"
   },
   {
    "duration": 25,
    "start_time": "2024-09-30T06:34:49.966Z"
   },
   {
    "duration": 26,
    "start_time": "2024-09-30T06:34:49.993Z"
   },
   {
    "duration": 25,
    "start_time": "2024-09-30T06:34:50.021Z"
   },
   {
    "duration": 3,
    "start_time": "2024-09-30T06:34:50.048Z"
   },
   {
    "duration": 35,
    "start_time": "2024-09-30T06:34:50.053Z"
   },
   {
    "duration": 2,
    "start_time": "2024-09-30T06:34:50.090Z"
   },
   {
    "duration": 9,
    "start_time": "2024-09-30T06:34:50.094Z"
   },
   {
    "duration": 955,
    "start_time": "2024-09-30T06:34:50.105Z"
   },
   {
    "duration": 158,
    "start_time": "2024-09-30T07:15:34.089Z"
   },
   {
    "duration": 2269,
    "start_time": "2024-09-30T07:16:17.683Z"
   },
   {
    "duration": 167,
    "start_time": "2024-09-30T07:16:19.954Z"
   },
   {
    "duration": 62,
    "start_time": "2024-09-30T07:16:20.123Z"
   },
   {
    "duration": 821,
    "start_time": "2024-09-30T07:16:20.189Z"
   },
   {
    "duration": 12,
    "start_time": "2024-09-30T07:16:21.012Z"
   },
   {
    "duration": 10,
    "start_time": "2024-09-30T07:16:21.026Z"
   },
   {
    "duration": 113,
    "start_time": "2024-09-30T07:16:21.038Z"
   },
   {
    "duration": 13,
    "start_time": "2024-09-30T07:16:21.152Z"
   },
   {
    "duration": 111,
    "start_time": "2024-09-30T07:16:21.167Z"
   },
   {
    "duration": 102,
    "start_time": "2024-09-30T07:16:21.286Z"
   },
   {
    "duration": 45,
    "start_time": "2024-09-30T07:16:21.390Z"
   },
   {
    "duration": 11,
    "start_time": "2024-09-30T07:16:21.437Z"
   },
   {
    "duration": 5,
    "start_time": "2024-09-30T07:16:21.450Z"
   },
   {
    "duration": 45,
    "start_time": "2024-09-30T07:16:21.457Z"
   },
   {
    "duration": 23,
    "start_time": "2024-09-30T07:16:21.504Z"
   },
   {
    "duration": 2,
    "start_time": "2024-09-30T07:16:21.529Z"
   },
   {
    "duration": 8,
    "start_time": "2024-09-30T07:16:21.534Z"
   },
   {
    "duration": 2,
    "start_time": "2024-09-30T07:16:21.544Z"
   },
   {
    "duration": 39,
    "start_time": "2024-09-30T07:16:21.548Z"
   },
   {
    "duration": 789,
    "start_time": "2024-09-30T07:16:21.589Z"
   },
   {
    "duration": 724,
    "start_time": "2024-09-30T07:16:22.380Z"
   },
   {
    "duration": 8,
    "start_time": "2024-09-30T07:16:23.106Z"
   },
   {
    "duration": 8,
    "start_time": "2024-09-30T07:16:23.115Z"
   },
   {
    "duration": 6,
    "start_time": "2024-09-30T07:16:23.125Z"
   },
   {
    "duration": 7,
    "start_time": "2024-09-30T07:16:23.132Z"
   },
   {
    "duration": 11,
    "start_time": "2024-09-30T07:16:23.141Z"
   },
   {
    "duration": 36,
    "start_time": "2024-09-30T07:16:23.154Z"
   },
   {
    "duration": 12,
    "start_time": "2024-09-30T07:16:23.196Z"
   },
   {
    "duration": 8,
    "start_time": "2024-09-30T07:16:23.210Z"
   },
   {
    "duration": 32,
    "start_time": "2024-09-30T07:16:23.219Z"
   },
   {
    "duration": 35,
    "start_time": "2024-09-30T07:16:23.252Z"
   },
   {
    "duration": 311,
    "start_time": "2024-09-30T07:16:23.289Z"
   },
   {
    "duration": 22,
    "start_time": "2024-09-30T07:16:23.602Z"
   },
   {
    "duration": 5,
    "start_time": "2024-09-30T07:16:23.626Z"
   },
   {
    "duration": 3,
    "start_time": "2024-09-30T07:16:23.633Z"
   },
   {
    "duration": 9,
    "start_time": "2024-09-30T07:16:23.638Z"
   },
   {
    "duration": 38,
    "start_time": "2024-09-30T07:16:23.649Z"
   },
   {
    "duration": 16,
    "start_time": "2024-09-30T07:16:23.689Z"
   },
   {
    "duration": 9,
    "start_time": "2024-09-30T07:16:23.707Z"
   },
   {
    "duration": 7,
    "start_time": "2024-09-30T07:16:23.718Z"
   },
   {
    "duration": 356,
    "start_time": "2024-09-30T07:16:23.726Z"
   },
   {
    "duration": 5,
    "start_time": "2024-09-30T07:16:24.088Z"
   },
   {
    "duration": 36,
    "start_time": "2024-09-30T07:16:24.095Z"
   },
   {
    "duration": 142,
    "start_time": "2024-09-30T07:16:24.133Z"
   },
   {
    "duration": 114,
    "start_time": "2024-09-30T07:16:24.277Z"
   },
   {
    "duration": 10,
    "start_time": "2024-09-30T07:16:24.392Z"
   },
   {
    "duration": 4,
    "start_time": "2024-09-30T07:16:24.403Z"
   },
   {
    "duration": 410,
    "start_time": "2024-09-30T07:16:24.409Z"
   },
   {
    "duration": 11,
    "start_time": "2024-09-30T07:16:24.822Z"
   },
   {
    "duration": 3,
    "start_time": "2024-09-30T07:16:24.835Z"
   },
   {
    "duration": 184,
    "start_time": "2024-09-30T07:16:24.839Z"
   },
   {
    "duration": 5,
    "start_time": "2024-09-30T07:16:25.024Z"
   },
   {
    "duration": 9,
    "start_time": "2024-09-30T07:16:25.031Z"
   },
   {
    "duration": 4,
    "start_time": "2024-09-30T07:16:25.042Z"
   },
   {
    "duration": 1005,
    "start_time": "2024-09-30T07:16:25.048Z"
   },
   {
    "duration": 32,
    "start_time": "2024-09-30T07:16:26.054Z"
   },
   {
    "duration": 804,
    "start_time": "2024-09-30T07:16:26.089Z"
   },
   {
    "duration": 36,
    "start_time": "2024-09-30T07:16:26.895Z"
   },
   {
    "duration": 10,
    "start_time": "2024-09-30T07:16:26.932Z"
   },
   {
    "duration": 5,
    "start_time": "2024-09-30T07:16:26.945Z"
   },
   {
    "duration": 482,
    "start_time": "2024-09-30T07:19:39.043Z"
   },
   {
    "duration": 198,
    "start_time": "2024-09-30T07:19:39.527Z"
   },
   {
    "duration": 44,
    "start_time": "2024-09-30T07:19:39.727Z"
   },
   {
    "duration": 736,
    "start_time": "2024-09-30T07:19:39.786Z"
   },
   {
    "duration": 11,
    "start_time": "2024-09-30T07:19:40.524Z"
   },
   {
    "duration": 14,
    "start_time": "2024-09-30T07:19:40.538Z"
   },
   {
    "duration": 133,
    "start_time": "2024-09-30T07:19:40.554Z"
   },
   {
    "duration": 12,
    "start_time": "2024-09-30T07:19:40.689Z"
   },
   {
    "duration": 135,
    "start_time": "2024-09-30T07:19:40.703Z"
   },
   {
    "duration": 100,
    "start_time": "2024-09-30T07:19:40.841Z"
   },
   {
    "duration": 51,
    "start_time": "2024-09-30T07:19:40.943Z"
   },
   {
    "duration": 13,
    "start_time": "2024-09-30T07:19:40.996Z"
   },
   {
    "duration": 7,
    "start_time": "2024-09-30T07:19:41.010Z"
   },
   {
    "duration": 24,
    "start_time": "2024-09-30T07:19:41.018Z"
   },
   {
    "duration": 47,
    "start_time": "2024-09-30T07:19:41.044Z"
   },
   {
    "duration": 3,
    "start_time": "2024-09-30T07:19:41.093Z"
   },
   {
    "duration": 10,
    "start_time": "2024-09-30T07:19:41.097Z"
   },
   {
    "duration": 3,
    "start_time": "2024-09-30T07:19:41.109Z"
   },
   {
    "duration": 10,
    "start_time": "2024-09-30T07:19:41.113Z"
   },
   {
    "duration": 901,
    "start_time": "2024-09-30T07:19:41.124Z"
   },
   {
    "duration": 712,
    "start_time": "2024-09-30T07:19:42.027Z"
   },
   {
    "duration": 7,
    "start_time": "2024-09-30T07:19:42.741Z"
   },
   {
    "duration": 7,
    "start_time": "2024-09-30T07:19:42.750Z"
   },
   {
    "duration": 6,
    "start_time": "2024-09-30T07:19:42.758Z"
   },
   {
    "duration": 5,
    "start_time": "2024-09-30T07:19:42.786Z"
   },
   {
    "duration": 8,
    "start_time": "2024-09-30T07:19:42.793Z"
   },
   {
    "duration": 8,
    "start_time": "2024-09-30T07:19:42.803Z"
   },
   {
    "duration": 12,
    "start_time": "2024-09-30T07:19:42.816Z"
   },
   {
    "duration": 7,
    "start_time": "2024-09-30T07:19:42.830Z"
   },
   {
    "duration": 68,
    "start_time": "2024-09-30T07:19:42.840Z"
   },
   {
    "duration": 8,
    "start_time": "2024-09-30T07:19:42.911Z"
   },
   {
    "duration": 378,
    "start_time": "2024-09-30T07:19:42.920Z"
   },
   {
    "duration": 23,
    "start_time": "2024-09-30T07:19:43.300Z"
   },
   {
    "duration": 5,
    "start_time": "2024-09-30T07:19:43.324Z"
   },
   {
    "duration": 3,
    "start_time": "2024-09-30T07:19:43.331Z"
   },
   {
    "duration": 9,
    "start_time": "2024-09-30T07:19:43.336Z"
   },
   {
    "duration": 40,
    "start_time": "2024-09-30T07:19:43.347Z"
   },
   {
    "duration": 15,
    "start_time": "2024-09-30T07:19:43.389Z"
   },
   {
    "duration": 9,
    "start_time": "2024-09-30T07:19:43.406Z"
   },
   {
    "duration": 7,
    "start_time": "2024-09-30T07:19:43.416Z"
   },
   {
    "duration": 237,
    "start_time": "2024-09-30T07:19:43.425Z"
   },
   {
    "duration": 4,
    "start_time": "2024-09-30T07:19:43.664Z"
   },
   {
    "duration": 51,
    "start_time": "2024-09-30T07:19:43.671Z"
   },
   {
    "duration": 140,
    "start_time": "2024-09-30T07:19:43.724Z"
   },
   {
    "duration": 116,
    "start_time": "2024-09-30T07:19:43.866Z"
   },
   {
    "duration": 10,
    "start_time": "2024-09-30T07:19:43.984Z"
   },
   {
    "duration": 5,
    "start_time": "2024-09-30T07:19:43.996Z"
   },
   {
    "duration": 422,
    "start_time": "2024-09-30T07:19:44.003Z"
   },
   {
    "duration": 11,
    "start_time": "2024-09-30T07:19:44.427Z"
   },
   {
    "duration": 3,
    "start_time": "2024-09-30T07:19:44.439Z"
   },
   {
    "duration": 199,
    "start_time": "2024-09-30T07:19:44.444Z"
   },
   {
    "duration": 6,
    "start_time": "2024-09-30T07:19:44.645Z"
   },
   {
    "duration": 12,
    "start_time": "2024-09-30T07:19:44.653Z"
   },
   {
    "duration": 21,
    "start_time": "2024-09-30T07:19:44.667Z"
   },
   {
    "duration": 1099,
    "start_time": "2024-09-30T07:19:44.690Z"
   },
   {
    "duration": 28,
    "start_time": "2024-09-30T07:19:45.791Z"
   },
   {
    "duration": 844,
    "start_time": "2024-09-30T07:19:45.822Z"
   },
   {
    "duration": 47,
    "start_time": "2024-09-30T07:19:46.668Z"
   },
   {
    "duration": 10,
    "start_time": "2024-09-30T07:19:46.717Z"
   },
   {
    "duration": 6,
    "start_time": "2024-09-30T07:19:46.729Z"
   },
   {
    "duration": 286,
    "start_time": "2024-09-30T07:20:24.204Z"
   },
   {
    "duration": 345,
    "start_time": "2024-09-30T07:21:15.090Z"
   },
   {
    "duration": 415,
    "start_time": "2024-09-30T07:21:50.822Z"
   },
   {
    "duration": 438,
    "start_time": "2024-09-30T07:27:24.651Z"
   },
   {
    "duration": 174,
    "start_time": "2024-09-30T07:27:25.092Z"
   },
   {
    "duration": 48,
    "start_time": "2024-09-30T07:27:25.268Z"
   },
   {
    "duration": 726,
    "start_time": "2024-09-30T07:27:25.319Z"
   },
   {
    "duration": 9,
    "start_time": "2024-09-30T07:27:26.047Z"
   },
   {
    "duration": 9,
    "start_time": "2024-09-30T07:27:26.058Z"
   },
   {
    "duration": 120,
    "start_time": "2024-09-30T07:27:26.069Z"
   },
   {
    "duration": 11,
    "start_time": "2024-09-30T07:27:26.191Z"
   },
   {
    "duration": 122,
    "start_time": "2024-09-30T07:27:26.203Z"
   },
   {
    "duration": 106,
    "start_time": "2024-09-30T07:27:26.329Z"
   },
   {
    "duration": 53,
    "start_time": "2024-09-30T07:27:26.437Z"
   },
   {
    "duration": 11,
    "start_time": "2024-09-30T07:27:26.492Z"
   },
   {
    "duration": 6,
    "start_time": "2024-09-30T07:27:26.504Z"
   },
   {
    "duration": 23,
    "start_time": "2024-09-30T07:27:26.511Z"
   },
   {
    "duration": 51,
    "start_time": "2024-09-30T07:27:26.536Z"
   },
   {
    "duration": 2,
    "start_time": "2024-09-30T07:27:26.589Z"
   },
   {
    "duration": 11,
    "start_time": "2024-09-30T07:27:26.593Z"
   },
   {
    "duration": 2,
    "start_time": "2024-09-30T07:27:26.605Z"
   },
   {
    "duration": 9,
    "start_time": "2024-09-30T07:27:26.609Z"
   },
   {
    "duration": 907,
    "start_time": "2024-09-30T07:27:26.620Z"
   },
   {
    "duration": 717,
    "start_time": "2024-09-30T07:27:27.530Z"
   },
   {
    "duration": 6,
    "start_time": "2024-09-30T07:27:28.249Z"
   },
   {
    "duration": 6,
    "start_time": "2024-09-30T07:27:28.257Z"
   },
   {
    "duration": 5,
    "start_time": "2024-09-30T07:27:28.265Z"
   },
   {
    "duration": 5,
    "start_time": "2024-09-30T07:27:28.286Z"
   },
   {
    "duration": 8,
    "start_time": "2024-09-30T07:27:28.292Z"
   },
   {
    "duration": 7,
    "start_time": "2024-09-30T07:27:28.302Z"
   },
   {
    "duration": 12,
    "start_time": "2024-09-30T07:27:28.315Z"
   },
   {
    "duration": 7,
    "start_time": "2024-09-30T07:27:28.328Z"
   },
   {
    "duration": 73,
    "start_time": "2024-09-30T07:27:28.337Z"
   },
   {
    "duration": 6,
    "start_time": "2024-09-30T07:27:28.412Z"
   },
   {
    "duration": 294,
    "start_time": "2024-09-30T07:27:28.420Z"
   },
   {
    "duration": 23,
    "start_time": "2024-09-30T07:27:28.716Z"
   },
   {
    "duration": 5,
    "start_time": "2024-09-30T07:27:28.741Z"
   },
   {
    "duration": 5,
    "start_time": "2024-09-30T07:27:28.748Z"
   },
   {
    "duration": 31,
    "start_time": "2024-09-30T07:27:28.755Z"
   },
   {
    "duration": 10,
    "start_time": "2024-09-30T07:27:28.788Z"
   },
   {
    "duration": 13,
    "start_time": "2024-09-30T07:27:28.799Z"
   },
   {
    "duration": 391,
    "start_time": "2024-09-30T07:27:28.814Z"
   },
   {
    "duration": 34,
    "start_time": "2024-09-30T07:27:29.207Z"
   },
   {
    "duration": 145,
    "start_time": "2024-09-30T07:27:29.243Z"
   },
   {
    "duration": 102,
    "start_time": "2024-09-30T07:27:29.390Z"
   },
   {
    "duration": 10,
    "start_time": "2024-09-30T07:27:29.494Z"
   },
   {
    "duration": 5,
    "start_time": "2024-09-30T07:27:29.505Z"
   },
   {
    "duration": 433,
    "start_time": "2024-09-30T07:27:29.511Z"
   },
   {
    "duration": 11,
    "start_time": "2024-09-30T07:27:29.946Z"
   },
   {
    "duration": 4,
    "start_time": "2024-09-30T07:27:29.958Z"
   },
   {
    "duration": 192,
    "start_time": "2024-09-30T07:27:29.963Z"
   },
   {
    "duration": 5,
    "start_time": "2024-09-30T07:27:30.157Z"
   },
   {
    "duration": 10,
    "start_time": "2024-09-30T07:27:30.163Z"
   },
   {
    "duration": 14,
    "start_time": "2024-09-30T07:27:30.174Z"
   },
   {
    "duration": 989,
    "start_time": "2024-09-30T07:27:30.190Z"
   },
   {
    "duration": 27,
    "start_time": "2024-09-30T07:27:31.181Z"
   },
   {
    "duration": 811,
    "start_time": "2024-09-30T07:27:31.210Z"
   },
   {
    "duration": 39,
    "start_time": "2024-09-30T07:27:32.023Z"
   },
   {
    "duration": 23,
    "start_time": "2024-09-30T07:27:32.064Z"
   },
   {
    "duration": 5,
    "start_time": "2024-09-30T07:27:32.089Z"
   },
   {
    "duration": 199,
    "start_time": "2024-09-30T07:32:53.162Z"
   },
   {
    "duration": 141,
    "start_time": "2024-09-30T07:33:11.189Z"
   },
   {
    "duration": 92,
    "start_time": "2024-09-30T07:34:08.738Z"
   },
   {
    "duration": 19,
    "start_time": "2024-09-30T07:35:00.763Z"
   },
   {
    "duration": 20,
    "start_time": "2024-09-30T08:06:19.137Z"
   },
   {
    "duration": 9,
    "start_time": "2024-09-30T08:07:30.677Z"
   },
   {
    "duration": 19,
    "start_time": "2024-09-30T08:09:40.135Z"
   },
   {
    "duration": 2176,
    "start_time": "2024-09-30T15:54:01.725Z"
   },
   {
    "duration": 163,
    "start_time": "2024-09-30T15:54:03.904Z"
   },
   {
    "duration": 71,
    "start_time": "2024-09-30T15:54:04.069Z"
   },
   {
    "duration": 810,
    "start_time": "2024-09-30T15:54:04.145Z"
   },
   {
    "duration": 11,
    "start_time": "2024-09-30T15:54:04.958Z"
   },
   {
    "duration": 11,
    "start_time": "2024-09-30T15:54:04.970Z"
   },
   {
    "duration": 113,
    "start_time": "2024-09-30T15:54:04.982Z"
   },
   {
    "duration": 15,
    "start_time": "2024-09-30T15:54:05.097Z"
   },
   {
    "duration": 106,
    "start_time": "2024-09-30T15:54:05.114Z"
   },
   {
    "duration": 91,
    "start_time": "2024-09-30T15:54:05.222Z"
   },
   {
    "duration": 43,
    "start_time": "2024-09-30T15:54:05.315Z"
   },
   {
    "duration": 12,
    "start_time": "2024-09-30T15:54:05.360Z"
   },
   {
    "duration": 5,
    "start_time": "2024-09-30T15:54:05.374Z"
   },
   {
    "duration": 23,
    "start_time": "2024-09-30T15:54:05.407Z"
   },
   {
    "duration": 21,
    "start_time": "2024-09-30T15:54:05.432Z"
   },
   {
    "duration": 2,
    "start_time": "2024-09-30T15:54:05.455Z"
   },
   {
    "duration": 10,
    "start_time": "2024-09-30T15:54:05.458Z"
   },
   {
    "duration": 2,
    "start_time": "2024-09-30T15:54:05.469Z"
   },
   {
    "duration": 40,
    "start_time": "2024-09-30T15:54:05.473Z"
   },
   {
    "duration": 759,
    "start_time": "2024-09-30T15:54:05.514Z"
   },
   {
    "duration": 675,
    "start_time": "2024-09-30T15:54:06.275Z"
   },
   {
    "duration": 7,
    "start_time": "2024-09-30T15:54:06.952Z"
   },
   {
    "duration": 7,
    "start_time": "2024-09-30T15:54:06.960Z"
   },
   {
    "duration": 5,
    "start_time": "2024-09-30T15:54:06.968Z"
   },
   {
    "duration": 5,
    "start_time": "2024-09-30T15:54:06.975Z"
   },
   {
    "duration": 8,
    "start_time": "2024-09-30T15:54:07.005Z"
   },
   {
    "duration": 11,
    "start_time": "2024-09-30T15:54:07.014Z"
   },
   {
    "duration": 11,
    "start_time": "2024-09-30T15:54:07.026Z"
   },
   {
    "duration": 8,
    "start_time": "2024-09-30T15:54:07.039Z"
   },
   {
    "duration": 59,
    "start_time": "2024-09-30T15:54:07.049Z"
   },
   {
    "duration": 6,
    "start_time": "2024-09-30T15:54:07.110Z"
   },
   {
    "duration": 252,
    "start_time": "2024-09-30T15:54:07.118Z"
   },
   {
    "duration": 22,
    "start_time": "2024-09-30T15:54:07.371Z"
   },
   {
    "duration": 13,
    "start_time": "2024-09-30T15:54:07.395Z"
   },
   {
    "duration": 4,
    "start_time": "2024-09-30T15:54:07.410Z"
   },
   {
    "duration": 10,
    "start_time": "2024-09-30T15:54:07.415Z"
   },
   {
    "duration": 8,
    "start_time": "2024-09-30T15:54:07.427Z"
   },
   {
    "duration": 205,
    "start_time": "2024-09-30T15:54:07.437Z"
   },
   {
    "duration": 374,
    "start_time": "2024-09-30T15:54:07.644Z"
   },
   {
    "duration": 36,
    "start_time": "2024-09-30T15:54:08.020Z"
   },
   {
    "duration": 136,
    "start_time": "2024-09-30T15:54:08.061Z"
   },
   {
    "duration": 105,
    "start_time": "2024-09-30T15:54:08.200Z"
   },
   {
    "duration": 11,
    "start_time": "2024-09-30T15:54:08.307Z"
   },
   {
    "duration": 4,
    "start_time": "2024-09-30T15:54:08.319Z"
   },
   {
    "duration": 377,
    "start_time": "2024-09-30T15:54:08.325Z"
   },
   {
    "duration": 11,
    "start_time": "2024-09-30T15:54:08.705Z"
   },
   {
    "duration": 3,
    "start_time": "2024-09-30T15:54:08.718Z"
   },
   {
    "duration": 186,
    "start_time": "2024-09-30T15:54:08.723Z"
   },
   {
    "duration": 5,
    "start_time": "2024-09-30T15:54:08.910Z"
   },
   {
    "duration": 8,
    "start_time": "2024-09-30T15:54:08.917Z"
   },
   {
    "duration": 5,
    "start_time": "2024-09-30T15:54:08.927Z"
   },
   {
    "duration": 937,
    "start_time": "2024-09-30T15:54:08.934Z"
   },
   {
    "duration": 24,
    "start_time": "2024-09-30T15:54:09.872Z"
   },
   {
    "duration": 758,
    "start_time": "2024-09-30T15:54:09.898Z"
   },
   {
    "duration": 35,
    "start_time": "2024-09-30T15:54:10.657Z"
   },
   {
    "duration": 20,
    "start_time": "2024-09-30T15:54:10.694Z"
   },
   {
    "duration": 5,
    "start_time": "2024-09-30T15:54:10.715Z"
   },
   {
    "duration": 2311,
    "start_time": "2024-09-30T21:25:03.523Z"
   },
   {
    "duration": 175,
    "start_time": "2024-09-30T21:25:05.837Z"
   },
   {
    "duration": 66,
    "start_time": "2024-09-30T21:25:06.013Z"
   },
   {
    "duration": 839,
    "start_time": "2024-09-30T21:25:06.082Z"
   },
   {
    "duration": 17,
    "start_time": "2024-09-30T21:25:06.923Z"
   },
   {
    "duration": 13,
    "start_time": "2024-09-30T21:25:06.942Z"
   },
   {
    "duration": 116,
    "start_time": "2024-09-30T21:25:06.957Z"
   },
   {
    "duration": 11,
    "start_time": "2024-09-30T21:25:07.075Z"
   },
   {
    "duration": 115,
    "start_time": "2024-09-30T21:25:07.087Z"
   },
   {
    "duration": 104,
    "start_time": "2024-09-30T21:25:07.205Z"
   },
   {
    "duration": 60,
    "start_time": "2024-09-30T21:25:07.311Z"
   },
   {
    "duration": 15,
    "start_time": "2024-09-30T21:25:07.374Z"
   },
   {
    "duration": 8,
    "start_time": "2024-09-30T21:25:07.393Z"
   },
   {
    "duration": 42,
    "start_time": "2024-09-30T21:25:07.403Z"
   },
   {
    "duration": 23,
    "start_time": "2024-09-30T21:25:07.447Z"
   },
   {
    "duration": 2,
    "start_time": "2024-09-30T21:25:07.472Z"
   },
   {
    "duration": 11,
    "start_time": "2024-09-30T21:25:07.476Z"
   },
   {
    "duration": 3,
    "start_time": "2024-09-30T21:25:07.488Z"
   },
   {
    "duration": 10,
    "start_time": "2024-09-30T21:25:07.493Z"
   },
   {
    "duration": 834,
    "start_time": "2024-09-30T21:25:07.530Z"
   },
   {
    "duration": 732,
    "start_time": "2024-09-30T21:25:08.366Z"
   },
   {
    "duration": 7,
    "start_time": "2024-09-30T21:25:09.100Z"
   },
   {
    "duration": 7,
    "start_time": "2024-09-30T21:25:09.108Z"
   },
   {
    "duration": 7,
    "start_time": "2024-09-30T21:25:09.131Z"
   },
   {
    "duration": 4,
    "start_time": "2024-09-30T21:25:09.140Z"
   },
   {
    "duration": 7,
    "start_time": "2024-09-30T21:25:09.146Z"
   },
   {
    "duration": 8,
    "start_time": "2024-09-30T21:25:09.156Z"
   },
   {
    "duration": 12,
    "start_time": "2024-09-30T21:25:09.168Z"
   },
   {
    "duration": 7,
    "start_time": "2024-09-30T21:25:09.182Z"
   },
   {
    "duration": 69,
    "start_time": "2024-09-30T21:25:09.191Z"
   },
   {
    "duration": 7,
    "start_time": "2024-09-30T21:25:09.262Z"
   },
   {
    "duration": 326,
    "start_time": "2024-09-30T21:25:09.271Z"
   },
   {
    "duration": 32,
    "start_time": "2024-09-30T21:25:09.599Z"
   },
   {
    "duration": 5,
    "start_time": "2024-09-30T21:25:09.633Z"
   },
   {
    "duration": 3,
    "start_time": "2024-09-30T21:25:09.640Z"
   },
   {
    "duration": 8,
    "start_time": "2024-09-30T21:25:09.645Z"
   },
   {
    "duration": 8,
    "start_time": "2024-09-30T21:25:09.654Z"
   },
   {
    "duration": 177,
    "start_time": "2024-09-30T21:25:09.664Z"
   },
   {
    "duration": 431,
    "start_time": "2024-09-30T21:25:09.843Z"
   },
   {
    "duration": 34,
    "start_time": "2024-09-30T21:25:10.276Z"
   },
   {
    "duration": 168,
    "start_time": "2024-09-30T21:25:10.312Z"
   },
   {
    "duration": 110,
    "start_time": "2024-09-30T21:25:10.483Z"
   },
   {
    "duration": 11,
    "start_time": "2024-09-30T21:25:10.595Z"
   },
   {
    "duration": 6,
    "start_time": "2024-09-30T21:25:10.608Z"
   },
   {
    "duration": 423,
    "start_time": "2024-09-30T21:25:10.631Z"
   },
   {
    "duration": 11,
    "start_time": "2024-09-30T21:25:11.056Z"
   },
   {
    "duration": 3,
    "start_time": "2024-09-30T21:25:11.069Z"
   },
   {
    "duration": 188,
    "start_time": "2024-09-30T21:25:11.074Z"
   },
   {
    "duration": 5,
    "start_time": "2024-09-30T21:25:11.264Z"
   },
   {
    "duration": 9,
    "start_time": "2024-09-30T21:25:11.271Z"
   },
   {
    "duration": 5,
    "start_time": "2024-09-30T21:25:11.282Z"
   },
   {
    "duration": 1060,
    "start_time": "2024-09-30T21:25:11.288Z"
   },
   {
    "duration": 25,
    "start_time": "2024-09-30T21:25:12.350Z"
   },
   {
    "duration": 855,
    "start_time": "2024-09-30T21:25:12.377Z"
   },
   {
    "duration": 33,
    "start_time": "2024-09-30T21:25:13.234Z"
   },
   {
    "duration": 12,
    "start_time": "2024-09-30T21:25:13.269Z"
   },
   {
    "duration": 5,
    "start_time": "2024-09-30T21:25:13.285Z"
   },
   {
    "duration": 201,
    "start_time": "2024-09-30T21:30:52.656Z"
   },
   {
    "duration": 21,
    "start_time": "2024-09-30T21:31:59.538Z"
   },
   {
    "duration": 8,
    "start_time": "2024-09-30T21:32:46.942Z"
   },
   {
    "duration": 20,
    "start_time": "2024-09-30T21:33:29.975Z"
   },
   {
    "duration": 19,
    "start_time": "2024-09-30T21:34:08.982Z"
   },
   {
    "duration": 21,
    "start_time": "2024-09-30T21:37:55.006Z"
   },
   {
    "duration": 25,
    "start_time": "2024-09-30T21:38:17.001Z"
   },
   {
    "duration": 21,
    "start_time": "2024-09-30T21:39:43.909Z"
   },
   {
    "duration": 15,
    "start_time": "2024-09-30T21:40:00.842Z"
   },
   {
    "duration": 438,
    "start_time": "2024-09-30T21:47:29.402Z"
   },
   {
    "duration": 178,
    "start_time": "2024-09-30T21:47:29.842Z"
   },
   {
    "duration": 46,
    "start_time": "2024-09-30T21:47:30.022Z"
   },
   {
    "duration": 753,
    "start_time": "2024-09-30T21:47:30.071Z"
   },
   {
    "duration": 14,
    "start_time": "2024-09-30T21:47:30.825Z"
   },
   {
    "duration": 10,
    "start_time": "2024-09-30T21:47:30.841Z"
   },
   {
    "duration": 121,
    "start_time": "2024-09-30T21:47:30.852Z"
   },
   {
    "duration": 13,
    "start_time": "2024-09-30T21:47:30.976Z"
   },
   {
    "duration": 123,
    "start_time": "2024-09-30T21:47:30.990Z"
   },
   {
    "duration": 104,
    "start_time": "2024-09-30T21:47:31.117Z"
   },
   {
    "duration": 48,
    "start_time": "2024-09-30T21:47:31.230Z"
   },
   {
    "duration": 12,
    "start_time": "2024-09-30T21:47:31.279Z"
   },
   {
    "duration": 5,
    "start_time": "2024-09-30T21:47:31.293Z"
   },
   {
    "duration": 44,
    "start_time": "2024-09-30T21:47:31.299Z"
   },
   {
    "duration": 22,
    "start_time": "2024-09-30T21:47:31.345Z"
   },
   {
    "duration": 2,
    "start_time": "2024-09-30T21:47:31.369Z"
   },
   {
    "duration": 11,
    "start_time": "2024-09-30T21:47:31.373Z"
   },
   {
    "duration": 2,
    "start_time": "2024-09-30T21:47:31.386Z"
   },
   {
    "duration": 10,
    "start_time": "2024-09-30T21:47:31.389Z"
   },
   {
    "duration": 830,
    "start_time": "2024-09-30T21:47:31.401Z"
   },
   {
    "duration": 731,
    "start_time": "2024-09-30T21:47:32.233Z"
   },
   {
    "duration": 7,
    "start_time": "2024-09-30T21:47:32.966Z"
   },
   {
    "duration": 9,
    "start_time": "2024-09-30T21:47:32.975Z"
   },
   {
    "duration": 6,
    "start_time": "2024-09-30T21:47:32.987Z"
   },
   {
    "duration": 6,
    "start_time": "2024-09-30T21:47:32.995Z"
   },
   {
    "duration": 35,
    "start_time": "2024-09-30T21:47:33.003Z"
   },
   {
    "duration": 9,
    "start_time": "2024-09-30T21:47:33.040Z"
   },
   {
    "duration": 13,
    "start_time": "2024-09-30T21:47:33.054Z"
   },
   {
    "duration": 8,
    "start_time": "2024-09-30T21:47:33.069Z"
   },
   {
    "duration": 65,
    "start_time": "2024-09-30T21:47:33.079Z"
   },
   {
    "duration": 7,
    "start_time": "2024-09-30T21:47:33.147Z"
   },
   {
    "duration": 317,
    "start_time": "2024-09-30T21:47:33.156Z"
   },
   {
    "duration": 24,
    "start_time": "2024-09-30T21:47:33.475Z"
   },
   {
    "duration": 6,
    "start_time": "2024-09-30T21:47:33.501Z"
   },
   {
    "duration": 3,
    "start_time": "2024-09-30T21:47:33.508Z"
   },
   {
    "duration": 10,
    "start_time": "2024-09-30T21:47:33.532Z"
   },
   {
    "duration": 209,
    "start_time": "2024-09-30T21:47:33.544Z"
   },
   {
    "duration": 0,
    "start_time": "2024-09-30T21:47:33.755Z"
   },
   {
    "duration": 0,
    "start_time": "2024-09-30T21:47:33.756Z"
   },
   {
    "duration": 0,
    "start_time": "2024-09-30T21:47:33.757Z"
   },
   {
    "duration": 0,
    "start_time": "2024-09-30T21:47:33.758Z"
   },
   {
    "duration": 0,
    "start_time": "2024-09-30T21:47:33.759Z"
   },
   {
    "duration": 0,
    "start_time": "2024-09-30T21:47:33.760Z"
   },
   {
    "duration": 0,
    "start_time": "2024-09-30T21:47:33.761Z"
   },
   {
    "duration": 0,
    "start_time": "2024-09-30T21:47:33.762Z"
   },
   {
    "duration": 0,
    "start_time": "2024-09-30T21:47:33.763Z"
   },
   {
    "duration": 0,
    "start_time": "2024-09-30T21:47:33.764Z"
   },
   {
    "duration": 0,
    "start_time": "2024-09-30T21:47:33.765Z"
   },
   {
    "duration": 0,
    "start_time": "2024-09-30T21:47:33.766Z"
   },
   {
    "duration": 0,
    "start_time": "2024-09-30T21:47:33.768Z"
   },
   {
    "duration": 0,
    "start_time": "2024-09-30T21:47:33.769Z"
   },
   {
    "duration": 0,
    "start_time": "2024-09-30T21:47:33.771Z"
   },
   {
    "duration": 0,
    "start_time": "2024-09-30T21:47:33.773Z"
   },
   {
    "duration": 0,
    "start_time": "2024-09-30T21:47:33.773Z"
   },
   {
    "duration": 0,
    "start_time": "2024-09-30T21:47:33.775Z"
   },
   {
    "duration": 0,
    "start_time": "2024-09-30T21:47:33.776Z"
   },
   {
    "duration": 0,
    "start_time": "2024-09-30T21:47:33.777Z"
   },
   {
    "duration": 8,
    "start_time": "2024-09-30T21:53:17.719Z"
   },
   {
    "duration": 4,
    "start_time": "2024-09-30T21:53:31.817Z"
   },
   {
    "duration": 5,
    "start_time": "2024-09-30T21:54:27.596Z"
   },
   {
    "duration": 4,
    "start_time": "2024-09-30T21:58:16.616Z"
   },
   {
    "duration": 7,
    "start_time": "2024-09-30T21:59:13.935Z"
   },
   {
    "duration": 7,
    "start_time": "2024-09-30T22:00:08.658Z"
   },
   {
    "duration": 11,
    "start_time": "2024-09-30T22:02:18.668Z"
   },
   {
    "duration": 12,
    "start_time": "2024-09-30T22:02:36.529Z"
   },
   {
    "duration": 6,
    "start_time": "2024-09-30T22:06:00.530Z"
   },
   {
    "duration": 143,
    "start_time": "2024-09-30T22:10:47.565Z"
   },
   {
    "duration": 24,
    "start_time": "2024-09-30T22:12:02.176Z"
   },
   {
    "duration": 204,
    "start_time": "2024-09-30T22:13:32.540Z"
   },
   {
    "duration": 203,
    "start_time": "2024-09-30T22:13:39.507Z"
   },
   {
    "duration": 501,
    "start_time": "2024-09-30T22:22:27.737Z"
   },
   {
    "duration": 193,
    "start_time": "2024-09-30T22:22:28.240Z"
   },
   {
    "duration": 50,
    "start_time": "2024-09-30T22:22:28.435Z"
   },
   {
    "duration": 744,
    "start_time": "2024-09-30T22:22:28.488Z"
   },
   {
    "duration": 13,
    "start_time": "2024-09-30T22:22:29.234Z"
   },
   {
    "duration": 14,
    "start_time": "2024-09-30T22:22:29.249Z"
   },
   {
    "duration": 132,
    "start_time": "2024-09-30T22:22:29.265Z"
   },
   {
    "duration": 11,
    "start_time": "2024-09-30T22:22:29.399Z"
   },
   {
    "duration": 119,
    "start_time": "2024-09-30T22:22:29.412Z"
   },
   {
    "duration": 113,
    "start_time": "2024-09-30T22:22:29.535Z"
   },
   {
    "duration": 56,
    "start_time": "2024-09-30T22:22:29.649Z"
   },
   {
    "duration": 24,
    "start_time": "2024-09-30T22:22:29.707Z"
   },
   {
    "duration": 5,
    "start_time": "2024-09-30T22:22:29.733Z"
   },
   {
    "duration": 25,
    "start_time": "2024-09-30T22:22:29.740Z"
   },
   {
    "duration": 27,
    "start_time": "2024-09-30T22:22:29.767Z"
   },
   {
    "duration": 2,
    "start_time": "2024-09-30T22:22:29.796Z"
   },
   {
    "duration": 33,
    "start_time": "2024-09-30T22:22:29.800Z"
   },
   {
    "duration": 2,
    "start_time": "2024-09-30T22:22:29.835Z"
   },
   {
    "duration": 5,
    "start_time": "2024-09-30T22:22:29.839Z"
   },
   {
    "duration": 897,
    "start_time": "2024-09-30T22:22:29.845Z"
   },
   {
    "duration": 754,
    "start_time": "2024-09-30T22:22:30.744Z"
   },
   {
    "duration": 10,
    "start_time": "2024-09-30T22:22:31.500Z"
   },
   {
    "duration": 19,
    "start_time": "2024-09-30T22:22:31.512Z"
   },
   {
    "duration": 6,
    "start_time": "2024-09-30T22:22:31.533Z"
   },
   {
    "duration": 6,
    "start_time": "2024-09-30T22:22:31.540Z"
   },
   {
    "duration": 9,
    "start_time": "2024-09-30T22:22:31.547Z"
   },
   {
    "duration": 10,
    "start_time": "2024-09-30T22:22:31.558Z"
   },
   {
    "duration": 17,
    "start_time": "2024-09-30T22:22:31.573Z"
   },
   {
    "duration": 42,
    "start_time": "2024-09-30T22:22:31.592Z"
   },
   {
    "duration": 34,
    "start_time": "2024-09-30T22:22:31.636Z"
   },
   {
    "duration": 7,
    "start_time": "2024-09-30T22:22:31.672Z"
   },
   {
    "duration": 328,
    "start_time": "2024-09-30T22:22:31.681Z"
   },
   {
    "duration": 31,
    "start_time": "2024-09-30T22:22:32.011Z"
   },
   {
    "duration": 4,
    "start_time": "2024-09-30T22:22:32.045Z"
   },
   {
    "duration": 4,
    "start_time": "2024-09-30T22:22:32.050Z"
   },
   {
    "duration": 253,
    "start_time": "2024-09-30T22:22:32.055Z"
   },
   {
    "duration": 135,
    "start_time": "2024-09-30T22:22:32.310Z"
   },
   {
    "duration": 156,
    "start_time": "2024-09-30T22:22:32.448Z"
   },
   {
    "duration": 371,
    "start_time": "2024-09-30T22:22:32.606Z"
   },
   {
    "duration": 42,
    "start_time": "2024-09-30T22:22:32.979Z"
   },
   {
    "duration": 147,
    "start_time": "2024-09-30T22:22:33.023Z"
   },
   {
    "duration": 113,
    "start_time": "2024-09-30T22:22:33.172Z"
   },
   {
    "duration": 10,
    "start_time": "2024-09-30T22:22:33.287Z"
   },
   {
    "duration": 5,
    "start_time": "2024-09-30T22:22:33.298Z"
   },
   {
    "duration": 407,
    "start_time": "2024-09-30T22:22:33.305Z"
   },
   {
    "duration": 19,
    "start_time": "2024-09-30T22:22:33.715Z"
   },
   {
    "duration": 3,
    "start_time": "2024-09-30T22:22:33.736Z"
   },
   {
    "duration": 183,
    "start_time": "2024-09-30T22:22:33.741Z"
   },
   {
    "duration": 8,
    "start_time": "2024-09-30T22:22:33.926Z"
   },
   {
    "duration": 10,
    "start_time": "2024-09-30T22:22:33.935Z"
   },
   {
    "duration": 5,
    "start_time": "2024-09-30T22:22:33.946Z"
   },
   {
    "duration": 982,
    "start_time": "2024-09-30T22:22:33.953Z"
   },
   {
    "duration": 29,
    "start_time": "2024-09-30T22:22:34.937Z"
   },
   {
    "duration": 831,
    "start_time": "2024-09-30T22:22:34.968Z"
   },
   {
    "duration": 47,
    "start_time": "2024-09-30T22:22:35.801Z"
   },
   {
    "duration": 11,
    "start_time": "2024-09-30T22:22:35.849Z"
   },
   {
    "duration": 6,
    "start_time": "2024-09-30T22:22:35.862Z"
   },
   {
    "duration": 2163,
    "start_time": "2024-10-01T02:59:30.064Z"
   },
   {
    "duration": 176,
    "start_time": "2024-10-01T02:59:32.230Z"
   },
   {
    "duration": 82,
    "start_time": "2024-10-01T02:59:32.407Z"
   },
   {
    "duration": 822,
    "start_time": "2024-10-01T02:59:32.491Z"
   },
   {
    "duration": 14,
    "start_time": "2024-10-01T02:59:33.316Z"
   },
   {
    "duration": 14,
    "start_time": "2024-10-01T02:59:33.332Z"
   },
   {
    "duration": 115,
    "start_time": "2024-10-01T02:59:33.348Z"
   },
   {
    "duration": 11,
    "start_time": "2024-10-01T02:59:33.464Z"
   },
   {
    "duration": 115,
    "start_time": "2024-10-01T02:59:33.477Z"
   },
   {
    "duration": 98,
    "start_time": "2024-10-01T02:59:33.596Z"
   },
   {
    "duration": 54,
    "start_time": "2024-10-01T02:59:33.696Z"
   },
   {
    "duration": 12,
    "start_time": "2024-10-01T02:59:33.752Z"
   },
   {
    "duration": 6,
    "start_time": "2024-10-01T02:59:33.766Z"
   },
   {
    "duration": 47,
    "start_time": "2024-10-01T02:59:33.773Z"
   },
   {
    "duration": 25,
    "start_time": "2024-10-01T02:59:33.822Z"
   },
   {
    "duration": 4,
    "start_time": "2024-10-01T02:59:33.850Z"
   },
   {
    "duration": 2,
    "start_time": "2024-10-01T02:59:33.856Z"
   },
   {
    "duration": 4,
    "start_time": "2024-10-01T02:59:33.861Z"
   },
   {
    "duration": 777,
    "start_time": "2024-10-01T02:59:33.866Z"
   },
   {
    "duration": 716,
    "start_time": "2024-10-01T02:59:34.645Z"
   },
   {
    "duration": 10,
    "start_time": "2024-10-01T02:59:35.362Z"
   },
   {
    "duration": 7,
    "start_time": "2024-10-01T02:59:35.373Z"
   },
   {
    "duration": 25,
    "start_time": "2024-10-01T02:59:35.381Z"
   },
   {
    "duration": 5,
    "start_time": "2024-10-01T02:59:35.407Z"
   },
   {
    "duration": 8,
    "start_time": "2024-10-01T02:59:35.413Z"
   },
   {
    "duration": 9,
    "start_time": "2024-10-01T02:59:35.422Z"
   },
   {
    "duration": 16,
    "start_time": "2024-10-01T02:59:35.432Z"
   },
   {
    "duration": 5,
    "start_time": "2024-10-01T02:59:35.452Z"
   },
   {
    "duration": 65,
    "start_time": "2024-10-01T02:59:35.458Z"
   },
   {
    "duration": 6,
    "start_time": "2024-10-01T02:59:35.525Z"
   },
   {
    "duration": 266,
    "start_time": "2024-10-01T02:59:35.533Z"
   },
   {
    "duration": 22,
    "start_time": "2024-10-01T02:59:35.804Z"
   },
   {
    "duration": 5,
    "start_time": "2024-10-01T02:59:35.828Z"
   },
   {
    "duration": 3,
    "start_time": "2024-10-01T02:59:35.836Z"
   },
   {
    "duration": 240,
    "start_time": "2024-10-01T02:59:35.841Z"
   },
   {
    "duration": 126,
    "start_time": "2024-10-01T02:59:36.083Z"
   },
   {
    "duration": 184,
    "start_time": "2024-10-01T02:59:36.210Z"
   },
   {
    "duration": 359,
    "start_time": "2024-10-01T02:59:36.396Z"
   },
   {
    "duration": 56,
    "start_time": "2024-10-01T02:59:36.757Z"
   },
   {
    "duration": 138,
    "start_time": "2024-10-01T02:59:36.815Z"
   },
   {
    "duration": 136,
    "start_time": "2024-10-01T02:59:36.955Z"
   },
   {
    "duration": 14,
    "start_time": "2024-10-01T02:59:37.093Z"
   },
   {
    "duration": 6,
    "start_time": "2024-10-01T02:59:37.109Z"
   },
   {
    "duration": 391,
    "start_time": "2024-10-01T02:59:37.117Z"
   },
   {
    "duration": 10,
    "start_time": "2024-10-01T02:59:37.509Z"
   },
   {
    "duration": 3,
    "start_time": "2024-10-01T02:59:37.521Z"
   },
   {
    "duration": 186,
    "start_time": "2024-10-01T02:59:37.525Z"
   },
   {
    "duration": 5,
    "start_time": "2024-10-01T02:59:37.713Z"
   },
   {
    "duration": 9,
    "start_time": "2024-10-01T02:59:37.720Z"
   },
   {
    "duration": 5,
    "start_time": "2024-10-01T02:59:37.730Z"
   },
   {
    "duration": 933,
    "start_time": "2024-10-01T02:59:37.736Z"
   },
   {
    "duration": 35,
    "start_time": "2024-10-01T02:59:38.670Z"
   },
   {
    "duration": 720,
    "start_time": "2024-10-01T02:59:38.708Z"
   },
   {
    "duration": 38,
    "start_time": "2024-10-01T02:59:39.430Z"
   },
   {
    "duration": 10,
    "start_time": "2024-10-01T02:59:39.469Z"
   },
   {
    "duration": 5,
    "start_time": "2024-10-01T02:59:39.480Z"
   },
   {
    "duration": 254,
    "start_time": "2024-10-01T03:04:28.101Z"
   },
   {
    "duration": 20,
    "start_time": "2024-10-01T03:04:37.027Z"
   },
   {
    "duration": 108,
    "start_time": "2024-10-01T03:05:26.827Z"
   },
   {
    "duration": 449,
    "start_time": "2024-10-01T03:07:28.930Z"
   },
   {
    "duration": 180,
    "start_time": "2024-10-01T03:07:29.381Z"
   },
   {
    "duration": 48,
    "start_time": "2024-10-01T03:07:29.562Z"
   },
   {
    "duration": 732,
    "start_time": "2024-10-01T03:07:29.613Z"
   },
   {
    "duration": 13,
    "start_time": "2024-10-01T03:07:30.346Z"
   },
   {
    "duration": 13,
    "start_time": "2024-10-01T03:07:30.360Z"
   },
   {
    "duration": 113,
    "start_time": "2024-10-01T03:07:30.375Z"
   },
   {
    "duration": 16,
    "start_time": "2024-10-01T03:07:30.490Z"
   },
   {
    "duration": 108,
    "start_time": "2024-10-01T03:07:30.508Z"
   },
   {
    "duration": 102,
    "start_time": "2024-10-01T03:07:30.620Z"
   },
   {
    "duration": 53,
    "start_time": "2024-10-01T03:07:30.724Z"
   },
   {
    "duration": 28,
    "start_time": "2024-10-01T03:07:30.778Z"
   },
   {
    "duration": 7,
    "start_time": "2024-10-01T03:07:30.808Z"
   },
   {
    "duration": 23,
    "start_time": "2024-10-01T03:07:30.816Z"
   },
   {
    "duration": 21,
    "start_time": "2024-10-01T03:07:30.841Z"
   },
   {
    "duration": 4,
    "start_time": "2024-10-01T03:07:30.863Z"
   },
   {
    "duration": 2,
    "start_time": "2024-10-01T03:07:30.869Z"
   },
   {
    "duration": 4,
    "start_time": "2024-10-01T03:07:30.905Z"
   },
   {
    "duration": 787,
    "start_time": "2024-10-01T03:07:30.910Z"
   },
   {
    "duration": 700,
    "start_time": "2024-10-01T03:07:31.699Z"
   },
   {
    "duration": 10,
    "start_time": "2024-10-01T03:07:32.401Z"
   },
   {
    "duration": 9,
    "start_time": "2024-10-01T03:07:32.413Z"
   },
   {
    "duration": 14,
    "start_time": "2024-10-01T03:07:32.424Z"
   },
   {
    "duration": 10,
    "start_time": "2024-10-01T03:07:32.439Z"
   },
   {
    "duration": 8,
    "start_time": "2024-10-01T03:07:32.451Z"
   },
   {
    "duration": 46,
    "start_time": "2024-10-01T03:07:32.461Z"
   },
   {
    "duration": 17,
    "start_time": "2024-10-01T03:07:32.509Z"
   },
   {
    "duration": 138,
    "start_time": "2024-10-01T03:07:32.532Z"
   },
   {
    "duration": 46,
    "start_time": "2024-10-01T03:07:32.672Z"
   },
   {
    "duration": 6,
    "start_time": "2024-10-01T03:07:32.721Z"
   },
   {
    "duration": 248,
    "start_time": "2024-10-01T03:07:32.729Z"
   },
   {
    "duration": 32,
    "start_time": "2024-10-01T03:07:32.979Z"
   },
   {
    "duration": 4,
    "start_time": "2024-10-01T03:07:33.013Z"
   },
   {
    "duration": 3,
    "start_time": "2024-10-01T03:07:33.019Z"
   },
   {
    "duration": 246,
    "start_time": "2024-10-01T03:07:33.024Z"
   },
   {
    "duration": 151,
    "start_time": "2024-10-01T03:07:33.272Z"
   },
   {
    "duration": 327,
    "start_time": "2024-10-01T03:07:33.424Z"
   },
   {
    "duration": 35,
    "start_time": "2024-10-01T03:07:33.753Z"
   },
   {
    "duration": 135,
    "start_time": "2024-10-01T03:07:33.789Z"
   },
   {
    "duration": 107,
    "start_time": "2024-10-01T03:07:33.926Z"
   },
   {
    "duration": 11,
    "start_time": "2024-10-01T03:07:34.035Z"
   },
   {
    "duration": 5,
    "start_time": "2024-10-01T03:07:34.047Z"
   },
   {
    "duration": 400,
    "start_time": "2024-10-01T03:07:34.053Z"
   },
   {
    "duration": 10,
    "start_time": "2024-10-01T03:07:34.454Z"
   },
   {
    "duration": 3,
    "start_time": "2024-10-01T03:07:34.466Z"
   },
   {
    "duration": 179,
    "start_time": "2024-10-01T03:07:34.471Z"
   },
   {
    "duration": 5,
    "start_time": "2024-10-01T03:07:34.652Z"
   },
   {
    "duration": 9,
    "start_time": "2024-10-01T03:07:34.658Z"
   },
   {
    "duration": 5,
    "start_time": "2024-10-01T03:07:34.668Z"
   },
   {
    "duration": 923,
    "start_time": "2024-10-01T03:07:34.674Z"
   },
   {
    "duration": 28,
    "start_time": "2024-10-01T03:07:35.599Z"
   },
   {
    "duration": 726,
    "start_time": "2024-10-01T03:07:35.629Z"
   },
   {
    "duration": 31,
    "start_time": "2024-10-01T03:07:36.357Z"
   },
   {
    "duration": 24,
    "start_time": "2024-10-01T03:07:36.390Z"
   },
   {
    "duration": 7,
    "start_time": "2024-10-01T03:07:36.416Z"
   },
   {
    "duration": 119,
    "start_time": "2024-10-01T03:15:46.367Z"
   }
  ],
  "kernelspec": {
   "display_name": "Python 3 (ipykernel)",
   "language": "python",
   "name": "python3"
  },
  "language_info": {
   "codemirror_mode": {
    "name": "ipython",
    "version": 3
   },
   "file_extension": ".py",
   "mimetype": "text/x-python",
   "name": "python",
   "nbconvert_exporter": "python",
   "pygments_lexer": "ipython3",
   "version": "3.9.19"
  },
  "toc": {
   "base_numbering": 1,
   "nav_menu": {},
   "number_sections": true,
   "sideBar": true,
   "skip_h1_title": true,
   "title_cell": "Table of Contents",
   "title_sidebar": "Contents",
   "toc_cell": false,
   "toc_position": {
    "height": "calc(100% - 180px)",
    "left": "10px",
    "top": "150px",
    "width": "165px"
   },
   "toc_section_display": true,
   "toc_window_display": false
  },
  "vscode": {
   "interpreter": {
    "hash": "01a7be9ec63e704a62cefc5fe7a4756944464ee731be31632bdf42a4cb4688cf"
   }
  }
 },
 "nbformat": 4,
 "nbformat_minor": 5
}
